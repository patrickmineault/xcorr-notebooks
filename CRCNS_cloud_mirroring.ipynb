{
  "nbformat": 4,
  "nbformat_minor": 0,
  "metadata": {
    "colab": {
      "name": "Cloud shell",
      "provenance": [],
      "collapsed_sections": [],
      "authorship_tag": "ABX9TyNHGXmrKCOHIvHu2qOFOqWn",
      "include_colab_link": true
    },
    "kernelspec": {
      "name": "python3",
      "display_name": "Python 3"
    }
  },
  "cells": [
    {
      "cell_type": "markdown",
      "metadata": {
        "id": "view-in-github",
        "colab_type": "text"
      },
      "source": [
        "<a href=\"https://colab.research.google.com/github/patrickmineault/xcorr-notebooks/blob/master/CRCNS_cloud_mirroring.ipynb\" target=\"_parent\"><img src=\"https://colab.research.google.com/assets/colab-badge.svg\" alt=\"Open In Colab\"/></a>"
      ]
    },
    {
      "cell_type": "markdown",
      "metadata": {
        "id": "v2qWl5yA45Nq"
      },
      "source": [
        "# Keeping everything in the cloud\r\n",
        "\r\n",
        "This sample shows how you can mirror a big file from CRCNS.org without having to download locally. "
      ]
    },
    {
      "cell_type": "code",
      "metadata": {
        "id": "1L3xVETK1zly"
      },
      "source": [
        "project_id = 'gcs-project-id'  #@param\r\n",
        "bucket_name = 'gcs-bucket' #@param\r\n",
        "crcns_username = 'username'  #@\r\n",
        "crcns_password = 'password'"
      ],
      "execution_count": null,
      "outputs": []
    },
    {
      "cell_type": "code",
      "metadata": {
        "id": "m0SABpxW2YMA"
      },
      "source": [
        "from google.colab import auth\r\n",
        "auth.authenticate_user()\r\n",
        "\r\n",
        "!curl -d \"username={crcns_username}&password={crcns_password}&fn=pvc-1/crcns-pvc1.zip&submit=Login\" --output /content/crcns-pvc1.zip https://portal.nersc.gov/project/crcns/download/index.php\r\n",
        "!gcloud config set project {project_id}\r\n",
        "!gsutil cp crcns-pvc1.zip gs://{bucket_name}/"
      ],
      "execution_count": null,
      "outputs": []
    }
  ]
}