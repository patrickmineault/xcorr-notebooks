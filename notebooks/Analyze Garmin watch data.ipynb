{
 "cells": [
  {
   "cell_type": "markdown",
   "id": "24c08208-f71e-466b-9e31-c35feec5daaa",
   "metadata": {},
   "source": [
    "On April 25th, 2022, I went climbing and fell and broke my leg. I had my Garmin watch on at the time, so I could see exactly what happened to my body, minute by minute. "
   ]
  },
  {
   "cell_type": "code",
   "execution_count": 1,
   "id": "9d8a872f-a089-4aa2-a196-e4d62a808dbe",
   "metadata": {},
   "outputs": [
    {
     "name": "stderr",
     "output_type": "stream",
     "text": [
      "/var/folders/vz/6yxqzl6j5g384z7j_3pj2p1m0000gn/T/ipykernel_95666/590341342.py:16: DtypeWarning: Columns (7,13,16,19,22,26,29,32,38,41,44,56,62,65,74,150,153,156,159,162,165,168,171,174,177,180,183,186,189,192,195,198,201) have mixed types. Specify dtype option on import or set low_memory=False.\n",
      "  df = pd.read_csv(filename)\n",
      "/var/folders/vz/6yxqzl6j5g384z7j_3pj2p1m0000gn/T/ipykernel_95666/590341342.py:16: DtypeWarning: Columns (7,13,16,19,22,26,29,32,38,41,44,56,62,65,74,150,153,156,159,162,165,168,171,174,177,180,183,186,189,192,195,198,201) have mixed types. Specify dtype option on import or set low_memory=False.\n",
      "  df = pd.read_csv(filename)\n",
      "/var/folders/vz/6yxqzl6j5g384z7j_3pj2p1m0000gn/T/ipykernel_95666/590341342.py:16: DtypeWarning: Columns (7,13,16,19,22,26,29,32,38,41,44,56,62,65,74,150,153,156,159,162,165,168,171,174,177,180,183,186,189,192,195,198,201) have mixed types. Specify dtype option on import or set low_memory=False.\n",
      "  df = pd.read_csv(filename)\n",
      "/var/folders/vz/6yxqzl6j5g384z7j_3pj2p1m0000gn/T/ipykernel_95666/590341342.py:16: DtypeWarning: Columns (7,13,16,19,22,26,29,32,38,41,44,56,62,65,74,150,153,156,159,162,165,168,171,174,177,180,183,186,189,192,195,198,201) have mixed types. Specify dtype option on import or set low_memory=False.\n",
      "  df = pd.read_csv(filename)\n",
      "/var/folders/vz/6yxqzl6j5g384z7j_3pj2p1m0000gn/T/ipykernel_95666/590341342.py:16: DtypeWarning: Columns (22,38,46,62,107,110,113,116,171,174,177,180,183,186,189,192,195,198,201) have mixed types. Specify dtype option on import or set low_memory=False.\n",
      "  df = pd.read_csv(filename)\n",
      "/var/folders/vz/6yxqzl6j5g384z7j_3pj2p1m0000gn/T/ipykernel_95666/590341342.py:16: DtypeWarning: Columns (7,13,16,19,22,26,29,32,38,41,44,56,62,65,74,150,153,156,159,162,165,168,171,174,177,180,183,186,189,192,195,198,201) have mixed types. Specify dtype option on import or set low_memory=False.\n",
      "  df = pd.read_csv(filename)\n",
      "/var/folders/vz/6yxqzl6j5g384z7j_3pj2p1m0000gn/T/ipykernel_95666/590341342.py:16: DtypeWarning: Columns (7,13,16,19,22,26,29,32,38,41,44,56,62,65,74,150,153,156,159,162,165,168,171,174,177,180,183,186,189,192,195,198,201) have mixed types. Specify dtype option on import or set low_memory=False.\n",
      "  df = pd.read_csv(filename)\n",
      "/var/folders/vz/6yxqzl6j5g384z7j_3pj2p1m0000gn/T/ipykernel_95666/590341342.py:16: DtypeWarning: Columns (7,13,16,19,22,26,29,32,38,41,44,56,62,65,74,150,153,156,159,162,165,168,171,174,177,180,183,186,189,192,195,198,201) have mixed types. Specify dtype option on import or set low_memory=False.\n",
      "  df = pd.read_csv(filename)\n",
      "/var/folders/vz/6yxqzl6j5g384z7j_3pj2p1m0000gn/T/ipykernel_95666/590341342.py:16: DtypeWarning: Columns (7,13,16,19,22,26,29,32,38,41,44,56,62,65,74,150,153,156,159,162,165,168,171,174,177,180,183,186,189,192,195,198,201) have mixed types. Specify dtype option on import or set low_memory=False.\n",
      "  df = pd.read_csv(filename)\n",
      "/var/folders/vz/6yxqzl6j5g384z7j_3pj2p1m0000gn/T/ipykernel_95666/590341342.py:16: DtypeWarning: Columns (7,13,16,19,22,26,29,32,38,41,44,56,62,65,74,150,153,156,159,162,165,168,171,174,177,180,183,186,189,192,195,198,201) have mixed types. Specify dtype option on import or set low_memory=False.\n",
      "  df = pd.read_csv(filename)\n",
      "/var/folders/vz/6yxqzl6j5g384z7j_3pj2p1m0000gn/T/ipykernel_95666/590341342.py:16: DtypeWarning: Columns (7,13,16,19,22,26,29,32,38,41,44,56,62,65,74,150,153,156,159,162,165,168,171,174,177,180,183,186,189,192,195,198,201) have mixed types. Specify dtype option on import or set low_memory=False.\n",
      "  df = pd.read_csv(filename)\n",
      "/var/folders/vz/6yxqzl6j5g384z7j_3pj2p1m0000gn/T/ipykernel_95666/590341342.py:16: DtypeWarning: Columns (7,13,16,19,22,26,29,32,38,41,44,56,62,65,74,150,153,156,159,162,165,168,171,174,177,180,183,186,189,192,195,198,201) have mixed types. Specify dtype option on import or set low_memory=False.\n",
      "  df = pd.read_csv(filename)\n",
      "/var/folders/vz/6yxqzl6j5g384z7j_3pj2p1m0000gn/T/ipykernel_95666/590341342.py:16: DtypeWarning: Columns (7,13,16,19,22,26,29,32,38,41,44,56,62,65,74,150,153,156,159,162,165,168,171,174,177,180,183,186,189,192,195,198,201) have mixed types. Specify dtype option on import or set low_memory=False.\n",
      "  df = pd.read_csv(filename)\n",
      "/var/folders/vz/6yxqzl6j5g384z7j_3pj2p1m0000gn/T/ipykernel_95666/590341342.py:16: DtypeWarning: Columns (7,11,13,16,26,29,32,38,41,44,47,59,62,65,68,77,80,83,150,153,156,159,162,165,168,171,174,177,180,183,186,189,192,195,198,201) have mixed types. Specify dtype option on import or set low_memory=False.\n",
      "  df = pd.read_csv(filename)\n",
      "/var/folders/vz/6yxqzl6j5g384z7j_3pj2p1m0000gn/T/ipykernel_95666/590341342.py:16: DtypeWarning: Columns (13,22,46,65,68,102,105,108,110,111,113,114,116,117,119,120,123,126,129,132,135,138,141,144,147,150,153,156,159,162,165,168,171,174,177,180,183,186,189,192,195,198,201) have mixed types. Specify dtype option on import or set low_memory=False.\n",
      "  df = pd.read_csv(filename)\n",
      "/var/folders/vz/6yxqzl6j5g384z7j_3pj2p1m0000gn/T/ipykernel_95666/590341342.py:16: DtypeWarning: Columns (7,13,16,19,22,26,29,32,38,41,44,56,62,65,74,150,153,156,159,162,165,168,171,174,177,180,183,186,189,192,195,198,201) have mixed types. Specify dtype option on import or set low_memory=False.\n",
      "  df = pd.read_csv(filename)\n",
      "/var/folders/vz/6yxqzl6j5g384z7j_3pj2p1m0000gn/T/ipykernel_95666/590341342.py:16: DtypeWarning: Columns (7,13,16,19,22,26,29,32,38,41,44,56,62,65,74,150,153,156,159,162,165,168,171,174,177,180,183,186,189,192,195,198,201) have mixed types. Specify dtype option on import or set low_memory=False.\n",
      "  df = pd.read_csv(filename)\n",
      "/var/folders/vz/6yxqzl6j5g384z7j_3pj2p1m0000gn/T/ipykernel_95666/590341342.py:16: DtypeWarning: Columns (13,22,41,46,65,68,110,113,116,119,171,174,177,180,183,186,189,192,195,198,201) have mixed types. Specify dtype option on import or set low_memory=False.\n",
      "  df = pd.read_csv(filename)\n",
      "/var/folders/vz/6yxqzl6j5g384z7j_3pj2p1m0000gn/T/ipykernel_95666/590341342.py:16: DtypeWarning: Columns (13,22,46,65,68,110,113,116,119,171,174,177,180,183,186,189,192,195,198,201) have mixed types. Specify dtype option on import or set low_memory=False.\n",
      "  df = pd.read_csv(filename)\n",
      "/var/folders/vz/6yxqzl6j5g384z7j_3pj2p1m0000gn/T/ipykernel_95666/590341342.py:16: DtypeWarning: Columns (13,22,46,65,68,110,113,116,119,171,174,177,180,183,186,189,192,195,198,201) have mixed types. Specify dtype option on import or set low_memory=False.\n",
      "  df = pd.read_csv(filename)\n",
      "/var/folders/vz/6yxqzl6j5g384z7j_3pj2p1m0000gn/T/ipykernel_95666/590341342.py:16: DtypeWarning: Columns (22,38,46,62,65,86,107,110,113,116,171,174,177,180,183,186,189,192,195,198,201) have mixed types. Specify dtype option on import or set low_memory=False.\n",
      "  df = pd.read_csv(filename)\n",
      "/var/folders/vz/6yxqzl6j5g384z7j_3pj2p1m0000gn/T/ipykernel_95666/590341342.py:16: DtypeWarning: Columns (7,13,16,19,22,26,29,32,38,41,44,56,62,65,74,150,153,156,159,162,165,168,171,174,177,180,183,186,189,192,195,198,201) have mixed types. Specify dtype option on import or set low_memory=False.\n",
      "  df = pd.read_csv(filename)\n",
      "/var/folders/vz/6yxqzl6j5g384z7j_3pj2p1m0000gn/T/ipykernel_95666/590341342.py:16: DtypeWarning: Columns (13,22,46,65,68,110,113,116,119,171,174,177,180,183,186,189,192,195,198,201) have mixed types. Specify dtype option on import or set low_memory=False.\n",
      "  df = pd.read_csv(filename)\n",
      "/var/folders/vz/6yxqzl6j5g384z7j_3pj2p1m0000gn/T/ipykernel_95666/590341342.py:16: DtypeWarning: Columns (7,13,16,19,22,26,29,32,38,41,44,56,62,65,74,150,153,156,159,162,165,168,171,174,177,180,183,186,189,192,195,198,201) have mixed types. Specify dtype option on import or set low_memory=False.\n",
      "  df = pd.read_csv(filename)\n",
      "/var/folders/vz/6yxqzl6j5g384z7j_3pj2p1m0000gn/T/ipykernel_95666/590341342.py:16: DtypeWarning: Columns (7,13,16,19,22,26,29,32,38,41,44,56,62,65,74,150,153,156,159,162,165,168,171,174,177,180,183,186,189,192,195,198,201) have mixed types. Specify dtype option on import or set low_memory=False.\n",
      "  df = pd.read_csv(filename)\n",
      "/var/folders/vz/6yxqzl6j5g384z7j_3pj2p1m0000gn/T/ipykernel_95666/590341342.py:16: DtypeWarning: Columns (13,22,43,62,65,89,92,101,104,171,174,177,180,183,186,189,192,195,198,201) have mixed types. Specify dtype option on import or set low_memory=False.\n",
      "  df = pd.read_csv(filename)\n",
      "/var/folders/vz/6yxqzl6j5g384z7j_3pj2p1m0000gn/T/ipykernel_95666/590341342.py:16: DtypeWarning: Columns (7,13,16,19,22,26,29,32,38,41,44,56,62,65,74,150,153,156,159,162,165,168,171,174,177,180,183,186,189,192,195,198,201) have mixed types. Specify dtype option on import or set low_memory=False.\n",
      "  df = pd.read_csv(filename)\n",
      "/var/folders/vz/6yxqzl6j5g384z7j_3pj2p1m0000gn/T/ipykernel_95666/590341342.py:16: DtypeWarning: Columns (13,22,46,65,68,102,105,108,110,111,113,114,116,117,119,120,123,126,129,132,135,138,141,144,147,150,153,156,159,162,165,168,171,174,177,180,183,186,189,192,195,198,201) have mixed types. Specify dtype option on import or set low_memory=False.\n",
      "  df = pd.read_csv(filename)\n",
      "/var/folders/vz/6yxqzl6j5g384z7j_3pj2p1m0000gn/T/ipykernel_95666/590341342.py:16: DtypeWarning: Columns (13,22,46,65,68,110,113,116,119,171,174,177,180,183,186,189,192,195,198,201) have mixed types. Specify dtype option on import or set low_memory=False.\n",
      "  df = pd.read_csv(filename)\n"
     ]
    }
   ],
   "source": [
    "# Check out timestamps\n",
    "import altair as alt\n",
    "import datetime\n",
    "import glob\n",
    "import matplotlib.pyplot as plt\n",
    "import numpy as np\n",
    "import pandas as pd\n",
    "\n",
    "alt.renderers.enable('mimetype')\n",
    "alt.themes.enable('fivethirtyeight')\n",
    "\n",
    "dfs = []\n",
    "for filename in glob.glob('fit_processing/subject_data/patrick/fit_files/*.csv'):\n",
    "    if 'records_data' in filename:\n",
    "        continue\n",
    "    df = pd.read_csv(filename)\n",
    "    \n",
    "    timestamp_locs = (df['Field 1'] == 'timestamp') & (df['Units 1'] == 's')\n",
    "    timestamps = np.ones(df.shape[0]) * np.nan\n",
    "    timestamps[timestamp_locs] = df[timestamp_locs]['Value 1'].values\n",
    "    \n",
    "    for i in range(2, 68):\n",
    "        if f'Field {i}' in df.columns:\n",
    "            timestamp_locs = (df[f'Field {i}'] == 'timestamp') & (df[f'Units {i}'] == 's')\n",
    "            if np.any(timestamp_locs):\n",
    "                timestamps[timestamp_locs] = df[timestamp_locs][f'Value {i}'].values\n",
    "        else:\n",
    "            break\n",
    "    \n",
    "    times = pd.Series(timestamps)\n",
    "    times = times.ffill()\n",
    "    df['times'] = times\n",
    "    dfs.append(df)\n",
    "    \n",
    "df = pd.concat(dfs, axis=0)"
   ]
  },
  {
   "cell_type": "code",
   "execution_count": 2,
   "id": "bcb46a38-8765-42a8-9c49-af90f338e63d",
   "metadata": {},
   "outputs": [
    {
     "data": {
      "text/html": [
       "<div>\n",
       "<style scoped>\n",
       "    .dataframe tbody tr th:only-of-type {\n",
       "        vertical-align: middle;\n",
       "    }\n",
       "\n",
       "    .dataframe tbody tr th {\n",
       "        vertical-align: top;\n",
       "    }\n",
       "\n",
       "    .dataframe thead th {\n",
       "        text-align: right;\n",
       "    }\n",
       "</style>\n",
       "<table border=\"1\" class=\"dataframe\">\n",
       "  <thead>\n",
       "    <tr style=\"text-align: right;\">\n",
       "      <th></th>\n",
       "      <th>Type</th>\n",
       "      <th>Local Number</th>\n",
       "      <th>Message</th>\n",
       "      <th>Field 1</th>\n",
       "      <th>Value 1</th>\n",
       "      <th>Units 1</th>\n",
       "      <th>Field 2</th>\n",
       "      <th>Value 2</th>\n",
       "      <th>Units 2</th>\n",
       "      <th>Field 3</th>\n",
       "      <th>...</th>\n",
       "      <th>Value 67</th>\n",
       "      <th>Units 67</th>\n",
       "      <th>Unnamed: 204</th>\n",
       "      <th>Unnamed: 81</th>\n",
       "      <th>Unnamed: 21</th>\n",
       "      <th>Unnamed: 15</th>\n",
       "      <th>Unnamed: 18</th>\n",
       "      <th>Unnamed: 42</th>\n",
       "      <th>Unnamed: 36</th>\n",
       "      <th>Unnamed: 33</th>\n",
       "    </tr>\n",
       "  </thead>\n",
       "  <tbody>\n",
       "    <tr>\n",
       "      <th>0</th>\n",
       "      <td>Definition</td>\n",
       "      <td>0</td>\n",
       "      <td>file_id</td>\n",
       "      <td>serial_number</td>\n",
       "      <td>1</td>\n",
       "      <td>NaN</td>\n",
       "      <td>time_created</td>\n",
       "      <td>1.0</td>\n",
       "      <td>NaN</td>\n",
       "      <td>manufacturer</td>\n",
       "      <td>...</td>\n",
       "      <td>NaN</td>\n",
       "      <td>NaN</td>\n",
       "      <td>NaN</td>\n",
       "      <td>NaN</td>\n",
       "      <td>NaN</td>\n",
       "      <td>NaN</td>\n",
       "      <td>NaN</td>\n",
       "      <td>NaN</td>\n",
       "      <td>NaN</td>\n",
       "      <td>NaN</td>\n",
       "    </tr>\n",
       "    <tr>\n",
       "      <th>1</th>\n",
       "      <td>Data</td>\n",
       "      <td>0</td>\n",
       "      <td>file_id</td>\n",
       "      <td>serial_number</td>\n",
       "      <td>3350125780</td>\n",
       "      <td>NaN</td>\n",
       "      <td>time_created</td>\n",
       "      <td>1012066740.0</td>\n",
       "      <td>NaN</td>\n",
       "      <td>manufacturer</td>\n",
       "      <td>...</td>\n",
       "      <td>NaN</td>\n",
       "      <td>NaN</td>\n",
       "      <td>NaN</td>\n",
       "      <td>NaN</td>\n",
       "      <td>NaN</td>\n",
       "      <td>NaN</td>\n",
       "      <td>NaN</td>\n",
       "      <td>NaN</td>\n",
       "      <td>NaN</td>\n",
       "      <td>NaN</td>\n",
       "    </tr>\n",
       "    <tr>\n",
       "      <th>2</th>\n",
       "      <td>Definition</td>\n",
       "      <td>1</td>\n",
       "      <td>device_info</td>\n",
       "      <td>timestamp</td>\n",
       "      <td>1</td>\n",
       "      <td>NaN</td>\n",
       "      <td>serial_number</td>\n",
       "      <td>1.0</td>\n",
       "      <td>NaN</td>\n",
       "      <td>manufacturer</td>\n",
       "      <td>...</td>\n",
       "      <td>NaN</td>\n",
       "      <td>NaN</td>\n",
       "      <td>NaN</td>\n",
       "      <td>NaN</td>\n",
       "      <td>NaN</td>\n",
       "      <td>NaN</td>\n",
       "      <td>NaN</td>\n",
       "      <td>NaN</td>\n",
       "      <td>NaN</td>\n",
       "      <td>NaN</td>\n",
       "    </tr>\n",
       "    <tr>\n",
       "      <th>3</th>\n",
       "      <td>Data</td>\n",
       "      <td>1</td>\n",
       "      <td>device_info</td>\n",
       "      <td>timestamp</td>\n",
       "      <td>1012066740</td>\n",
       "      <td>s</td>\n",
       "      <td>serial_number</td>\n",
       "      <td>3350125780.0</td>\n",
       "      <td>NaN</td>\n",
       "      <td>manufacturer</td>\n",
       "      <td>...</td>\n",
       "      <td>NaN</td>\n",
       "      <td>NaN</td>\n",
       "      <td>NaN</td>\n",
       "      <td>NaN</td>\n",
       "      <td>NaN</td>\n",
       "      <td>NaN</td>\n",
       "      <td>NaN</td>\n",
       "      <td>NaN</td>\n",
       "      <td>NaN</td>\n",
       "      <td>NaN</td>\n",
       "    </tr>\n",
       "    <tr>\n",
       "      <th>4</th>\n",
       "      <td>Definition</td>\n",
       "      <td>2</td>\n",
       "      <td>software</td>\n",
       "      <td>version</td>\n",
       "      <td>1</td>\n",
       "      <td>NaN</td>\n",
       "      <td>NaN</td>\n",
       "      <td>NaN</td>\n",
       "      <td>NaN</td>\n",
       "      <td>NaN</td>\n",
       "      <td>...</td>\n",
       "      <td>NaN</td>\n",
       "      <td>NaN</td>\n",
       "      <td>NaN</td>\n",
       "      <td>NaN</td>\n",
       "      <td>NaN</td>\n",
       "      <td>NaN</td>\n",
       "      <td>NaN</td>\n",
       "      <td>NaN</td>\n",
       "      <td>NaN</td>\n",
       "      <td>NaN</td>\n",
       "    </tr>\n",
       "  </tbody>\n",
       "</table>\n",
       "<p>5 rows × 216 columns</p>\n",
       "</div>"
      ],
      "text/plain": [
       "         Type  Local Number      Message        Field 1     Value 1 Units 1  \\\n",
       "0  Definition             0      file_id  serial_number           1     NaN   \n",
       "1        Data             0      file_id  serial_number  3350125780     NaN   \n",
       "2  Definition             1  device_info      timestamp           1     NaN   \n",
       "3        Data             1  device_info      timestamp  1012066740       s   \n",
       "4  Definition             2     software        version           1     NaN   \n",
       "\n",
       "         Field 2       Value 2 Units 2       Field 3  ... Value 67 Units 67  \\\n",
       "0   time_created           1.0     NaN  manufacturer  ...      NaN      NaN   \n",
       "1   time_created  1012066740.0     NaN  manufacturer  ...      NaN      NaN   \n",
       "2  serial_number           1.0     NaN  manufacturer  ...      NaN      NaN   \n",
       "3  serial_number  3350125780.0     NaN  manufacturer  ...      NaN      NaN   \n",
       "4            NaN           NaN     NaN           NaN  ...      NaN      NaN   \n",
       "\n",
       "  Unnamed: 204 Unnamed: 81 Unnamed: 21 Unnamed: 15 Unnamed: 18 Unnamed: 42  \\\n",
       "0          NaN         NaN         NaN         NaN         NaN         NaN   \n",
       "1          NaN         NaN         NaN         NaN         NaN         NaN   \n",
       "2          NaN         NaN         NaN         NaN         NaN         NaN   \n",
       "3          NaN         NaN         NaN         NaN         NaN         NaN   \n",
       "4          NaN         NaN         NaN         NaN         NaN         NaN   \n",
       "\n",
       "  Unnamed: 36 Unnamed: 33  \n",
       "0         NaN         NaN  \n",
       "1         NaN         NaN  \n",
       "2         NaN         NaN  \n",
       "3         NaN         NaN  \n",
       "4         NaN         NaN  \n",
       "\n",
       "[5 rows x 216 columns]"
      ]
     },
     "execution_count": 2,
     "metadata": {},
     "output_type": "execute_result"
    }
   ],
   "source": [
    "df.head()"
   ]
  },
  {
   "cell_type": "code",
   "execution_count": 3,
   "id": "41eb8214-79eb-44af-8a2e-038f97cf4de1",
   "metadata": {},
   "outputs": [],
   "source": [
    "# melt the dataframe\n",
    "sub_dfs = []\n",
    "for field_num in range(1, 68):\n",
    "    sub_df = df[['times', f'Field {field_num}', f'Value {field_num}', f'Units {field_num}']].rename(\n",
    "            columns={'times': 'timestamp',\n",
    "                     f'Field {field_num}': 'field', \n",
    "                     f'Value {field_num}': 'value', \n",
    "                     f'Units {field_num}': 'units'}\n",
    "    )\n",
    "    \n",
    "    sub_df = sub_df[~sub_df.field.isna()]\n",
    "    sub_dfs.append(sub_df)\n",
    "    \n",
    "df_long = pd.concat(sub_dfs, axis=0)"
   ]
  },
  {
   "cell_type": "markdown",
   "id": "eb2f804a-369f-4363-b01d-0786f2b2ed9b",
   "metadata": {},
   "source": [
    "Garmin indexes from Dec 31st, 1989 because reasons. 4 hours for EST offset."
   ]
  },
  {
   "cell_type": "code",
   "execution_count": 4,
   "id": "0c5745b0-95f1-4bfa-97d9-0c0a29e010fd",
   "metadata": {},
   "outputs": [],
   "source": [
    "delta = 631065600 - 3600 * 4\n",
    "df_long = df_long[~df_long.timestamp.isna()]\n",
    "df_long = df_long.sort_values('timestamp')\n",
    "df_long['datetime'] = pd.to_datetime(df_long.timestamp + delta, unit='s')\n",
    "df_long = df_long[(df_long.datetime >= datetime.datetime(2022, 1, 1)) & \n",
    "                  (df_long.datetime <= datetime.datetime(2023, 1, 1))]"
   ]
  },
  {
   "cell_type": "markdown",
   "id": "d04f3f0d-08c9-46b1-8c8a-52b0abc36883",
   "metadata": {},
   "source": [
    "Plot the heart rate on tht faithful day."
   ]
  },
  {
   "cell_type": "code",
   "execution_count": 5,
   "id": "5f518c6c-b4db-4365-a0d5-ac0ae64dab9d",
   "metadata": {},
   "outputs": [
    {
     "data": {
      "text/plain": [
       "[<matplotlib.lines.Line2D at 0x169235f70>]"
      ]
     },
     "execution_count": 5,
     "metadata": {},
     "output_type": "execute_result"
    },
    {
     "data": {
      "image/png": "[encoded data removed]",
      "text/plain": [
       "<Figure size 864x576 with 1 Axes>"
      ]
     },
     "metadata": {
      "needs_background": "light"
     },
     "output_type": "display_data"
    }
   ],
   "source": [
    "def clean_timeseries(df, freq='5s'):\n",
    "    df = df.set_index(df.datetime)\n",
    "    df.value = df.value.astype(float)\n",
    "    df = df.resample(freq).mean().reset_index()\n",
    "    df = df.interpolate('pad', limit=120)\n",
    "    return df\n",
    "\n",
    "plt.figure(figsize=(12, 8))\n",
    "\n",
    "df_ = df_long[(df_long.datetime >= '2022-04-25 11:35') & (df_long.datetime <= '2022-04-25 12:20')]\n",
    "\n",
    "df_plot = df_[df_.field == 'heart_rate']\n",
    "df_plot = df_plot[df_plot.value.astype(float) > 10]\n",
    "\n",
    "df_plot = clean_timeseries(df_plot)\n",
    "\n",
    "plt.plot(df_plot.datetime, df_plot.value, '-')\n",
    "#plt.ylim((0, 5))\n"
   ]
  },
  {
   "cell_type": "code",
   "execution_count": 6,
   "id": "9ea6dd17-e865-4d64-9311-d7ded9eba478",
   "metadata": {},
   "outputs": [
    {
     "data": {
      "application/vnd.vegalite.v4+json": {
       "$schema": "https://vega.github.io/schema/vega-lite/v4.17.0.json",
       "config": {
        "axis": {
         "gridOpacity": 0.5,
         "labelColor": "black"
        },
        "background": "white",
        "view": {
         "continuousHeight": 300,
         "continuousWidth": 400
        }
       },
       "data": {
        "name": "data-de56c6152bd48c2031405fcc9788e375"
       },
       "datasets": {
        "data-de56c6152bd48c2031405fcc9788e375": [
         {
          "datetime": "2022-04-25T11:35:00",
          "text": "",
          "timestamp": 1019835300.9090909,
          "value": 82.0909090909091
         },
         {
          "datetime": "2022-04-25T11:35:05",
          "text": "",
          "timestamp": 1019835306.5,
          "value": 84.5
         },
         {
          "datetime": "2022-04-25T11:35:10",
          "text": "",
          "timestamp": 1019835312,
          "value": 86.25
         },
         {
          "datetime": "2022-04-25T11:35:15",
          "text": "",
          "timestamp": 1019835317.3333334,
          "value": 87
         },
         {
          "datetime": "2022-04-25T11:35:20",
          "text": "",
          "timestamp": 1019835321,
          "value": 87.33333333333333
         },
         {
          "datetime": "2022-04-25T11:35:25",
          "text": "",
          "timestamp": 1019835328,
          "value": 85.33333333333333
         },
         {
          "datetime": "2022-04-25T11:35:30",
          "text": "",
          "timestamp": 1019835331.3333334,
          "value": 87
         },
         {
          "datetime": "2022-04-25T11:35:35",
          "text": "",
          "timestamp": 1019835337,
          "value": 88
         },
         {
          "datetime": "2022-04-25T11:35:40",
          "text": "",
          "timestamp": 1019835342,
          "value": 89.2
         },
         {
          "datetime": "2022-04-25T11:35:45",
          "text": "",
          "timestamp": 1019835347,
          "value": 87.8
         },
         {
          "datetime": "2022-04-25T11:35:50",
          "text": "",
          "timestamp": 1019835351.5,
          "value": 89.5
         },
         {
          "datetime": "2022-04-25T11:35:55",
          "text": "",
          "timestamp": 1019835357,
          "value": 90.2
         },
         {
          "datetime": "2022-04-25T11:36:00",
          "text": "",
          "timestamp": 1019835362,
          "value": 89.2
         },
         {
          "datetime": "2022-04-25T11:36:05",
          "text": "",
          "timestamp": 1019835368.5,
          "value": 90.5
         },
         {
          "datetime": "2022-04-25T11:36:10",
          "text": "",
          "timestamp": 1019835373,
          "value": 93
         },
         {
          "datetime": "2022-04-25T11:36:15",
          "text": "",
          "timestamp": 1019835375,
          "value": 93
         },
         {
          "datetime": "2022-04-25T11:36:20",
          "text": "",
          "timestamp": 1019835382.3333334,
          "value": 94.66666666666667
         },
         {
          "datetime": "2022-04-25T11:36:25",
          "text": "",
          "timestamp": 1019835386.6666666,
          "value": 93
         },
         {
          "datetime": "2022-04-25T11:36:30",
          "text": "",
          "timestamp": 1019835392.25,
          "value": 93.5
         },
         {
          "datetime": "2022-04-25T11:36:35",
          "text": "",
          "timestamp": 1019835397,
          "value": 87
         },
         {
          "datetime": "2022-04-25T11:36:40",
          "text": "",
          "timestamp": 1019835401.3333334,
          "value": 79
         },
         {
          "datetime": "2022-04-25T11:36:45",
          "text": "",
          "timestamp": 1019835407,
          "value": 78
         },
         {
          "datetime": "2022-04-25T11:36:50",
          "text": "",
          "timestamp": 1019835411.5,
          "value": 77.75
         },
         {
          "datetime": "2022-04-25T11:36:55",
          "text": "",
          "timestamp": 1019835416.5,
          "value": 71.5
         },
         {
          "datetime": "2022-04-25T11:37:00",
          "text": "",
          "timestamp": 1019835422,
          "value": 69
         },
         {
          "datetime": "2022-04-25T11:37:05",
          "text": "",
          "timestamp": 1019835425.5,
          "value": 68.5
         },
         {
          "datetime": "2022-04-25T11:37:10",
          "text": "",
          "timestamp": 1019835433,
          "value": 69
         },
         {
          "datetime": "2022-04-25T11:37:15",
          "text": "",
          "timestamp": 1019835438,
          "value": 69
         },
         {
          "datetime": "2022-04-25T11:37:20",
          "text": "",
          "timestamp": 1019835442.25,
          "value": 71
         },
         {
          "datetime": "2022-04-25T11:37:25",
          "text": "",
          "timestamp": 1019835447.6666666,
          "value": 73
         },
         {
          "datetime": "2022-04-25T11:37:30",
          "text": "",
          "timestamp": 1019835451,
          "value": 73
         },
         {
          "datetime": "2022-04-25T11:37:35",
          "text": "",
          "timestamp": 1019835457.6666666,
          "value": 73.33333333333333
         },
         {
          "datetime": "2022-04-25T11:37:40",
          "text": "",
          "timestamp": 1019835462,
          "value": 75.5
         },
         {
          "datetime": "2022-04-25T11:37:45",
          "text": "",
          "timestamp": 1019835467,
          "value": 74.5
         },
         {
          "datetime": "2022-04-25T11:37:50",
          "text": "",
          "timestamp": 1019835472,
          "value": 73.6
         },
         {
          "datetime": "2022-04-25T11:37:55",
          "text": "",
          "timestamp": 1019835475.5,
          "value": 69.5
         },
         {
          "datetime": "2022-04-25T11:38:00",
          "text": "",
          "timestamp": 1019835475.5,
          "value": 69.5
         },
         {
          "datetime": "2022-04-25T11:38:05",
          "text": "",
          "timestamp": 1019835487.5,
          "value": 68.5
         },
         {
          "datetime": "2022-04-25T11:38:10",
          "text": "",
          "timestamp": 1019835492.6666666,
          "value": 68.33333333333333
         },
         {
          "datetime": "2022-04-25T11:38:15",
          "text": "",
          "timestamp": 1019835496.5,
          "value": 68
         },
         {
          "datetime": "2022-04-25T11:38:20",
          "text": "",
          "timestamp": 1019835501.5,
          "value": 67.75
         },
         {
          "datetime": "2022-04-25T11:38:25",
          "text": "",
          "timestamp": 1019835508,
          "value": 65.66666666666667
         },
         {
          "datetime": "2022-04-25T11:38:30",
          "text": "",
          "timestamp": 1019835512,
          "value": 67.2
         },
         {
          "datetime": "2022-04-25T11:38:35",
          "text": "",
          "timestamp": 1019835518,
          "value": 71
         },
         {
          "datetime": "2022-04-25T11:38:40",
          "text": "",
          "timestamp": 1019835522,
          "value": 69.8
         },
         {
          "datetime": "2022-04-25T11:38:45",
          "text": "",
          "timestamp": 1019835526.6666666,
          "value": 70
         },
         {
          "datetime": "2022-04-25T11:38:50",
          "text": "",
          "timestamp": 1019835532.25,
          "value": 71
         },
         {
          "datetime": "2022-04-25T11:38:55",
          "text": "",
          "timestamp": 1019835537.3333334,
          "value": 72.33333333333333
         },
         {
          "datetime": "2022-04-25T11:39:00",
          "text": "",
          "timestamp": 1019835541.6666666,
          "value": 70.66666666666667
         },
         {
          "datetime": "2022-04-25T11:39:05",
          "text": "",
          "timestamp": 1019835547.3333334,
          "value": 72.33333333333333
         },
         {
          "datetime": "2022-04-25T11:39:10",
          "text": "",
          "timestamp": 1019835552.25,
          "value": 75
         },
         {
          "datetime": "2022-04-25T11:39:15",
          "text": "",
          "timestamp": 1019835557,
          "value": 79
         },
         {
          "datetime": "2022-04-25T11:39:20",
          "text": "",
          "timestamp": 1019835562.6666666,
          "value": 80
         },
         {
          "datetime": "2022-04-25T11:39:25",
          "text": "",
          "timestamp": 1019835567.25,
          "value": 77.5
         },
         {
          "datetime": "2022-04-25T11:39:30",
          "text": "",
          "timestamp": 1019835574,
          "value": 77
         },
         {
          "datetime": "2022-04-25T11:39:35",
          "text": "",
          "timestamp": 1019835576.6666666,
          "value": 78
         },
         {
          "datetime": "2022-04-25T11:39:40",
          "text": "",
          "timestamp": 1019835582.5,
          "value": 82.5
         },
         {
          "datetime": "2022-04-25T11:39:45",
          "text": "",
          "timestamp": 1019835587.3333334,
          "value": 84
         },
         {
          "datetime": "2022-04-25T11:39:50",
          "text": "",
          "timestamp": 1019835591.3333334,
          "value": 85
         },
         {
          "datetime": "2022-04-25T11:39:55",
          "text": "",
          "timestamp": 1019835597,
          "value": 84.8
         },
         {
          "datetime": "2022-04-25T11:40:00",
          "text": "",
          "timestamp": 1019835600,
          "value": 84
         },
         {
          "datetime": "2022-04-25T11:40:05",
          "text": "",
          "timestamp": 1019835606,
          "value": 85
         },
         {
          "datetime": "2022-04-25T11:40:10",
          "text": "",
          "timestamp": 1019835612.25,
          "value": 85
         },
         {
          "datetime": "2022-04-25T11:40:15",
          "text": "",
          "timestamp": 1019835617,
          "value": 85
         },
         {
          "datetime": "2022-04-25T11:40:20",
          "text": "",
          "timestamp": 1019835622.25,
          "value": 84
         },
         {
          "datetime": "2022-04-25T11:40:25",
          "text": "",
          "timestamp": 1019835628,
          "value": 83.66666666666667
         },
         {
          "datetime": "2022-04-25T11:40:30",
          "text": "",
          "timestamp": 1019835632,
          "value": 85
         },
         {
          "datetime": "2022-04-25T11:40:35",
          "text": "",
          "timestamp": 1019835637,
          "value": 84
         },
         {
          "datetime": "2022-04-25T11:40:40",
          "text": "",
          "timestamp": 1019835641.3333334,
          "value": 82.66666666666667
         },
         {
          "datetime": "2022-04-25T11:40:45",
          "text": "",
          "timestamp": 1019835646.5,
          "value": 82.25
         },
         {
          "datetime": "2022-04-25T11:40:50",
          "text": "",
          "timestamp": 1019835651.6666666,
          "value": 79.33333333333333
         },
         {
          "datetime": "2022-04-25T11:40:55",
          "text": "",
          "timestamp": 1019835657.5,
          "value": 80
         },
         {
          "datetime": "2022-04-25T11:41:00",
          "text": "",
          "timestamp": 1019835662,
          "value": 83
         },
         {
          "datetime": "2022-04-25T11:41:05",
          "text": "",
          "timestamp": 1019835666.5,
          "value": 86
         },
         {
          "datetime": "2022-04-25T11:41:10",
          "text": "",
          "timestamp": 1019835674,
          "value": 86
         },
         {
          "datetime": "2022-04-25T11:41:15",
          "text": "",
          "timestamp": 1019835677.3333334,
          "value": 89.33333333333333
         },
         {
          "datetime": "2022-04-25T11:41:20",
          "text": "",
          "timestamp": 1019835681.5,
          "value": 89.5
         },
         {
          "datetime": "2022-04-25T11:41:25",
          "text": "",
          "timestamp": 1019835687.3333334,
          "value": 87.66666666666667
         },
         {
          "datetime": "2022-04-25T11:41:30",
          "text": "",
          "timestamp": 1019835691,
          "value": 87
         },
         {
          "datetime": "2022-04-25T11:41:35",
          "text": "",
          "timestamp": 1019835697,
          "value": 87.5
         },
         {
          "datetime": "2022-04-25T11:41:40",
          "text": "",
          "timestamp": 1019835702.6666666,
          "value": 87.33333333333333
         },
         {
          "datetime": "2022-04-25T11:41:45",
          "text": "",
          "timestamp": 1019835706.5,
          "value": 88.5
         },
         {
          "datetime": "2022-04-25T11:41:50",
          "text": "",
          "timestamp": 1019835712.25,
          "value": 86.5
         },
         {
          "datetime": "2022-04-25T11:41:55",
          "text": "",
          "timestamp": 1019835717.25,
          "value": 88.5
         },
         {
          "datetime": "2022-04-25T11:42:00",
          "text": "",
          "timestamp": 1019835720.625,
          "value": 95.28125
         },
         {
          "datetime": "2022-04-25T11:42:05",
          "text": "",
          "timestamp": 1019835726,
          "value": 85.5
         },
         {
          "datetime": "2022-04-25T11:42:10",
          "text": "",
          "timestamp": 1019835733,
          "value": 84
         },
         {
          "datetime": "2022-04-25T11:42:15",
          "text": "",
          "timestamp": 1019835737,
          "value": 83.33333333333333
         },
         {
          "datetime": "2022-04-25T11:42:20",
          "text": "",
          "timestamp": 1019835742,
          "value": 79.4
         },
         {
          "datetime": "2022-04-25T11:42:25",
          "text": "",
          "timestamp": 1019835746.6666666,
          "value": 77
         },
         {
          "datetime": "2022-04-25T11:42:30",
          "text": "",
          "timestamp": 1019835751.6666666,
          "value": 79.66666666666667
         },
         {
          "datetime": "2022-04-25T11:42:35",
          "text": "",
          "timestamp": 1019835757.5,
          "value": 81.75
         },
         {
          "datetime": "2022-04-25T11:42:40",
          "text": "",
          "timestamp": 1019835762,
          "value": 82.4
         },
         {
          "datetime": "2022-04-25T11:42:45",
          "text": "",
          "timestamp": 1019835767.6666666,
          "value": 80
         },
         {
          "datetime": "2022-04-25T11:42:50",
          "text": "",
          "timestamp": 1019835772.5,
          "value": 81.5
         },
         {
          "datetime": "2022-04-25T11:42:55",
          "text": "",
          "timestamp": 1019835776,
          "value": 81.33333333333333
         },
         {
          "datetime": "2022-04-25T11:43:00",
          "text": "",
          "timestamp": 1019835782.3333334,
          "value": 79.66666666666667
         },
         {
          "datetime": "2022-04-25T11:43:05",
          "text": "",
          "timestamp": 1019835787.6666666,
          "value": 81.33333333333333
         },
         {
          "datetime": "2022-04-25T11:43:10",
          "text": "",
          "timestamp": 1019835792,
          "value": 80.75
         },
         {
          "datetime": "2022-04-25T11:43:15",
          "text": "",
          "timestamp": 1019835796.5,
          "value": 81.25
         },
         {
          "datetime": "2022-04-25T11:43:20",
          "text": "",
          "timestamp": 1019835800.5,
          "value": 79
         },
         {
          "datetime": "2022-04-25T11:43:25",
          "text": "",
          "timestamp": 1019835807.25,
          "value": 79
         },
         {
          "datetime": "2022-04-25T11:43:30",
          "text": "",
          "timestamp": 1019835812,
          "value": 78
         },
         {
          "datetime": "2022-04-25T11:43:35",
          "text": "",
          "timestamp": 1019835816,
          "value": 76
         },
         {
          "datetime": "2022-04-25T11:43:40",
          "text": "",
          "timestamp": 1019835821.75,
          "value": 76
         },
         {
          "datetime": "2022-04-25T11:43:45",
          "text": "",
          "timestamp": 1019835826.6666666,
          "value": 74.66666666666667
         },
         {
          "datetime": "2022-04-25T11:43:50",
          "text": "",
          "timestamp": 1019835832.5,
          "value": 75.25
         },
         {
          "datetime": "2022-04-25T11:43:55",
          "text": "",
          "timestamp": 1019835837,
          "value": 75
         },
         {
          "datetime": "2022-04-25T11:44:00",
          "text": "",
          "timestamp": 1019835841.5,
          "value": 78.5
         },
         {
          "datetime": "2022-04-25T11:44:05",
          "text": "",
          "timestamp": 1019835847,
          "value": 79.5
         },
         {
          "datetime": "2022-04-25T11:44:10",
          "text": "",
          "timestamp": 1019835852.5,
          "value": 80.5
         },
         {
          "datetime": "2022-04-25T11:44:15",
          "text": "",
          "timestamp": 1019835857,
          "value": 81.6
         },
         {
          "datetime": "2022-04-25T11:44:20",
          "text": "",
          "timestamp": 1019835862.5,
          "value": 80.75
         },
         {
          "datetime": "2022-04-25T11:44:25",
          "text": "",
          "timestamp": 1019835867,
          "value": 77.4
         },
         {
          "datetime": "2022-04-25T11:44:30",
          "text": "",
          "timestamp": 1019835871.5,
          "value": 78.25
         },
         {
          "datetime": "2022-04-25T11:44:35",
          "text": "",
          "timestamp": 1019835877.25,
          "value": 77.5
         },
         {
          "datetime": "2022-04-25T11:44:40",
          "text": "",
          "timestamp": 1019835882,
          "value": 80.5
         },
         {
          "datetime": "2022-04-25T11:44:45",
          "text": "",
          "timestamp": 1019835887.5,
          "value": 82
         },
         {
          "datetime": "2022-04-25T11:44:50",
          "text": "",
          "timestamp": 1019835892,
          "value": 79.6
         },
         {
          "datetime": "2022-04-25T11:44:55",
          "text": "",
          "timestamp": 1019835897.5,
          "value": 80.75
         },
         {
          "datetime": "2022-04-25T11:45:00",
          "text": "",
          "timestamp": 1019835902,
          "value": 87.4
         },
         {
          "datetime": "2022-04-25T11:45:05",
          "text": "",
          "timestamp": 1019835906.3333334,
          "value": 88.66666666666667
         },
         {
          "datetime": "2022-04-25T11:45:10",
          "text": "",
          "timestamp": 1019835912.25,
          "value": 88
         },
         {
          "datetime": "2022-04-25T11:45:15",
          "text": "",
          "timestamp": 1019835916.6666666,
          "value": 90
         },
         {
          "datetime": "2022-04-25T11:45:20",
          "text": "",
          "timestamp": 1019835922.6666666,
          "value": 92
         },
         {
          "datetime": "2022-04-25T11:45:25",
          "text": "",
          "timestamp": 1019835927,
          "value": 91.33333333333333
         },
         {
          "datetime": "2022-04-25T11:45:30",
          "text": "",
          "timestamp": 1019835932.5,
          "value": 91
         },
         {
          "datetime": "2022-04-25T11:45:35",
          "text": "",
          "timestamp": 1019835937,
          "value": 89.8
         },
         {
          "datetime": "2022-04-25T11:45:40",
          "text": "",
          "timestamp": 1019835941,
          "value": 90.33333333333333
         },
         {
          "datetime": "2022-04-25T11:45:45",
          "text": "",
          "timestamp": 1019835947,
          "value": 89.75
         },
         {
          "datetime": "2022-04-25T11:45:50",
          "text": "",
          "timestamp": 1019835951.6666666,
          "value": 93.66666666666667
         },
         {
          "datetime": "2022-04-25T11:45:55",
          "text": "",
          "timestamp": 1019835956.5,
          "value": 95.75
         },
         {
          "datetime": "2022-04-25T11:46:00",
          "text": "",
          "timestamp": 1019835962.6666666,
          "value": 92
         },
         {
          "datetime": "2022-04-25T11:46:05",
          "text": "",
          "timestamp": 1019835966.75,
          "value": 92
         },
         {
          "datetime": "2022-04-25T11:46:10",
          "text": "",
          "timestamp": 1019835972,
          "value": 91.8
         },
         {
          "datetime": "2022-04-25T11:46:15",
          "text": "",
          "timestamp": 1019835976,
          "value": 94
         },
         {
          "datetime": "2022-04-25T11:46:20",
          "text": "",
          "timestamp": 1019835981.5,
          "value": 93.5
         },
         {
          "datetime": "2022-04-25T11:46:25",
          "text": "",
          "timestamp": 1019835988,
          "value": 96.33333333333333
         },
         {
          "datetime": "2022-04-25T11:46:30",
          "text": "",
          "timestamp": 1019835992,
          "value": 95.6
         },
         {
          "datetime": "2022-04-25T11:46:35",
          "text": "",
          "timestamp": 1019835997.5,
          "value": 92.75
         },
         {
          "datetime": "2022-04-25T11:46:40",
          "text": "",
          "timestamp": 1019836001.3333334,
          "value": 90.33333333333333
         },
         {
          "datetime": "2022-04-25T11:46:45",
          "text": "",
          "timestamp": 1019836006.75,
          "value": 87.75
         },
         {
          "datetime": "2022-04-25T11:46:50",
          "text": "",
          "timestamp": 1019836013,
          "value": 87
         },
         {
          "datetime": "2022-04-25T11:46:55",
          "text": "",
          "timestamp": 1019836017,
          "value": 88.6
         },
         {
          "datetime": "2022-04-25T11:47:00",
          "text": "",
          "timestamp": 1019836022,
          "value": 85.66666666666667
         },
         {
          "datetime": "2022-04-25T11:47:05",
          "text": "",
          "timestamp": 1019836027,
          "value": 89
         },
         {
          "datetime": "2022-04-25T11:47:10",
          "text": "",
          "timestamp": 1019836031.6666666,
          "value": 89
         },
         {
          "datetime": "2022-04-25T11:47:15",
          "text": "",
          "timestamp": 1019836037,
          "value": 88.66666666666667
         },
         {
          "datetime": "2022-04-25T11:47:20",
          "text": "",
          "timestamp": 1019836042,
          "value": 87.5
         },
         {
          "datetime": "2022-04-25T11:47:25",
          "text": "",
          "timestamp": 1019836047.5,
          "value": 85.5
         },
         {
          "datetime": "2022-04-25T11:47:30",
          "text": "",
          "timestamp": 1019836052.25,
          "value": 102
         },
         {
          "datetime": "2022-04-25T11:47:35",
          "text": "",
          "timestamp": 1019836057,
          "value": 101
         },
         {
          "datetime": "2022-04-25T11:47:40",
          "text": "",
          "timestamp": 1019836062.5,
          "value": 97.5
         },
         {
          "datetime": "2022-04-25T11:47:45",
          "text": "",
          "timestamp": 1019836066.3333334,
          "value": 95.33333333333333
         },
         {
          "datetime": "2022-04-25T11:47:50",
          "text": "",
          "timestamp": 1019836072,
          "value": 95.66666666666667
         },
         {
          "datetime": "2022-04-25T11:47:55",
          "text": "",
          "timestamp": 1019836077,
          "value": 94
         },
         {
          "datetime": "2022-04-25T11:48:00",
          "text": "",
          "timestamp": 1019836081.5,
          "value": 95
         },
         {
          "datetime": "2022-04-25T11:48:05",
          "text": "",
          "timestamp": 1019836086.5,
          "value": 94.25
         },
         {
          "datetime": "2022-04-25T11:48:10",
          "text": "",
          "timestamp": 1019836093,
          "value": 92
         },
         {
          "datetime": "2022-04-25T11:48:15",
          "text": "",
          "timestamp": 1019836097,
          "value": 92
         },
         {
          "datetime": "2022-04-25T11:48:20",
          "text": "",
          "timestamp": 1019836101.5,
          "value": 92.5
         },
         {
          "datetime": "2022-04-25T11:48:25",
          "text": "",
          "timestamp": 1019836107.25,
          "value": 92
         },
         {
          "datetime": "2022-04-25T11:48:30",
          "text": "",
          "timestamp": 1019836112.5,
          "value": 93
         },
         {
          "datetime": "2022-04-25T11:48:35",
          "text": "",
          "timestamp": 1019836116.75,
          "value": 91.25
         },
         {
          "datetime": "2022-04-25T11:48:40",
          "text": "",
          "timestamp": 1019836121.5,
          "value": 90.5
         },
         {
          "datetime": "2022-04-25T11:48:45",
          "text": "",
          "timestamp": 1019836127,
          "value": 90.8
         },
         {
          "datetime": "2022-04-25T11:48:50",
          "text": "",
          "timestamp": 1019836132,
          "value": 90.4
         },
         {
          "datetime": "2022-04-25T11:48:55",
          "text": "",
          "timestamp": 1019836137,
          "value": 91.6
         },
         {
          "datetime": "2022-04-25T11:49:00",
          "text": "",
          "timestamp": 1019836140.5,
          "value": 97.5
         },
         {
          "datetime": "2022-04-25T11:49:05",
          "text": "",
          "timestamp": 1019836140.5,
          "value": 97.5
         },
         {
          "datetime": "2022-04-25T11:49:10",
          "text": "",
          "timestamp": 1019836153.5,
          "value": 96.5
         },
         {
          "datetime": "2022-04-25T11:49:15",
          "text": "",
          "timestamp": 1019836156.75,
          "value": 98
         },
         {
          "datetime": "2022-04-25T11:49:20",
          "text": "",
          "timestamp": 1019836162,
          "value": 99.33333333333333
         },
         {
          "datetime": "2022-04-25T11:49:25",
          "text": "",
          "timestamp": 1019836169,
          "value": 98
         },
         {
          "datetime": "2022-04-25T11:49:30",
          "text": "",
          "timestamp": 1019836173,
          "value": 96.66666666666667
         },
         {
          "datetime": "2022-04-25T11:49:35",
          "text": "",
          "timestamp": 1019836177,
          "value": 92.4
         },
         {
          "datetime": "2022-04-25T11:49:40",
          "text": "",
          "timestamp": 1019836183.5,
          "value": 88.5
         },
         {
          "datetime": "2022-04-25T11:49:45",
          "text": "",
          "timestamp": 1019836187.3333334,
          "value": 87
         },
         {
          "datetime": "2022-04-25T11:49:50",
          "text": "",
          "timestamp": 1019836193,
          "value": 87.5
         },
         {
          "datetime": "2022-04-25T11:49:55",
          "text": "",
          "timestamp": 1019836198,
          "value": 86
         },
         {
          "datetime": "2022-04-25T11:50:00",
          "text": "",
          "timestamp": 1019836201.5,
          "value": 85.5
         },
         {
          "datetime": "2022-04-25T11:50:05",
          "text": "",
          "timestamp": 1019836208,
          "value": 82.66666666666667
         },
         {
          "datetime": "2022-04-25T11:50:10",
          "text": "",
          "timestamp": 1019836212,
          "value": 83.4
         },
         {
          "datetime": "2022-04-25T11:50:15",
          "text": "",
          "timestamp": 1019836217,
          "value": 80
         },
         {
          "datetime": "2022-04-25T11:50:20",
          "text": "",
          "timestamp": 1019836221.6666666,
          "value": 81.33333333333333
         },
         {
          "datetime": "2022-04-25T11:50:25",
          "text": "",
          "timestamp": 1019836227,
          "value": 85
         },
         {
          "datetime": "2022-04-25T11:50:30",
          "text": "",
          "timestamp": 1019836232,
          "value": 89
         },
         {
          "datetime": "2022-04-25T11:50:35",
          "text": "",
          "timestamp": 1019836237,
          "value": 90.8
         },
         {
          "datetime": "2022-04-25T11:50:40",
          "text": "",
          "timestamp": 1019836242.5,
          "value": 92.75
         },
         {
          "datetime": "2022-04-25T11:50:45",
          "text": "",
          "timestamp": 1019836245.5,
          "value": 92.5
         },
         {
          "datetime": "2022-04-25T11:50:50",
          "text": "",
          "timestamp": 1019836250,
          "value": 93
         },
         {
          "datetime": "2022-04-25T11:50:55",
          "text": "",
          "timestamp": 1019836258.5,
          "value": 93
         },
         {
          "datetime": "2022-04-25T11:51:00",
          "text": "",
          "timestamp": 1019836261.75,
          "value": 93
         },
         {
          "datetime": "2022-04-25T11:51:05",
          "text": "",
          "timestamp": 1019836267.5,
          "value": 94
         },
         {
          "datetime": "2022-04-25T11:51:10",
          "text": "",
          "timestamp": 1019836271.6666666,
          "value": 93
         },
         {
          "datetime": "2022-04-25T11:51:15",
          "text": "",
          "timestamp": 1019836277.25,
          "value": 92
         },
         {
          "datetime": "2022-04-25T11:51:20",
          "text": "",
          "timestamp": 1019836282,
          "value": 90.6
         },
         {
          "datetime": "2022-04-25T11:51:25",
          "text": "",
          "timestamp": 1019836288,
          "value": 96.66666666666667
         },
         {
          "datetime": "2022-04-25T11:51:30",
          "text": "",
          "timestamp": 1019836292,
          "value": 105.2
         },
         {
          "datetime": "2022-04-25T11:51:35",
          "text": "",
          "timestamp": 1019836297.25,
          "value": 109
         },
         {
          "datetime": "2022-04-25T11:51:40",
          "text": "",
          "timestamp": 1019836302,
          "value": 107
         },
         {
          "datetime": "2022-04-25T11:51:45",
          "text": "",
          "timestamp": 1019836308,
          "value": 106.5
         },
         {
          "datetime": "2022-04-25T11:51:50",
          "text": "",
          "timestamp": 1019836312,
          "value": 107
         },
         {
          "datetime": "2022-04-25T11:51:55",
          "text": "",
          "timestamp": 1019836317,
          "value": 105
         },
         {
          "datetime": "2022-04-25T11:52:00",
          "text": "",
          "timestamp": 1019836320.5,
          "value": 103.5
         },
         {
          "datetime": "2022-04-25T11:52:05",
          "text": "",
          "timestamp": 1019836327,
          "value": 103
         },
         {
          "datetime": "2022-04-25T11:52:10",
          "text": "",
          "timestamp": 1019836327,
          "value": 103
         },
         {
          "datetime": "2022-04-25T11:52:15",
          "text": "",
          "timestamp": 1019836337,
          "value": 108.4
         },
         {
          "datetime": "2022-04-25T11:52:20",
          "text": "",
          "timestamp": 1019836342,
          "value": 111
         },
         {
          "datetime": "2022-04-25T11:52:25",
          "text": "",
          "timestamp": 1019836347,
          "value": 113
         },
         {
          "datetime": "2022-04-25T11:52:30",
          "text": "",
          "timestamp": 1019836352.25,
          "value": 113.75
         },
         {
          "datetime": "2022-04-25T11:52:35",
          "text": "",
          "timestamp": 1019836357,
          "value": 115
         },
         {
          "datetime": "2022-04-25T11:52:40",
          "text": "",
          "timestamp": 1019836361,
          "value": 119.5
         },
         {
          "datetime": "2022-04-25T11:52:45",
          "text": "",
          "timestamp": 1019836366.6666666,
          "value": 120
         },
         {
          "datetime": "2022-04-25T11:52:50",
          "text": "",
          "timestamp": 1019836373,
          "value": 118
         },
         {
          "datetime": "2022-04-25T11:52:55",
          "text": "",
          "timestamp": 1019836377,
          "value": 116
         },
         {
          "datetime": "2022-04-25T11:53:00",
          "text": "",
          "timestamp": 1019836381,
          "value": 113.5
         },
         {
          "datetime": "2022-04-25T11:53:05",
          "text": "",
          "timestamp": 1019836388,
          "value": 112
         },
         {
          "datetime": "2022-04-25T11:53:10",
          "text": "",
          "timestamp": 1019836393,
          "value": 111
         },
         {
          "datetime": "2022-04-25T11:53:15",
          "text": "",
          "timestamp": 1019836396.5,
          "value": 109.5
         },
         {
          "datetime": "2022-04-25T11:53:20",
          "text": "",
          "timestamp": 1019836402,
          "value": 108
         },
         {
          "datetime": "2022-04-25T11:53:25",
          "text": "",
          "timestamp": 1019836407,
          "value": 106.5
         },
         {
          "datetime": "2022-04-25T11:53:30",
          "text": "",
          "timestamp": 1019836413,
          "value": 107.5
         },
         {
          "datetime": "2022-04-25T11:53:35",
          "text": "",
          "timestamp": 1019836417,
          "value": 106.5
         },
         {
          "datetime": "2022-04-25T11:53:40",
          "text": "",
          "timestamp": 1019836421,
          "value": 107
         },
         {
          "datetime": "2022-04-25T11:53:45",
          "text": "",
          "timestamp": 1019836426,
          "value": 106
         },
         {
          "datetime": "2022-04-25T11:53:50",
          "text": "",
          "timestamp": 1019836433,
          "value": 105
         },
         {
          "datetime": "2022-04-25T11:53:55",
          "text": "",
          "timestamp": 1019836437.3333334,
          "value": 104.33333333333333
         },
         {
          "datetime": "2022-04-25T11:54:00",
          "text": "",
          "timestamp": 1019836442.5,
          "value": 102
         },
         {
          "datetime": "2022-04-25T11:54:05",
          "text": "",
          "timestamp": 1019836446.75,
          "value": 103.5
         },
         {
          "datetime": "2022-04-25T11:54:10",
          "text": "",
          "timestamp": 1019836453,
          "value": 106
         },
         {
          "datetime": "2022-04-25T11:54:15",
          "text": "",
          "timestamp": 1019836456.5,
          "value": 111.25
         },
         {
          "datetime": "2022-04-25T11:54:20",
          "text": "",
          "timestamp": 1019836456.5,
          "value": 111.25
         },
         {
          "datetime": "2022-04-25T11:54:25",
          "text": "",
          "timestamp": 1019836467,
          "value": 113.8
         },
         {
          "datetime": "2022-04-25T11:54:30",
          "text": "",
          "timestamp": 1019836472,
          "value": 115.4
         },
         {
          "datetime": "2022-04-25T11:54:35",
          "text": "",
          "timestamp": 1019836477.25,
          "value": 115.25
         },
         {
          "datetime": "2022-04-25T11:54:40",
          "text": "",
          "timestamp": 1019836480.5,
          "value": 113.5
         },
         {
          "datetime": "2022-04-25T11:54:45",
          "text": "",
          "timestamp": 1019836486.5,
          "value": 111.25
         },
         {
          "datetime": "2022-04-25T11:54:50",
          "text": "",
          "timestamp": 1019836491.6666666,
          "value": 114.66666666666667
         },
         {
          "datetime": "2022-04-25T11:54:55",
          "text": "",
          "timestamp": 1019836498,
          "value": 114.33333333333333
         },
         {
          "datetime": "2022-04-25T11:55:00",
          "text": "",
          "timestamp": 1019836501,
          "value": 115
         },
         {
          "datetime": "2022-04-25T11:55:05",
          "text": "",
          "timestamp": 1019836507.5,
          "value": 112.25
         },
         {
          "datetime": "2022-04-25T11:55:10",
          "text": "",
          "timestamp": 1019836511.3333334,
          "value": 110.33333333333333
         },
         {
          "datetime": "2022-04-25T11:55:15",
          "text": "",
          "timestamp": 1019836516.5,
          "value": 114.25
         },
         {
          "datetime": "2022-04-25T11:55:20",
          "text": "",
          "timestamp": 1019836524,
          "value": 116
         },
         {
          "datetime": "2022-04-25T11:55:25",
          "text": "",
          "timestamp": 1019836528,
          "value": 114
         },
         {
          "datetime": "2022-04-25T11:55:30",
          "text": "",
          "timestamp": 1019836531.5,
          "value": 112.5
         },
         {
          "datetime": "2022-04-25T11:55:35",
          "text": "",
          "timestamp": 1019836537,
          "value": 111.33333333333333
         },
         {
          "datetime": "2022-04-25T11:55:40",
          "text": "",
          "timestamp": 1019836543,
          "value": 109.5
         },
         {
          "datetime": "2022-04-25T11:55:45",
          "text": "",
          "timestamp": 1019836547,
          "value": 107
         },
         {
          "datetime": "2022-04-25T11:55:50",
          "text": "",
          "timestamp": 1019836551,
          "value": 105
         },
         {
          "datetime": "2022-04-25T11:55:55",
          "text": "",
          "timestamp": 1019836559,
          "value": 104
         },
         {
          "datetime": "2022-04-25T11:56:00",
          "text": "",
          "timestamp": 1019836562.6666666,
          "value": 104
         },
         {
          "datetime": "2022-04-25T11:56:05",
          "text": "",
          "timestamp": 1019836566.6666666,
          "value": 105
         },
         {
          "datetime": "2022-04-25T11:56:10",
          "text": "",
          "timestamp": 1019836571.75,
          "value": 102.5
         },
         {
          "datetime": "2022-04-25T11:56:15",
          "text": "",
          "timestamp": 1019836577.5,
          "value": 101
         },
         {
          "datetime": "2022-04-25T11:56:20",
          "text": "",
          "timestamp": 1019836581.5,
          "value": 105.25
         },
         {
          "datetime": "2022-04-25T11:56:25",
          "text": "",
          "timestamp": 1019836587.3333334,
          "value": 109
         },
         {
          "datetime": "2022-04-25T11:56:30",
          "text": "",
          "timestamp": 1019836587.3333334,
          "value": 109
         },
         {
          "datetime": "2022-04-25T11:56:35",
          "text": "",
          "timestamp": 1019836596.75,
          "value": 110.5
         },
         {
          "datetime": "2022-04-25T11:56:40",
          "text": "",
          "timestamp": 1019836602,
          "value": 111
         },
         {
          "datetime": "2022-04-25T11:56:45",
          "text": "",
          "timestamp": 1019836608,
          "value": 109.66666666666667
         },
         {
          "datetime": "2022-04-25T11:56:50",
          "text": "",
          "timestamp": 1019836614,
          "value": 111
         },
         {
          "datetime": "2022-04-25T11:56:55",
          "text": "",
          "timestamp": 1019836617.3333334,
          "value": 109.66666666666667
         },
         {
          "datetime": "2022-04-25T11:57:00",
          "text": "",
          "timestamp": 1019836621.5,
          "value": 109
         },
         {
          "datetime": "2022-04-25T11:57:05",
          "text": "",
          "timestamp": 1019836627,
          "value": 108.5
         },
         {
          "datetime": "2022-04-25T11:57:10",
          "text": "",
          "timestamp": 1019836631.5,
          "value": 110
         },
         {
          "datetime": "2022-04-25T11:57:15",
          "text": "",
          "timestamp": 1019836631.5,
          "value": 110
         },
         {
          "datetime": "2022-04-25T11:57:20",
          "text": "",
          "timestamp": 1019836643,
          "value": 111
         },
         {
          "datetime": "2022-04-25T11:57:25",
          "text": "",
          "timestamp": 1019836647.3333334,
          "value": 111
         },
         {
          "datetime": "2022-04-25T11:57:30",
          "text": "",
          "timestamp": 1019836652.5,
          "value": 112
         },
         {
          "datetime": "2022-04-25T11:57:35",
          "text": "",
          "timestamp": 1019836657.25,
          "value": 111.5
         },
         {
          "datetime": "2022-04-25T11:57:40",
          "text": "",
          "timestamp": 1019836662,
          "value": 114.4
         },
         {
          "datetime": "2022-04-25T11:57:45",
          "text": "",
          "timestamp": 1019836667.25,
          "value": 115.25
         },
         {
          "datetime": "2022-04-25T11:57:50",
          "text": "",
          "timestamp": 1019836672,
          "value": 113
         },
         {
          "datetime": "2022-04-25T11:57:55",
          "text": "",
          "timestamp": 1019836677,
          "value": 109.5
         },
         {
          "datetime": "2022-04-25T11:58:00",
          "text": "",
          "timestamp": 1019836681.5,
          "value": 108.25
         },
         {
          "datetime": "2022-04-25T11:58:05",
          "text": "",
          "timestamp": 1019836686.5,
          "value": 107
         },
         {
          "datetime": "2022-04-25T11:58:10",
          "text": "",
          "timestamp": 1019836691.5,
          "value": 107.5
         },
         {
          "datetime": "2022-04-25T11:58:15",
          "text": "",
          "timestamp": 1019836697.25,
          "value": 105.25
         },
         {
          "datetime": "2022-04-25T11:58:20",
          "text": "",
          "timestamp": 1019836701.75,
          "value": 107.75
         },
         {
          "datetime": "2022-04-25T11:58:25",
          "text": "",
          "timestamp": 1019836707,
          "value": 112
         },
         {
          "datetime": "2022-04-25T11:58:30",
          "text": "",
          "timestamp": 1019836712.25,
          "value": 112.25
         },
         {
          "datetime": "2022-04-25T11:58:35",
          "text": "",
          "timestamp": 1019836717,
          "value": 112
         },
         {
          "datetime": "2022-04-25T11:58:40",
          "text": "",
          "timestamp": 1019836721.6666666,
          "value": 110.66666666666667
         },
         {
          "datetime": "2022-04-25T11:58:45",
          "text": "",
          "timestamp": 1019836728.5,
          "value": 112.5
         },
         {
          "datetime": "2022-04-25T11:58:50",
          "text": "",
          "timestamp": 1019836732,
          "value": 111.75
         },
         {
          "datetime": "2022-04-25T11:58:55",
          "text": "",
          "timestamp": 1019836736.5,
          "value": 115
         },
         {
          "datetime": "2022-04-25T11:59:00",
          "text": "",
          "timestamp": 1019836742,
          "value": 116.5
         },
         {
          "datetime": "2022-04-25T11:59:05",
          "text": "",
          "timestamp": 1019836747,
          "value": 116.6
         },
         {
          "datetime": "2022-04-25T11:59:10",
          "text": "",
          "timestamp": 1019836751.5,
          "value": 116.5
         },
         {
          "datetime": "2022-04-25T11:59:15",
          "text": "",
          "timestamp": 1019836757.5,
          "value": 114.5
         },
         {
          "datetime": "2022-04-25T11:59:20",
          "text": "",
          "timestamp": 1019836761.6666666,
          "value": 108.66666666666667
         },
         {
          "datetime": "2022-04-25T11:59:25",
          "text": "",
          "timestamp": 1019836766.75,
          "value": 109
         },
         {
          "datetime": "2022-04-25T11:59:30",
          "text": "",
          "timestamp": 1019836772,
          "value": 106.6
         },
         {
          "datetime": "2022-04-25T11:59:35",
          "text": "",
          "timestamp": 1019836777.5,
          "value": 114.5
         },
         {
          "datetime": "2022-04-25T11:59:40",
          "text": "",
          "timestamp": 1019836782.6666666,
          "value": 115.66666666666667
         },
         {
          "datetime": "2022-04-25T11:59:45",
          "text": "",
          "timestamp": 1019836786,
          "value": 117
         },
         {
          "datetime": "2022-04-25T11:59:50",
          "text": "",
          "timestamp": 1019836791.5,
          "value": 118.5
         },
         {
          "datetime": "2022-04-25T11:59:55",
          "text": "",
          "timestamp": 1019836797.5,
          "value": 118.5
         },
         {
          "datetime": "2022-04-25T12:00:00",
          "text": "",
          "timestamp": 1019836801,
          "value": 120.5
         },
         {
          "datetime": "2022-04-25T12:00:05",
          "text": "",
          "timestamp": 1019836807,
          "value": 116.4
         },
         {
          "datetime": "2022-04-25T12:00:10",
          "text": "",
          "timestamp": 1019836812,
          "value": 112.66666666666667
         },
         {
          "datetime": "2022-04-25T12:00:15",
          "text": "",
          "timestamp": 1019836818.5,
          "value": 112.5
         },
         {
          "datetime": "2022-04-25T12:00:20",
          "text": "",
          "timestamp": 1019836822.3333334,
          "value": 111.66666666666667
         },
         {
          "datetime": "2022-04-25T12:00:25",
          "text": "",
          "timestamp": 1019836826.6666666,
          "value": 113
         },
         {
          "datetime": "2022-04-25T12:00:30",
          "text": "",
          "timestamp": 1019836832,
          "value": 118.4
         },
         {
          "datetime": "2022-04-25T12:00:35",
          "text": "",
          "timestamp": 1019836837.25,
          "value": 121.25
         },
         {
          "datetime": "2022-04-25T12:00:40",
          "text": "",
          "timestamp": 1019836842.3333334,
          "value": 123
         },
         {
          "datetime": "2022-04-25T12:00:45",
          "text": "",
          "timestamp": 1019836847.6666666,
          "value": 124.66666666666667
         },
         {
          "datetime": "2022-04-25T12:00:50",
          "text": "",
          "timestamp": 1019836852,
          "value": 125.66666666666667
         },
         {
          "datetime": "2022-04-25T12:00:55",
          "text": "",
          "timestamp": 1019836856.6666666,
          "value": 123.66666666666667
         },
         {
          "datetime": "2022-04-25T12:01:00",
          "text": "",
          "timestamp": 1019836862,
          "value": 121.4
         },
         {
          "datetime": "2022-04-25T12:01:05",
          "text": "",
          "timestamp": 1019836866.6666666,
          "value": 117
         },
         {
          "datetime": "2022-04-25T12:01:10",
          "text": "",
          "timestamp": 1019836872.25,
          "value": 118.25
         },
         {
          "datetime": "2022-04-25T12:01:15",
          "text": "",
          "timestamp": 1019836878,
          "value": 121
         },
         {
          "datetime": "2022-04-25T12:01:20",
          "text": "",
          "timestamp": 1019836882,
          "value": 121.25
         },
         {
          "datetime": "2022-04-25T12:01:25",
          "text": "",
          "timestamp": 1019836887,
          "value": 125.6
         },
         {
          "datetime": "2022-04-25T12:01:30",
          "text": "",
          "timestamp": 1019836891.3333334,
          "value": 126
         },
         {
          "datetime": "2022-04-25T12:01:35",
          "text": "",
          "timestamp": 1019836896,
          "value": 125
         },
         {
          "datetime": "2022-04-25T12:01:40",
          "text": "",
          "timestamp": 1019836901,
          "value": 124.33333333333333
         },
         {
          "datetime": "2022-04-25T12:01:45",
          "text": "",
          "timestamp": 1019836907,
          "value": 125
         },
         {
          "datetime": "2022-04-25T12:01:50",
          "text": "",
          "timestamp": 1019836913.5,
          "value": 126.5
         },
         {
          "datetime": "2022-04-25T12:01:55",
          "text": "",
          "timestamp": 1019836917.5,
          "value": 125.5
         },
         {
          "datetime": "2022-04-25T12:02:00",
          "text": "",
          "timestamp": 1019836922,
          "value": 119
         },
         {
          "datetime": "2022-04-25T12:02:05",
          "text": "",
          "timestamp": 1019836929,
          "value": 114
         },
         {
          "datetime": "2022-04-25T12:02:10",
          "text": "",
          "timestamp": 1019836929,
          "value": 114
         },
         {
          "datetime": "2022-04-25T12:02:15",
          "text": "",
          "timestamp": 1019836937,
          "value": 113
         },
         {
          "datetime": "2022-04-25T12:02:20",
          "text": "",
          "timestamp": 1019836937,
          "value": 113
         },
         {
          "datetime": "2022-04-25T12:02:25",
          "text": "",
          "timestamp": 1019836947,
          "value": 112
         },
         {
          "datetime": "2022-04-25T12:02:30",
          "text": "",
          "timestamp": 1019836952.3333334,
          "value": 112
         },
         {
          "datetime": "2022-04-25T12:02:35",
          "text": "",
          "timestamp": 1019836956.3333334,
          "value": 114
         },
         {
          "datetime": "2022-04-25T12:02:40",
          "text": "",
          "timestamp": 1019836962.3333334,
          "value": 117
         },
         {
          "datetime": "2022-04-25T12:02:45",
          "text": "",
          "timestamp": 1019836967,
          "value": 117.8
         },
         {
          "datetime": "2022-04-25T12:02:50",
          "text": "",
          "timestamp": 1019836971.6666666,
          "value": 120.33333333333333
         },
         {
          "datetime": "2022-04-25T12:02:55",
          "text": "",
          "timestamp": 1019836978,
          "value": 118.5
         },
         {
          "datetime": "2022-04-25T12:03:00",
          "text": "",
          "timestamp": 1019836984,
          "value": 119
         },
         {
          "datetime": "2022-04-25T12:03:05",
          "text": "",
          "timestamp": 1019836986.75,
          "value": 121.5
         },
         {
          "datetime": "2022-04-25T12:03:10",
          "text": "",
          "timestamp": 1019836991,
          "value": 124.5
         },
         {
          "datetime": "2022-04-25T12:03:15",
          "text": "",
          "timestamp": 1019836991,
          "value": 124.5
         },
         {
          "datetime": "2022-04-25T12:03:20",
          "text": "",
          "timestamp": 1019836991,
          "value": 124.5
         },
         {
          "datetime": "2022-04-25T12:03:25",
          "text": "",
          "timestamp": 1019837007,
          "value": 126
         },
         {
          "datetime": "2022-04-25T12:03:30",
          "text": "",
          "timestamp": 1019837012.3333334,
          "value": 126.33333333333333
         },
         {
          "datetime": "2022-04-25T12:03:35",
          "text": "",
          "timestamp": 1019837017.5,
          "value": 127.5
         },
         {
          "datetime": "2022-04-25T12:03:40",
          "text": "",
          "timestamp": 1019837022,
          "value": 126.2
         },
         {
          "datetime": "2022-04-25T12:03:45",
          "text": "",
          "timestamp": 1019837027,
          "value": 125.33333333333333
         },
         {
          "datetime": "2022-04-25T12:03:50",
          "text": "",
          "timestamp": 1019837030,
          "value": 124
         },
         {
          "datetime": "2022-04-25T12:03:55",
          "text": "",
          "timestamp": 1019837037.5,
          "value": 123
         },
         {
          "datetime": "2022-04-25T12:04:00",
          "text": "",
          "timestamp": 1019837042.3333334,
          "value": 122
         },
         {
          "datetime": "2022-04-25T12:04:05",
          "text": "",
          "timestamp": 1019837046.75,
          "value": 122
         },
         {
          "datetime": "2022-04-25T12:04:10",
          "text": "",
          "timestamp": 1019837051.6666666,
          "value": 121
         },
         {
          "datetime": "2022-04-25T12:04:15",
          "text": "",
          "timestamp": 1019837056.5,
          "value": 123
         },
         {
          "datetime": "2022-04-25T12:04:20",
          "text": "",
          "timestamp": 1019837062,
          "value": 125
         },
         {
          "datetime": "2022-04-25T12:04:25",
          "text": "",
          "timestamp": 1019837067,
          "value": 123
         },
         {
          "datetime": "2022-04-25T12:04:30",
          "text": "",
          "timestamp": 1019837072.6666666,
          "value": 123.66666666666667
         },
         {
          "datetime": "2022-04-25T12:04:35",
          "text": "",
          "timestamp": 1019837076.75,
          "value": 119.5
         },
         {
          "datetime": "2022-04-25T12:04:40",
          "text": "",
          "timestamp": 1019837082,
          "value": 121
         },
         {
          "datetime": "2022-04-25T12:04:45",
          "text": "",
          "timestamp": 1019837087,
          "value": 119.5
         },
         {
          "datetime": "2022-04-25T12:04:50",
          "text": "",
          "timestamp": 1019837092,
          "value": 119.25
         },
         {
          "datetime": "2022-04-25T12:04:55",
          "text": "",
          "timestamp": 1019837096.6666666,
          "value": 120.33333333333333
         },
         {
          "datetime": "2022-04-25T12:05:00",
          "text": "",
          "timestamp": 1019837101.5555556,
          "value": 126.88888888888889
         },
         {
          "datetime": "2022-04-25T12:05:05",
          "text": "",
          "timestamp": 1019837107.5,
          "value": 126
         },
         {
          "datetime": "2022-04-25T12:05:10",
          "text": "",
          "timestamp": 1019837112,
          "value": 129.4
         },
         {
          "datetime": "2022-04-25T12:05:15",
          "text": "",
          "timestamp": 1019837117,
          "value": 137.2
         },
         {
          "datetime": "2022-04-25T12:05:20",
          "text": "",
          "timestamp": 1019837121.5,
          "value": 148.5
         },
         {
          "datetime": "2022-04-25T12:05:25",
          "text": "OH SHIT → •",
          "timestamp": 1019837126.5,
          "value": 150.5
         },
         {
          "datetime": "2022-04-25T12:05:30",
          "text": "",
          "timestamp": 1019837131,
          "value": 147
         },
         {
          "datetime": "2022-04-25T12:05:35",
          "text": "",
          "timestamp": 1019837137,
          "value": 146.5
         },
         {
          "datetime": "2022-04-25T12:05:40",
          "text": "",
          "timestamp": 1019837141.75,
          "value": 143.5
         },
         {
          "datetime": "2022-04-25T12:05:45",
          "text": "",
          "timestamp": 1019837148.5,
          "value": 140.5
         },
         {
          "datetime": "2022-04-25T12:05:50",
          "text": "",
          "timestamp": 1019837151.3333334,
          "value": 138
         },
         {
          "datetime": "2022-04-25T12:05:55",
          "text": "",
          "timestamp": 1019837159,
          "value": 136
         },
         {
          "datetime": "2022-04-25T12:06:00",
          "text": "",
          "timestamp": 1019837161.7142857,
          "value": 132.28571428571428
         },
         {
          "datetime": "2022-04-25T12:06:05",
          "text": "",
          "timestamp": 1019837168,
          "value": 132
         },
         {
          "datetime": "2022-04-25T12:06:10",
          "text": "",
          "timestamp": 1019837171,
          "value": 131
         },
         {
          "datetime": "2022-04-25T12:06:15",
          "text": "",
          "timestamp": 1019837177.5,
          "value": 129.5
         },
         {
          "datetime": "2022-04-25T12:06:20",
          "text": "",
          "timestamp": 1019837180.5,
          "value": 127.5
         },
         {
          "datetime": "2022-04-25T12:06:25",
          "text": "",
          "timestamp": 1019837188,
          "value": 126
         },
         {
          "datetime": "2022-04-25T12:06:30",
          "text": "",
          "timestamp": 1019837192,
          "value": 125.5
         },
         {
          "datetime": "2022-04-25T12:06:35",
          "text": "",
          "timestamp": 1019837192,
          "value": 125.5
         },
         {
          "datetime": "2022-04-25T12:06:40",
          "text": "",
          "timestamp": 1019837202.25,
          "value": 127.5
         },
         {
          "datetime": "2022-04-25T12:06:45",
          "text": "",
          "timestamp": 1019837209,
          "value": 127
         },
         {
          "datetime": "2022-04-25T12:06:50",
          "text": "",
          "timestamp": 1019837212.25,
          "value": 124.5
         },
         {
          "datetime": "2022-04-25T12:06:55",
          "text": "",
          "timestamp": 1019837215,
          "value": 122
         },
         {
          "datetime": "2022-04-25T12:07:00",
          "text": "",
          "timestamp": 1019837221.3333334,
          "value": 127.33333333333333
         },
         {
          "datetime": "2022-04-25T12:07:05",
          "text": "",
          "timestamp": 1019837228.5,
          "value": 119.5
         },
         {
          "datetime": "2022-04-25T12:07:10",
          "text": "",
          "timestamp": 1019837232,
          "value": 115.6
         },
         {
          "datetime": "2022-04-25T12:07:15",
          "text": "",
          "timestamp": 1019837237,
          "value": 117.33333333333333
         },
         {
          "datetime": "2022-04-25T12:07:20",
          "text": "",
          "timestamp": 1019837242,
          "value": 117
         },
         {
          "datetime": "2022-04-25T12:07:25",
          "text": "",
          "timestamp": 1019837247.5,
          "value": 119.5
         },
         {
          "datetime": "2022-04-25T12:07:30",
          "text": "",
          "timestamp": 1019837252,
          "value": 119
         },
         {
          "datetime": "2022-04-25T12:07:35",
          "text": "",
          "timestamp": 1019837257,
          "value": 117
         },
         {
          "datetime": "2022-04-25T12:07:40",
          "text": "",
          "timestamp": 1019837261.3333334,
          "value": 114
         },
         {
          "datetime": "2022-04-25T12:07:45",
          "text": "",
          "timestamp": 1019837261.3333334,
          "value": 114
         },
         {
          "datetime": "2022-04-25T12:07:50",
          "text": "",
          "timestamp": 1019837272,
          "value": 111.5
         },
         {
          "datetime": "2022-04-25T12:07:55",
          "text": "",
          "timestamp": 1019837276.6666666,
          "value": 109.66666666666667
         },
         {
          "datetime": "2022-04-25T12:08:00",
          "text": "",
          "timestamp": 1019837280.75,
          "value": 108.75
         },
         {
          "datetime": "2022-04-25T12:08:05",
          "text": "",
          "timestamp": 1019837287.5,
          "value": 110.5
         },
         {
          "datetime": "2022-04-25T12:08:10",
          "text": "",
          "timestamp": 1019837292.25,
          "value": 107.5
         },
         {
          "datetime": "2022-04-25T12:08:15",
          "text": "",
          "timestamp": 1019837299,
          "value": 107
         },
         {
          "datetime": "2022-04-25T12:08:20",
          "text": "",
          "timestamp": 1019837302,
          "value": 108.5
         },
         {
          "datetime": "2022-04-25T12:08:25",
          "text": "",
          "timestamp": 1019837308,
          "value": 109
         },
         {
          "datetime": "2022-04-25T12:08:30",
          "text": "",
          "timestamp": 1019837311,
          "value": 107
         },
         {
          "datetime": "2022-04-25T12:08:35",
          "text": "",
          "timestamp": 1019837318,
          "value": 106
         },
         {
          "datetime": "2022-04-25T12:08:40",
          "text": "",
          "timestamp": 1019837324,
          "value": 107
         },
         {
          "datetime": "2022-04-25T12:08:45",
          "text": "",
          "timestamp": 1019837328.5,
          "value": 105.5
         },
         {
          "datetime": "2022-04-25T12:08:50",
          "text": "",
          "timestamp": 1019837332,
          "value": 103.66666666666667
         },
         {
          "datetime": "2022-04-25T12:08:55",
          "text": "",
          "timestamp": 1019837336.5,
          "value": 105.5
         },
         {
          "datetime": "2022-04-25T12:09:00",
          "text": "",
          "timestamp": 1019837340,
          "value": 107
         },
         {
          "datetime": "2022-04-25T12:09:05",
          "text": "",
          "timestamp": 1019837346,
          "value": 108
         },
         {
          "datetime": "2022-04-25T12:09:10",
          "text": "",
          "timestamp": 1019837351,
          "value": 106.5
         },
         {
          "datetime": "2022-04-25T12:09:15",
          "text": "",
          "timestamp": 1019837357,
          "value": 107.5
         },
         {
          "datetime": "2022-04-25T12:09:20",
          "text": "",
          "timestamp": 1019837361,
          "value": 109.5
         },
         {
          "datetime": "2022-04-25T12:09:25",
          "text": "",
          "timestamp": 1019837365,
          "value": 111
         },
         {
          "datetime": "2022-04-25T12:09:30",
          "text": "",
          "timestamp": 1019837371,
          "value": 109.5
         },
         {
          "datetime": "2022-04-25T12:09:35",
          "text": "",
          "timestamp": 1019837377,
          "value": 108
         },
         {
          "datetime": "2022-04-25T12:09:40",
          "text": "",
          "timestamp": 1019837377,
          "value": 108
         },
         {
          "datetime": "2022-04-25T12:09:45",
          "text": "",
          "timestamp": 1019837377,
          "value": 108
         },
         {
          "datetime": "2022-04-25T12:09:50",
          "text": "",
          "timestamp": 1019837393,
          "value": 107
         },
         {
          "datetime": "2022-04-25T12:09:55",
          "text": "",
          "timestamp": 1019837397,
          "value": 109
         },
         {
          "datetime": "2022-04-25T12:10:00",
          "text": "",
          "timestamp": 1019837401,
          "value": 110
         },
         {
          "datetime": "2022-04-25T12:10:05",
          "text": "",
          "timestamp": 1019837406,
          "value": 111
         },
         {
          "datetime": "2022-04-25T12:10:10",
          "text": "",
          "timestamp": 1019837413,
          "value": 109.5
         },
         {
          "datetime": "2022-04-25T12:10:15",
          "text": "",
          "timestamp": 1019837417,
          "value": 107.5
         },
         {
          "datetime": "2022-04-25T12:10:20",
          "text": "",
          "timestamp": 1019837422.5,
          "value": 105.5
         },
         {
          "datetime": "2022-04-25T12:10:25",
          "text": "",
          "timestamp": 1019837427,
          "value": 104.5
         },
         {
          "datetime": "2022-04-25T12:10:30",
          "text": "",
          "timestamp": 1019837431,
          "value": 106.5
         },
         {
          "datetime": "2022-04-25T12:10:35",
          "text": "",
          "timestamp": 1019837437,
          "value": 107
         },
         {
          "datetime": "2022-04-25T12:10:40",
          "text": "",
          "timestamp": 1019837442,
          "value": 108
         },
         {
          "datetime": "2022-04-25T12:10:45",
          "text": "",
          "timestamp": 1019837447,
          "value": 108
         },
         {
          "datetime": "2022-04-25T12:10:50",
          "text": "",
          "timestamp": 1019837451.5,
          "value": 105.5
         },
         {
          "datetime": "2022-04-25T12:10:55",
          "text": "",
          "timestamp": 1019837458.5,
          "value": 105.5
         },
         {
          "datetime": "2022-04-25T12:11:00",
          "text": "",
          "timestamp": 1019837462,
          "value": 107
         },
         {
          "datetime": "2022-04-25T12:11:05",
          "text": "",
          "timestamp": 1019837462,
          "value": 107
         },
         {
          "datetime": "2022-04-25T12:11:10",
          "text": "",
          "timestamp": 1019837474,
          "value": 108
         },
         {
          "datetime": "2022-04-25T12:11:15",
          "text": "",
          "timestamp": 1019837477.6666666,
          "value": 108
         },
         {
          "datetime": "2022-04-25T12:11:20",
          "text": "",
          "timestamp": 1019837481.75,
          "value": 105.5
         },
         {
          "datetime": "2022-04-25T12:11:25",
          "text": "",
          "timestamp": 1019837489,
          "value": 103
         },
         {
          "datetime": "2022-04-25T12:11:30",
          "text": "",
          "timestamp": 1019837494,
          "value": 104
         },
         {
          "datetime": "2022-04-25T12:11:35",
          "text": "",
          "timestamp": 1019837497.5,
          "value": 104.5
         },
         {
          "datetime": "2022-04-25T12:11:40",
          "text": "",
          "timestamp": 1019837501,
          "value": 102.5
         },
         {
          "datetime": "2022-04-25T12:11:45",
          "text": "",
          "timestamp": 1019837507,
          "value": 103
         },
         {
          "datetime": "2022-04-25T12:11:50",
          "text": "",
          "timestamp": 1019837513,
          "value": 105.66666666666667
         },
         {
          "datetime": "2022-04-25T12:11:55",
          "text": "",
          "timestamp": 1019837516.6666666,
          "value": 108.33333333333333
         },
         {
          "datetime": "2022-04-25T12:12:00",
          "text": "",
          "timestamp": 1019837523.5,
          "value": 106.5
         },
         {
          "datetime": "2022-04-25T12:12:05",
          "text": "",
          "timestamp": 1019837529,
          "value": 107
         },
         {
          "datetime": "2022-04-25T12:12:10",
          "text": "",
          "timestamp": 1019837532,
          "value": 105
         },
         {
          "datetime": "2022-04-25T12:12:15",
          "text": "",
          "timestamp": 1019837536.3333334,
          "value": 103
         },
         {
          "datetime": "2022-04-25T12:12:20",
          "text": "",
          "timestamp": 1019837542.5,
          "value": 104.5
         },
         {
          "datetime": "2022-04-25T12:12:25",
          "text": "",
          "timestamp": 1019837547,
          "value": 98.2
         },
         {
          "datetime": "2022-04-25T12:12:30",
          "text": "",
          "timestamp": 1019837552.25,
          "value": 104.75
         },
         {
          "datetime": "2022-04-25T12:12:35",
          "text": "",
          "timestamp": 1019837555,
          "value": 106
         },
         {
          "datetime": "2022-04-25T12:12:40",
          "text": "",
          "timestamp": 1019837563,
          "value": 107
         },
         {
          "datetime": "2022-04-25T12:12:45",
          "text": "",
          "timestamp": 1019837565,
          "value": 108
         },
         {
          "datetime": "2022-04-25T12:12:50",
          "text": "",
          "timestamp": 1019837572,
          "value": 109
         },
         {
          "datetime": "2022-04-25T12:12:55",
          "text": "",
          "timestamp": 1019837577,
          "value": 108.5
         },
         {
          "datetime": "2022-04-25T12:13:00",
          "text": "",
          "timestamp": 1019837583,
          "value": 110
         },
         {
          "datetime": "2022-04-25T12:13:05",
          "text": "",
          "timestamp": 1019837586,
          "value": 111
         },
         {
          "datetime": "2022-04-25T12:13:10",
          "text": "",
          "timestamp": 1019837593,
          "value": 112
         },
         {
          "datetime": "2022-04-25T12:13:15",
          "text": "",
          "timestamp": 1019837597,
          "value": 110.5
         },
         {
          "datetime": "2022-04-25T12:13:20",
          "text": "",
          "timestamp": 1019837602,
          "value": 109
         },
         {
          "datetime": "2022-04-25T12:13:25",
          "text": "",
          "timestamp": 1019837608,
          "value": 110.5
         },
         {
          "datetime": "2022-04-25T12:13:30",
          "text": "",
          "timestamp": 1019837610,
          "value": 110
         },
         {
          "datetime": "2022-04-25T12:13:35",
          "text": "",
          "timestamp": 1019837618,
          "value": 109
         },
         {
          "datetime": "2022-04-25T12:13:40",
          "text": "",
          "timestamp": 1019837618,
          "value": 109
         },
         {
          "datetime": "2022-04-25T12:13:45",
          "text": "",
          "timestamp": 1019837626.6666666,
          "value": 110.33333333333333
         },
         {
          "datetime": "2022-04-25T12:13:50",
          "text": "",
          "timestamp": 1019837631.3333334,
          "value": 108
         },
         {
          "datetime": "2022-04-25T12:13:55",
          "text": "",
          "timestamp": 1019837631.3333334,
          "value": 108
         },
         {
          "datetime": "2022-04-25T12:14:00",
          "text": "",
          "timestamp": 1019837641.3333334,
          "value": 109.33333333333333
         },
         {
          "datetime": "2022-04-25T12:14:05",
          "text": "",
          "timestamp": 1019837647,
          "value": 110.5
         },
         {
          "datetime": "2022-04-25T12:14:10",
          "text": "",
          "timestamp": 1019837652.5,
          "value": 112.5
         },
         {
          "datetime": "2022-04-25T12:14:15",
          "text": "",
          "timestamp": 1019837656.5,
          "value": 110
         },
         {
          "datetime": "2022-04-25T12:14:20",
          "text": "",
          "timestamp": 1019837661.75,
          "value": 105.75
         },
         {
          "datetime": "2022-04-25T12:14:25",
          "text": "",
          "timestamp": 1019837667.25,
          "value": 107.25
         },
         {
          "datetime": "2022-04-25T12:14:30",
          "text": "",
          "timestamp": 1019837671.3333334,
          "value": 104.66666666666667
         },
         {
          "datetime": "2022-04-25T12:14:35",
          "text": "",
          "timestamp": 1019837671.3333334,
          "value": 104.66666666666667
         },
         {
          "datetime": "2022-04-25T12:14:40",
          "text": "",
          "timestamp": 1019837682,
          "value": 105.66666666666667
         },
         {
          "datetime": "2022-04-25T12:14:45",
          "text": "",
          "timestamp": 1019837687.5,
          "value": 107.5
         },
         {
          "datetime": "2022-04-25T12:14:50",
          "text": "",
          "timestamp": 1019837692.5,
          "value": 108
         },
         {
          "datetime": "2022-04-25T12:14:55",
          "text": "",
          "timestamp": 1019837696.5,
          "value": 110
         },
         {
          "datetime": "2022-04-25T12:15:00",
          "text": "",
          "timestamp": 1019837702,
          "value": 112.5
         },
         {
          "datetime": "2022-04-25T12:15:05",
          "text": "",
          "timestamp": 1019837707.6666666,
          "value": 115
         },
         {
          "datetime": "2022-04-25T12:15:10",
          "text": "",
          "timestamp": 1019837712.5,
          "value": 116.5
         },
         {
          "datetime": "2022-04-25T12:15:15",
          "text": "",
          "timestamp": 1019837716.75,
          "value": 114
         },
         {
          "datetime": "2022-04-25T12:15:20",
          "text": "",
          "timestamp": 1019837722.3333334,
          "value": 112
         },
         {
          "datetime": "2022-04-25T12:15:25",
          "text": "",
          "timestamp": 1019837727,
          "value": 110.5
         },
         {
          "datetime": "2022-04-25T12:15:30",
          "text": "",
          "timestamp": 1019837730,
          "value": 112
         },
         {
          "datetime": "2022-04-25T12:15:35",
          "text": "",
          "timestamp": 1019837736.5,
          "value": 111.5
         },
         {
          "datetime": "2022-04-25T12:15:40",
          "text": "",
          "timestamp": 1019837740.5,
          "value": 113.5
         },
         {
          "datetime": "2022-04-25T12:15:45",
          "text": "",
          "timestamp": 1019837748,
          "value": 113
         },
         {
          "datetime": "2022-04-25T12:15:50",
          "text": "",
          "timestamp": 1019837751,
          "value": 114
         },
         {
          "datetime": "2022-04-25T12:15:55",
          "text": "",
          "timestamp": 1019837758,
          "value": 108.66666666666667
         },
         {
          "datetime": "2022-04-25T12:16:00",
          "text": "",
          "timestamp": 1019837761,
          "value": 105.5
         },
         {
          "datetime": "2022-04-25T12:16:05",
          "text": "",
          "timestamp": 1019837761,
          "value": 105.5
         },
         {
          "datetime": "2022-04-25T12:16:10",
          "text": "",
          "timestamp": 1019837772,
          "value": 96
         },
         {
          "datetime": "2022-04-25T12:16:15",
          "text": "",
          "timestamp": 1019837777,
          "value": 93
         },
         {
          "datetime": "2022-04-25T12:16:20",
          "text": "",
          "timestamp": 1019837782,
          "value": 101.4
         },
         {
          "datetime": "2022-04-25T12:16:25",
          "text": "",
          "timestamp": 1019837785,
          "value": 105
         },
         {
          "datetime": "2022-04-25T12:16:30",
          "text": "",
          "timestamp": 1019837791.75,
          "value": 102.5
         },
         {
          "datetime": "2022-04-25T12:16:35",
          "text": "",
          "timestamp": 1019837799,
          "value": 102
         },
         {
          "datetime": "2022-04-25T12:16:40",
          "text": "",
          "timestamp": 1019837801.5,
          "value": 103.5
         },
         {
          "datetime": "2022-04-25T12:16:45",
          "text": "",
          "timestamp": 1019837806.75,
          "value": 101.5
         },
         {
          "datetime": "2022-04-25T12:16:50",
          "text": "",
          "timestamp": 1019837813.5,
          "value": 92
         },
         {
          "datetime": "2022-04-25T12:16:55",
          "text": "",
          "timestamp": 1019837817,
          "value": 91.8
         },
         {
          "datetime": "2022-04-25T12:17:00",
          "text": "",
          "timestamp": 1019837822.25,
          "value": 100.75
         },
         {
          "datetime": "2022-04-25T12:17:05",
          "text": "",
          "timestamp": 1019837827.5,
          "value": 101.5
         },
         {
          "datetime": "2022-04-25T12:17:10",
          "text": "",
          "timestamp": 1019837833.5,
          "value": 102.5
         },
         {
          "datetime": "2022-04-25T12:17:15",
          "text": "",
          "timestamp": 1019837836,
          "value": 100
         },
         {
          "datetime": "2022-04-25T12:17:20",
          "text": "",
          "timestamp": 1019837842,
          "value": 101
         },
         {
          "datetime": "2022-04-25T12:17:25",
          "text": "",
          "timestamp": 1019837845.5,
          "value": 104.5
         },
         {
          "datetime": "2022-04-25T12:17:30",
          "text": "",
          "timestamp": 1019837853,
          "value": 106
         },
         {
          "datetime": "2022-04-25T12:17:35",
          "text": "",
          "timestamp": 1019837856,
          "value": 108
         },
         {
          "datetime": "2022-04-25T12:17:40",
          "text": "",
          "timestamp": 1019837862,
          "value": 108
         },
         {
          "datetime": "2022-04-25T12:17:45",
          "text": "",
          "timestamp": 1019837867.25,
          "value": 105.5
         },
         {
          "datetime": "2022-04-25T12:17:50",
          "text": "",
          "timestamp": 1019837873.5,
          "value": 105.5
         },
         {
          "datetime": "2022-04-25T12:17:55",
          "text": "",
          "timestamp": 1019837875,
          "value": 107
         },
         {
          "datetime": "2022-04-25T12:18:00",
          "text": "",
          "timestamp": 1019837884,
          "value": 106
         },
         {
          "datetime": "2022-04-25T12:18:05",
          "text": "",
          "timestamp": 1019837886,
          "value": 107
         },
         {
          "datetime": "2022-04-25T12:18:10",
          "text": "",
          "timestamp": 1019837892.5,
          "value": 105.5
         },
         {
          "datetime": "2022-04-25T12:18:15",
          "text": "",
          "timestamp": 1019837897.5,
          "value": 104.5
         },
         {
          "datetime": "2022-04-25T12:18:20",
          "text": "",
          "timestamp": 1019837897.5,
          "value": 104.5
         },
         {
          "datetime": "2022-04-25T12:18:25",
          "text": "",
          "timestamp": 1019837907,
          "value": 107.5
         },
         {
          "datetime": "2022-04-25T12:18:30",
          "text": "",
          "timestamp": 1019837911,
          "value": 110
         },
         {
          "datetime": "2022-04-25T12:18:35",
          "text": "",
          "timestamp": 1019837917.5,
          "value": 102.25
         },
         {
          "datetime": "2022-04-25T12:18:40",
          "text": "",
          "timestamp": 1019837922,
          "value": 102.2
         },
         {
          "datetime": "2022-04-25T12:18:45",
          "text": "",
          "timestamp": 1019837926.6666666,
          "value": 105
         },
         {
          "datetime": "2022-04-25T12:18:50",
          "text": "",
          "timestamp": 1019837932,
          "value": 103.4
         },
         {
          "datetime": "2022-04-25T12:18:55",
          "text": "",
          "timestamp": 1019837938.5,
          "value": 103.5
         },
         {
          "datetime": "2022-04-25T12:19:00",
          "text": "",
          "timestamp": 1019837938.5,
          "value": 103.5
         },
         {
          "datetime": "2022-04-25T12:19:05",
          "text": "",
          "timestamp": 1019837947.5,
          "value": 104.5
         },
         {
          "datetime": "2022-04-25T12:19:10",
          "text": "",
          "timestamp": 1019837947.5,
          "value": 104.5
         },
         {
          "datetime": "2022-04-25T12:19:15",
          "text": "",
          "timestamp": 1019837956,
          "value": 103.5
         },
         {
          "datetime": "2022-04-25T12:19:20",
          "text": "",
          "timestamp": 1019837961.6666666,
          "value": 105
         },
         {
          "datetime": "2022-04-25T12:19:25",
          "text": "",
          "timestamp": 1019837969,
          "value": 105
         },
         {
          "datetime": "2022-04-25T12:19:30",
          "text": "",
          "timestamp": 1019837973,
          "value": 106.5
         },
         {
          "datetime": "2022-04-25T12:19:35",
          "text": "",
          "timestamp": 1019837976.5,
          "value": 107.5
         },
         {
          "datetime": "2022-04-25T12:19:40",
          "text": "",
          "timestamp": 1019837980,
          "value": 106
         },
         {
          "datetime": "2022-04-25T12:19:45",
          "text": "",
          "timestamp": 1019837987,
          "value": 106.5
         },
         {
          "datetime": "2022-04-25T12:19:50",
          "text": "",
          "timestamp": 1019837993,
          "value": 104
         },
         {
          "datetime": "2022-04-25T12:19:55",
          "text": "",
          "timestamp": 1019837993,
          "value": 104
         },
         {
          "datetime": "2022-04-25T12:20:00",
          "text": "",
          "timestamp": 1019838000,
          "value": 104
         }
        ]
       },
       "layer": [
        {
         "encoding": {
          "x": {
           "axis": {
            "title": "time"
           },
           "field": "datetime",
           "type": "temporal"
          },
          "y": {
           "axis": {
            "title": "Heart rate"
           },
           "field": "value",
           "scale": {
            "domain": [
             60,
             160
            ]
           },
           "type": "quantitative"
          }
         },
         "mark": {
          "color": "lightblue",
          "interpolate": "step-after",
          "line": true,
          "type": "area"
         }
        },
        {
         "encoding": {
          "text": {
           "field": "text",
           "type": "nominal"
          },
          "x": {
           "field": "datetime",
           "type": "temporal"
          },
          "y": {
           "field": "value",
           "type": "quantitative"
          }
         },
         "mark": {
          "align": "right",
          "size": 20,
          "type": "text"
         }
        }
       ],
       "usermeta": {
        "embedOptions": {
         "theme": "fivethirtyeight"
        }
       }
      },
      "image/png": "[encoded data removed]",
      "text/plain": [
       "<VegaLite 4 object>\n",
       "\n",
       "If you see this message, it means the renderer has not been properly enabled\n",
       "for the frontend that you are using. For more information, see\n",
       "https://altair-viz.github.io/user_guide/troubleshooting.html\n"
      ]
     },
     "execution_count": 6,
     "metadata": {},
     "output_type": "execute_result"
    }
   ],
   "source": [
    "df_plot['text'] = ''\n",
    "df_plot.loc[df_plot.value == df_plot.value.max(), 'text'] = 'OH SHIT → •'\n",
    "\n",
    "chart = alt.Chart(df_plot)\n",
    "(chart.mark_area(\n",
    "    color=\"lightblue\",\n",
    "    interpolate='step-after',\n",
    "    line=True,\n",
    ").encode(\n",
    "    x=alt.X('datetime', axis=alt.Axis(title='time')),\n",
    "    y=alt.Y('value', scale=alt.Scale(domain=((60, 160))), axis=alt.Axis(title='Heart rate'))\n",
    ") + chart.mark_text(align='right', size=20).encode(x='datetime', y='value', text='text')).configure(\n",
    "    background='white',\n",
    ").configure_axis(gridOpacity=.5, labelColor='black')"
   ]
  },
  {
   "cell_type": "code",
   "execution_count": 7,
   "id": "153eef01-1aea-4e52-bd52-efb2b9e8d397",
   "metadata": {},
   "outputs": [
    {
     "data": {
      "application/vnd.vegalite.v4+json": {
       "$schema": "https://vega.github.io/schema/vega-lite/v4.17.0.json",
       "config": {
        "axis": {
         "gridOpacity": 0.5,
         "labelColor": "black"
        },
        "background": "white",
        "view": {
         "continuousHeight": 300,
         "continuousWidth": 400
        }
       },
       "data": {
        "name": "data-4c2d67188462ac382feb2f30f0425395"
       },
       "datasets": {
        "data-4c2d67188462ac382feb2f30f0425395": [
         {
          "datetime": "2022-04-25T09:02:00",
          "textleft": "",
          "textright": "",
          "timestamp": 1019826120,
          "value": 55.2
         },
         {
          "datetime": "2022-04-25T09:03:00",
          "textleft": "",
          "textright": "",
          "timestamp": 1019826120,
          "value": 55.2
         },
         {
          "datetime": "2022-04-25T09:04:00",
          "textleft": "",
          "textright": "",
          "timestamp": 1019826120,
          "value": 55.2
         },
         {
          "datetime": "2022-04-25T09:05:00",
          "textleft": "",
          "textright": "",
          "timestamp": 1019826120,
          "value": 55.2
         },
         {
          "datetime": "2022-04-25T09:06:00",
          "textleft": "",
          "textright": "",
          "timestamp": 1019826120,
          "value": 55.2
         },
         {
          "datetime": "2022-04-25T09:07:00",
          "textleft": "",
          "textright": "",
          "timestamp": 1019826120,
          "value": 55.2
         },
         {
          "datetime": "2022-04-25T09:08:00",
          "textleft": "",
          "textright": "",
          "timestamp": 1019826120,
          "value": 55.2
         },
         {
          "datetime": "2022-04-25T09:09:00",
          "textleft": "",
          "textright": "",
          "timestamp": 1019826120,
          "value": 55.2
         },
         {
          "datetime": "2022-04-25T09:10:00",
          "textleft": "",
          "textright": "",
          "timestamp": 1019826600,
          "value": 57.5
         },
         {
          "datetime": "2022-04-25T09:11:00",
          "textleft": "",
          "textright": "",
          "timestamp": 1019826600,
          "value": 57.5
         },
         {
          "datetime": "2022-04-25T09:12:00",
          "textleft": "",
          "textright": "",
          "timestamp": 1019826600,
          "value": 57.5
         },
         {
          "datetime": "2022-04-25T09:13:00",
          "textleft": "",
          "textright": "",
          "timestamp": 1019826600,
          "value": 57.5
         },
         {
          "datetime": "2022-04-25T09:14:00",
          "textleft": "",
          "textright": "",
          "timestamp": 1019826600,
          "value": 57.5
         },
         {
          "datetime": "2022-04-25T09:15:00",
          "textleft": "",
          "textright": "",
          "timestamp": 1019826600,
          "value": 57.5
         },
         {
          "datetime": "2022-04-25T09:16:00",
          "textleft": "",
          "textright": "",
          "timestamp": 1019826600,
          "value": 57.5
         },
         {
          "datetime": "2022-04-25T09:17:00",
          "textleft": "",
          "textright": "",
          "timestamp": 1019826600,
          "value": 57.5
         },
         {
          "datetime": "2022-04-25T09:18:00",
          "textleft": "",
          "textright": "",
          "timestamp": 1019826600,
          "value": 57.5
         },
         {
          "datetime": "2022-04-25T09:19:00",
          "textleft": "",
          "textright": "",
          "timestamp": 1019827140,
          "value": 57
         },
         {
          "datetime": "2022-04-25T09:20:00",
          "textleft": "",
          "textright": "",
          "timestamp": 1019827200,
          "value": 51.2
         },
         {
          "datetime": "2022-04-25T09:21:00",
          "textleft": "",
          "textright": "",
          "timestamp": 1019827200,
          "value": 51.2
         },
         {
          "datetime": "2022-04-25T09:22:00",
          "textleft": "",
          "textright": "",
          "timestamp": 1019827200,
          "value": 51.2
         },
         {
          "datetime": "2022-04-25T09:23:00",
          "textleft": "",
          "textright": "",
          "timestamp": 1019827200,
          "value": 51.2
         },
         {
          "datetime": "2022-04-25T09:24:00",
          "textleft": "",
          "textright": "",
          "timestamp": 1019827200,
          "value": 51.2
         },
         {
          "datetime": "2022-04-25T09:25:00",
          "textleft": "",
          "textright": "",
          "timestamp": 1019827200,
          "value": 51.2
         },
         {
          "datetime": "2022-04-25T09:26:00",
          "textleft": "",
          "textright": "",
          "timestamp": 1019827200,
          "value": 51.2
         },
         {
          "datetime": "2022-04-25T09:27:00",
          "textleft": "",
          "textright": "",
          "timestamp": 1019827200,
          "value": 51.2
         },
         {
          "datetime": "2022-04-25T09:28:00",
          "textleft": "",
          "textright": "",
          "timestamp": 1019827200,
          "value": 51.2
         },
         {
          "datetime": "2022-04-25T09:29:00",
          "textleft": "",
          "textright": "",
          "timestamp": 1019827740,
          "value": 49
         },
         {
          "datetime": "2022-04-25T09:30:00",
          "textleft": "",
          "textright": "",
          "timestamp": 1019827800,
          "value": 51
         },
         {
          "datetime": "2022-04-25T09:31:00",
          "textleft": "",
          "textright": "",
          "timestamp": 1019827800,
          "value": 51
         },
         {
          "datetime": "2022-04-25T09:32:00",
          "textleft": "",
          "textright": "",
          "timestamp": 1019827920,
          "value": 52
         },
         {
          "datetime": "2022-04-25T09:33:00",
          "textleft": "",
          "textright": "",
          "timestamp": 1019827980,
          "value": 54.333333333333336
         },
         {
          "datetime": "2022-04-25T09:34:00",
          "textleft": "",
          "textright": "",
          "timestamp": 1019827980,
          "value": 54.333333333333336
         },
         {
          "datetime": "2022-04-25T09:35:00",
          "textleft": "",
          "textright": "",
          "timestamp": 1019827980,
          "value": 54.333333333333336
         },
         {
          "datetime": "2022-04-25T09:36:00",
          "textleft": "",
          "textright": "",
          "timestamp": 1019827980,
          "value": 54.333333333333336
         },
         {
          "datetime": "2022-04-25T09:37:00",
          "textleft": "",
          "textright": "",
          "timestamp": 1019827980,
          "value": 54.333333333333336
         },
         {
          "datetime": "2022-04-25T09:38:00",
          "textleft": "",
          "textright": "",
          "timestamp": 1019827980,
          "value": 54.333333333333336
         },
         {
          "datetime": "2022-04-25T09:39:00",
          "textleft": "",
          "textright": "",
          "timestamp": 1019827980,
          "value": 54.333333333333336
         },
         {
          "datetime": "2022-04-25T09:40:00",
          "textleft": "",
          "textright": "",
          "timestamp": 1019827980,
          "value": 54.333333333333336
         },
         {
          "datetime": "2022-04-25T09:41:00",
          "textleft": "",
          "textright": "",
          "timestamp": 1019827980,
          "value": 54.333333333333336
         },
         {
          "datetime": "2022-04-25T09:42:00",
          "textleft": "",
          "textright": "",
          "timestamp": 1019827980,
          "value": 54.333333333333336
         },
         {
          "datetime": "2022-04-25T09:43:00",
          "textleft": "",
          "textright": "",
          "timestamp": 1019827980,
          "value": 54.333333333333336
         },
         {
          "datetime": "2022-04-25T09:44:00",
          "textleft": "",
          "textright": "",
          "timestamp": 1019828640,
          "value": 57.5
         },
         {
          "datetime": "2022-04-25T09:45:00",
          "textleft": "",
          "textright": "",
          "timestamp": 1019828700,
          "value": 54.583333333333336
         },
         {
          "datetime": "2022-04-25T09:46:00",
          "textleft": "",
          "textright": "",
          "timestamp": 1019828700,
          "value": 54.583333333333336
         },
         {
          "datetime": "2022-04-25T09:47:00",
          "textleft": "",
          "textright": "",
          "timestamp": 1019828700,
          "value": 54.583333333333336
         },
         {
          "datetime": "2022-04-25T09:48:00",
          "textleft": "",
          "textright": "",
          "timestamp": 1019828700,
          "value": 54.583333333333336
         },
         {
          "datetime": "2022-04-25T09:49:00",
          "textleft": "",
          "textright": "",
          "timestamp": 1019828700,
          "value": 54.583333333333336
         },
         {
          "datetime": "2022-04-25T09:50:00",
          "textleft": "",
          "textright": "",
          "timestamp": 1019828700,
          "value": 54.583333333333336
         },
         {
          "datetime": "2022-04-25T09:51:00",
          "textleft": "",
          "textright": "",
          "timestamp": 1019828700,
          "value": 54.583333333333336
         },
         {
          "datetime": "2022-04-25T09:52:00",
          "textleft": "",
          "textright": "",
          "timestamp": 1019828700,
          "value": 54.583333333333336
         },
         {
          "datetime": "2022-04-25T09:53:00",
          "textleft": "",
          "textright": "",
          "timestamp": 1019828700,
          "value": 54.583333333333336
         },
         {
          "datetime": "2022-04-25T09:54:00",
          "textleft": "",
          "textright": "",
          "timestamp": 1019828700,
          "value": 54.583333333333336
         },
         {
          "datetime": "2022-04-25T09:55:00",
          "textleft": "",
          "textright": "",
          "timestamp": 1019828700,
          "value": 54.583333333333336
         },
         {
          "datetime": "2022-04-25T09:56:00",
          "textleft": "",
          "textright": "",
          "timestamp": 1019828700,
          "value": 54.583333333333336
         },
         {
          "datetime": "2022-04-25T09:57:00",
          "textleft": "",
          "textright": "",
          "timestamp": 1019828700,
          "value": 54.583333333333336
         },
         {
          "datetime": "2022-04-25T09:58:00",
          "textleft": "",
          "textright": "",
          "timestamp": 1019829480,
          "value": 57.333333333333336
         },
         {
          "datetime": "2022-04-25T09:59:00",
          "textleft": "",
          "textright": "",
          "timestamp": 1019829480,
          "value": 57.333333333333336
         },
         {
          "datetime": "2022-04-25T10:00:00",
          "textleft": "",
          "textright": "",
          "timestamp": 1019829480,
          "value": 57.333333333333336
         },
         {
          "datetime": "2022-04-25T10:01:00",
          "textleft": "",
          "textright": "",
          "timestamp": 1019829480,
          "value": 57.333333333333336
         },
         {
          "datetime": "2022-04-25T10:02:00",
          "textleft": "",
          "textright": "",
          "timestamp": 1019829720,
          "value": 57.6
         },
         {
          "datetime": "2022-04-25T10:03:00",
          "textleft": "",
          "textright": "",
          "timestamp": 1019829720,
          "value": 57.6
         },
         {
          "datetime": "2022-04-25T10:04:00",
          "textleft": "",
          "textright": "",
          "timestamp": 1019829720,
          "value": 57.6
         },
         {
          "datetime": "2022-04-25T10:05:00",
          "textleft": "",
          "textright": "",
          "timestamp": 1019829720,
          "value": 57.6
         },
         {
          "datetime": "2022-04-25T10:06:00",
          "textleft": "",
          "textright": "",
          "timestamp": 1019829720,
          "value": 57.6
         },
         {
          "datetime": "2022-04-25T10:07:00",
          "textleft": "",
          "textright": "",
          "timestamp": 1019829720,
          "value": 57.6
         },
         {
          "datetime": "2022-04-25T10:08:00",
          "textleft": "",
          "textright": "",
          "timestamp": 1019829720,
          "value": 57.6
         },
         {
          "datetime": "2022-04-25T10:09:00",
          "textleft": "",
          "textright": "",
          "timestamp": 1019830140,
          "value": 60
         },
         {
          "datetime": "2022-04-25T10:10:00",
          "textleft": "",
          "textright": "",
          "timestamp": 1019830140,
          "value": 60
         },
         {
          "datetime": "2022-04-25T10:11:00",
          "textleft": "",
          "textright": "",
          "timestamp": 1019830260,
          "value": 57.75
         },
         {
          "datetime": "2022-04-25T10:12:00",
          "textleft": "",
          "textright": "",
          "timestamp": 1019830260,
          "value": 57.75
         },
         {
          "datetime": "2022-04-25T10:13:00",
          "textleft": "",
          "textright": "",
          "timestamp": 1019830260,
          "value": 57.75
         },
         {
          "datetime": "2022-04-25T10:14:00",
          "textleft": "",
          "textright": "",
          "timestamp": 1019830260,
          "value": 57.75
         },
         {
          "datetime": "2022-04-25T10:15:00",
          "textleft": "",
          "textright": "",
          "timestamp": 1019830260,
          "value": 57.75
         },
         {
          "datetime": "2022-04-25T10:16:00",
          "textleft": "",
          "textright": "",
          "timestamp": 1019830560,
          "value": 63
         },
         {
          "datetime": "2022-04-25T10:17:00",
          "textleft": "",
          "textright": "",
          "timestamp": 1019830560,
          "value": 63
         },
         {
          "datetime": "2022-04-25T10:18:00",
          "textleft": "",
          "textright": "",
          "timestamp": 1019830680,
          "value": 56
         },
         {
          "datetime": "2022-04-25T10:19:00",
          "textleft": "",
          "textright": "",
          "timestamp": 1019830740,
          "value": 54.75
         },
         {
          "datetime": "2022-04-25T10:20:00",
          "textleft": "",
          "textright": "",
          "timestamp": 1019830740,
          "value": 54.75
         },
         {
          "datetime": "2022-04-25T10:21:00",
          "textleft": "",
          "textright": "",
          "timestamp": 1019830740,
          "value": 54.75
         },
         {
          "datetime": "2022-04-25T10:22:00",
          "textleft": "",
          "textright": "",
          "timestamp": 1019830740,
          "value": 54.75
         },
         {
          "datetime": "2022-04-25T10:23:00",
          "textleft": "",
          "textright": "",
          "timestamp": 1019830980,
          "value": 62
         },
         {
          "datetime": "2022-04-25T10:24:00",
          "textleft": "",
          "textright": "",
          "timestamp": 1019831040,
          "value": 53
         },
         {
          "datetime": "2022-04-25T10:25:00",
          "textleft": "",
          "textright": "Wake •",
          "timestamp": 1019831100,
          "value": 80.5
         },
         {
          "datetime": "2022-04-25T10:26:00",
          "textleft": "",
          "textright": "",
          "timestamp": 1019831100,
          "value": 80.5
         },
         {
          "datetime": "2022-04-25T10:27:00",
          "textleft": "",
          "textright": "",
          "timestamp": 1019831100,
          "value": 80.5
         },
         {
          "datetime": "2022-04-25T10:28:00",
          "textleft": "",
          "textright": "",
          "timestamp": 1019831100,
          "value": 80.5
         },
         {
          "datetime": "2022-04-25T10:29:00",
          "textleft": "",
          "textright": "",
          "timestamp": 1019831100,
          "value": 80.5
         },
         {
          "datetime": "2022-04-25T10:30:00",
          "textleft": "",
          "textright": "",
          "timestamp": 1019831100,
          "value": 80.5
         },
         {
          "datetime": "2022-04-25T10:31:00",
          "textleft": "",
          "textright": "",
          "timestamp": 1019831100,
          "value": 80.5
         },
         {
          "datetime": "2022-04-25T10:32:00",
          "textleft": "",
          "textright": "",
          "timestamp": 1019831100,
          "value": 80.5
         },
         {
          "datetime": "2022-04-25T10:33:00",
          "textleft": "",
          "textright": "",
          "timestamp": 1019831100,
          "value": 80.5
         },
         {
          "datetime": "2022-04-25T10:34:00",
          "textleft": "",
          "textright": "",
          "timestamp": 1019831100,
          "value": 80.5
         },
         {
          "datetime": "2022-04-25T10:35:00",
          "textleft": "",
          "textright": "",
          "timestamp": 1019831100,
          "value": 80.5
         },
         {
          "datetime": "2022-04-25T10:36:00",
          "textleft": "",
          "textright": "",
          "timestamp": 1019831100,
          "value": 80.5
         },
         {
          "datetime": "2022-04-25T10:37:00",
          "textleft": "",
          "textright": "",
          "timestamp": 1019831100,
          "value": 80.5
         },
         {
          "datetime": "2022-04-25T10:38:00",
          "textleft": "",
          "textright": "",
          "timestamp": 1019831100,
          "value": 80.5
         },
         {
          "datetime": "2022-04-25T10:39:00",
          "textleft": "",
          "textright": "",
          "timestamp": 1019831100,
          "value": 80.5
         },
         {
          "datetime": "2022-04-25T10:40:00",
          "textleft": "",
          "textright": "",
          "timestamp": 1019831100,
          "value": 80.5
         },
         {
          "datetime": "2022-04-25T10:41:00",
          "textleft": "",
          "textright": "",
          "timestamp": 1019831100,
          "value": 80.5
         },
         {
          "datetime": "2022-04-25T10:42:00",
          "textleft": "",
          "textright": "",
          "timestamp": 1019831100,
          "value": 80.5
         },
         {
          "datetime": "2022-04-25T10:43:00",
          "textleft": "",
          "textright": "",
          "timestamp": 1019831100,
          "value": 80.5
         },
         {
          "datetime": "2022-04-25T10:44:00",
          "textleft": "",
          "textright": "",
          "timestamp": 1019831100,
          "value": 80.5
         },
         {
          "datetime": "2022-04-25T10:45:00",
          "textleft": "",
          "textright": "",
          "timestamp": 1019831100,
          "value": 80.5
         },
         {
          "datetime": "2022-04-25T10:46:00",
          "textleft": "",
          "textright": "",
          "timestamp": 1019831100,
          "value": 80.5
         },
         {
          "datetime": "2022-04-25T10:47:00",
          "textleft": "",
          "textright": "",
          "timestamp": 1019831100,
          "value": 80.5
         },
         {
          "datetime": "2022-04-25T10:48:00",
          "textleft": "",
          "textright": "",
          "timestamp": 1019831100,
          "value": 80.5
         },
         {
          "datetime": "2022-04-25T10:49:00",
          "textleft": "",
          "textright": "",
          "timestamp": 1019831100,
          "value": 80.5
         },
         {
          "datetime": "2022-04-25T10:50:00",
          "textleft": "",
          "textright": "",
          "timestamp": 1019831100,
          "value": 80.5
         },
         {
          "datetime": "2022-04-25T10:51:00",
          "textleft": "",
          "textright": "",
          "timestamp": 1019831100,
          "value": 80.5
         },
         {
          "datetime": "2022-04-25T10:52:00",
          "textleft": "",
          "textright": "",
          "timestamp": 1019831100,
          "value": 80.5
         },
         {
          "datetime": "2022-04-25T10:53:00",
          "textleft": "",
          "textright": "",
          "timestamp": 1019831100,
          "value": 80.5
         },
         {
          "datetime": "2022-04-25T10:54:00",
          "textleft": "",
          "textright": "",
          "timestamp": 1019831100,
          "value": 80.5
         },
         {
          "datetime": "2022-04-25T10:55:00",
          "textleft": "",
          "textright": "",
          "timestamp": 1019831100,
          "value": 80.5
         },
         {
          "datetime": "2022-04-25T10:56:00",
          "textleft": "",
          "textright": "",
          "timestamp": 1019831100,
          "value": 80.5
         },
         {
          "datetime": "2022-04-25T10:57:00",
          "textleft": "",
          "textright": "",
          "timestamp": 1019831100,
          "value": 80.5
         },
         {
          "datetime": "2022-04-25T10:58:00",
          "textleft": "",
          "textright": "",
          "timestamp": 1019831100,
          "value": 80.5
         },
         {
          "datetime": "2022-04-25T10:59:00",
          "textleft": "",
          "textright": "",
          "timestamp": 1019831100,
          "value": 80.5
         },
         {
          "datetime": "2022-04-25T11:00:00",
          "textleft": "",
          "textright": "",
          "timestamp": 1019831100,
          "value": 80.5
         },
         {
          "datetime": "2022-04-25T11:01:00",
          "textleft": "",
          "textright": "",
          "timestamp": 1019831100,
          "value": 80.5
         },
         {
          "datetime": "2022-04-25T11:02:00",
          "textleft": "",
          "textright": "",
          "timestamp": 1019831100,
          "value": 80.5
         },
         {
          "datetime": "2022-04-25T11:03:00",
          "textleft": "",
          "textright": "",
          "timestamp": 1019831100,
          "value": 80.5
         },
         {
          "datetime": "2022-04-25T11:04:00",
          "textleft": "",
          "textright": "",
          "timestamp": 1019831100,
          "value": 80.5
         },
         {
          "datetime": "2022-04-25T11:05:00",
          "textleft": "",
          "textright": "",
          "timestamp": 1019831100,
          "value": 80.5
         },
         {
          "datetime": "2022-04-25T11:06:00",
          "textleft": "",
          "textright": "",
          "timestamp": 1019831100,
          "value": 80.5
         },
         {
          "datetime": "2022-04-25T11:07:00",
          "textleft": "",
          "textright": "",
          "timestamp": 1019831100,
          "value": 80.5
         },
         {
          "datetime": "2022-04-25T11:08:00",
          "textleft": "",
          "textright": "",
          "timestamp": 1019831100,
          "value": 80.5
         },
         {
          "datetime": "2022-04-25T11:09:00",
          "textleft": "",
          "textright": "",
          "timestamp": 1019831100,
          "value": 80.5
         },
         {
          "datetime": "2022-04-25T11:10:00",
          "textleft": "",
          "textright": "",
          "timestamp": 1019831100,
          "value": 80.5
         },
         {
          "datetime": "2022-04-25T11:11:00",
          "textleft": "",
          "textright": "",
          "timestamp": 1019831100,
          "value": 80.5
         },
         {
          "datetime": "2022-04-25T11:12:00",
          "textleft": "",
          "textright": "",
          "timestamp": 1019831100,
          "value": 80.5
         },
         {
          "datetime": "2022-04-25T11:13:00",
          "textleft": "",
          "textright": "",
          "timestamp": 1019831100,
          "value": 80.5
         },
         {
          "datetime": "2022-04-25T11:14:00",
          "textleft": "",
          "textright": "",
          "timestamp": 1019831100,
          "value": 80.5
         },
         {
          "datetime": "2022-04-25T11:15:00",
          "textleft": "",
          "textright": "",
          "timestamp": 1019831100,
          "value": 80.5
         },
         {
          "datetime": "2022-04-25T11:16:00",
          "textleft": "",
          "textright": "",
          "timestamp": 1019831100,
          "value": 80.5
         },
         {
          "datetime": "2022-04-25T11:17:00",
          "textleft": "",
          "textright": "",
          "timestamp": 1019831100,
          "value": 80.5
         },
         {
          "datetime": "2022-04-25T11:18:00",
          "textleft": "",
          "textright": "",
          "timestamp": 1019834280,
          "value": 92
         },
         {
          "datetime": "2022-04-25T11:19:00",
          "textleft": "",
          "textright": "",
          "timestamp": 1019834280,
          "value": 92
         },
         {
          "datetime": "2022-04-25T11:20:00",
          "textleft": "",
          "textright": "",
          "timestamp": 1019834280,
          "value": 92
         },
         {
          "datetime": "2022-04-25T11:21:00",
          "textleft": "",
          "textright": "",
          "timestamp": 1019834460,
          "value": 94
         },
         {
          "datetime": "2022-04-25T11:22:00",
          "textleft": "",
          "textright": "",
          "timestamp": 1019834460,
          "value": 94
         },
         {
          "datetime": "2022-04-25T11:23:00",
          "textleft": "",
          "textright": "",
          "timestamp": 1019834460,
          "value": 94
         },
         {
          "datetime": "2022-04-25T11:24:00",
          "textleft": "",
          "textright": "",
          "timestamp": 1019834460,
          "value": 94
         },
         {
          "datetime": "2022-04-25T11:25:00",
          "textleft": "",
          "textright": "Walk •",
          "timestamp": 1019834700,
          "value": 103.4
         },
         {
          "datetime": "2022-04-25T11:26:00",
          "textleft": "",
          "textright": "",
          "timestamp": 1019834700,
          "value": 103.4
         },
         {
          "datetime": "2022-04-25T11:27:00",
          "textleft": "",
          "textright": "",
          "timestamp": 1019834700,
          "value": 103.4
         },
         {
          "datetime": "2022-04-25T11:28:00",
          "textleft": "",
          "textright": "",
          "timestamp": 1019834700,
          "value": 103.4
         },
         {
          "datetime": "2022-04-25T11:29:00",
          "textleft": "",
          "textright": "",
          "timestamp": 1019834700,
          "value": 103.4
         },
         {
          "datetime": "2022-04-25T11:30:00",
          "textleft": "",
          "textright": "",
          "timestamp": 1019835000,
          "value": 90
         },
         {
          "datetime": "2022-04-25T11:31:00",
          "textleft": "",
          "textright": "",
          "timestamp": 1019835110.8571428,
          "value": 96.92857142857143
         },
         {
          "datetime": "2022-04-25T11:32:00",
          "textleft": "",
          "textright": "",
          "timestamp": 1019835150.948718,
          "value": 95.15384615384616
         },
         {
          "datetime": "2022-04-25T11:33:00",
          "textleft": "",
          "textright": "",
          "timestamp": 1019835208.5675676,
          "value": 91.35135135135135
         },
         {
          "datetime": "2022-04-25T11:34:00",
          "textleft": "",
          "textright": "",
          "timestamp": 1019835266.902439,
          "value": 86.70731707317073
         },
         {
          "datetime": "2022-04-25T11:35:00",
          "textleft": "",
          "textright": "",
          "timestamp": 1019835330.9010988,
          "value": 87.10989010989012
         },
         {
          "datetime": "2022-04-25T11:36:00",
          "textleft": "",
          "textright": "",
          "timestamp": 1019835391.3658537,
          "value": 85.78048780487805
         },
         {
          "datetime": "2022-04-25T11:37:00",
          "textleft": "",
          "textright": "",
          "timestamp": 1019835450.6129032,
          "value": 71.70967741935483
         },
         {
          "datetime": "2022-04-25T11:38:00",
          "textleft": "",
          "textright": "",
          "timestamp": 1019835511.9268292,
          "value": 68.97560975609755
         },
         {
          "datetime": "2022-04-25T11:39:00",
          "textleft": "",
          "textright": "",
          "timestamp": 1019835571.4864864,
          "value": 79.1891891891892
         },
         {
          "datetime": "2022-04-25T11:40:00",
          "textleft": "",
          "textright": "",
          "timestamp": 1019835632.097561,
          "value": 83.34146341463415
         },
         {
          "datetime": "2022-04-25T11:41:00",
          "textleft": "",
          "textright": "",
          "timestamp": 1019835690.5882353,
          "value": 87
         },
         {
          "datetime": "2022-04-25T11:42:00",
          "textleft": "",
          "textright": "",
          "timestamp": 1019835742.94,
          "value": 85.65
         },
         {
          "datetime": "2022-04-25T11:43:00",
          "textleft": "",
          "textright": "",
          "timestamp": 1019835811,
          "value": 77.88636363636364
         },
         {
          "datetime": "2022-04-25T11:44:00",
          "textleft": "",
          "textright": "",
          "timestamp": 1019835869.745098,
          "value": 79.72549019607843
         },
         {
          "datetime": "2022-04-25T11:45:00",
          "textleft": "",
          "textright": "",
          "timestamp": 1019835929.1818181,
          "value": 90.5
         },
         {
          "datetime": "2022-04-25T11:46:00",
          "textleft": "",
          "textright": "",
          "timestamp": 1019835989.9565217,
          "value": 91.80434782608695
         },
         {
          "datetime": "2022-04-25T11:47:00",
          "textleft": "",
          "textright": "",
          "timestamp": 1019836049.9,
          "value": 93
         },
         {
          "datetime": "2022-04-25T11:48:00",
          "textleft": "",
          "textright": "",
          "timestamp": 1019836110.7083334,
          "value": 92.10416666666667
         },
         {
          "datetime": "2022-04-25T11:49:00",
          "textleft": "",
          "textright": "",
          "timestamp": 1019836171.8965517,
          "value": 93.55172413793103
         },
         {
          "datetime": "2022-04-25T11:50:00",
          "textleft": "",
          "textright": "",
          "timestamp": 1019836226.7435898,
          "value": 87.17948717948718
         },
         {
          "datetime": "2022-04-25T11:51:00",
          "textleft": "",
          "textright": "",
          "timestamp": 1019836287.9,
          "value": 99.375
         },
         {
          "datetime": "2022-04-25T11:52:00",
          "textleft": "",
          "textright": "",
          "timestamp": 1019836350.7058823,
          "value": 112.97058823529412
         },
         {
          "datetime": "2022-04-25T11:53:00",
          "textleft": "",
          "textright": "",
          "timestamp": 1019836410.7368422,
          "value": 107.84210526315789
         },
         {
          "datetime": "2022-04-25T11:54:00",
          "textleft": "",
          "textright": "",
          "timestamp": 1019836469.225,
          "value": 111.125
         },
         {
          "datetime": "2022-04-25T11:55:00",
          "textleft": "",
          "textright": "Climb •",
          "timestamp": 1019836526.6923077,
          "value": 111.15384615384616
         },
         {
          "datetime": "2022-04-25T11:56:00",
          "textleft": "",
          "textright": "",
          "timestamp": 1019836587.46875,
          "value": 106.875
         },
         {
          "datetime": "2022-04-25T11:57:00",
          "textleft": "",
          "textright": "",
          "timestamp": 1019836652.1666666,
          "value": 111.77777777777777
         },
         {
          "datetime": "2022-04-25T11:58:00",
          "textleft": "",
          "textright": "",
          "timestamp": 1019836708.3043479,
          "value": 110.08695652173913
         },
         {
          "datetime": "2022-04-25T11:59:00",
          "textleft": "",
          "textright": "",
          "timestamp": 1019836768.7435898,
          "value": 113.71794871794872
         },
         {
          "datetime": "2022-04-25T12:00:00",
          "textleft": "",
          "textright": "",
          "timestamp": 1019836829.7948718,
          "value": 118.66666666666667
         },
         {
          "datetime": "2022-04-25T12:01:00",
          "textleft": "",
          "textright": "",
          "timestamp": 1019836887.5952381,
          "value": 122.92857142857143
         },
         {
          "datetime": "2022-04-25T12:02:00",
          "textleft": "",
          "textright": "",
          "timestamp": 1019836952.7666667,
          "value": 116.2
         },
         {
          "datetime": "2022-04-25T12:03:00",
          "textleft": "",
          "textright": "",
          "timestamp": 1019837013.0333333,
          "value": 124.7
         },
         {
          "datetime": "2022-04-25T12:04:00",
          "textleft": "",
          "textright": "",
          "timestamp": 1019837069.3589743,
          "value": 121.48717948717949
         },
         {
          "datetime": "2022-04-25T12:05:00",
          "textleft": "",
          "textright": "Fall •",
          "timestamp": 1019837125.392405,
          "value": 139.0126582278481
         },
         {
          "datetime": "2022-04-25T12:06:00",
          "textleft": "",
          "textright": "",
          "timestamp": 1019837190,
          "value": 127.73333333333333
         },
         {
          "datetime": "2022-04-25T12:07:00",
          "textleft": "",
          "textright": "",
          "timestamp": 1019837247.7894737,
          "value": 116.28070175438596
         },
         {
          "datetime": "2022-04-25T12:08:00",
          "textleft": "",
          "textright": "",
          "timestamp": 1019837303.2,
          "value": 107.5
         },
         {
          "datetime": "2022-04-25T12:09:00",
          "textleft": "",
          "textright": "",
          "timestamp": 1019837367.75,
          "value": 108.125
         },
         {
          "datetime": "2022-04-25T12:10:00",
          "textleft": "",
          "textright": "",
          "timestamp": 1019837433.25,
          "value": 106.95833333333333
         },
         {
          "datetime": "2022-04-25T12:11:00",
          "textleft": "",
          "textright": "",
          "timestamp": 1019837494.1818181,
          "value": 105.77272727272727
         },
         {
          "datetime": "2022-04-25T12:12:00",
          "textleft": "",
          "textright": "",
          "timestamp": 1019837546.5714285,
          "value": 104.25
         },
         {
          "datetime": "2022-04-25T12:13:00",
          "textleft": "",
          "textright": "",
          "timestamp": 1019837611,
          "value": 109.875
         },
         {
          "datetime": "2022-04-25T12:14:00",
          "textleft": "",
          "textright": "",
          "timestamp": 1019837669.6129032,
          "value": 108
         },
         {
          "datetime": "2022-04-25T12:15:00",
          "textleft": "",
          "textright": "",
          "timestamp": 1019837726.8076923,
          "value": 112.73076923076923
         },
         {
          "datetime": "2022-04-25T12:16:00",
          "textleft": "",
          "textright": "",
          "timestamp": 1019837791.6470588,
          "value": 98.52941176470588
         },
         {
          "datetime": "2022-04-25T12:17:00",
          "textleft": "",
          "textright": "",
          "timestamp": 1019837846.875,
          "value": 103.59375
         },
         {
          "datetime": "2022-04-25T12:18:00",
          "textleft": "",
          "textright": "",
          "timestamp": 1019837914.71875,
          "value": 104.46875
         },
         {
          "datetime": "2022-04-25T12:19:00",
          "textleft": "",
          "textright": "",
          "timestamp": 1019837971.8333334,
          "value": 105.27777777777777
         },
         {
          "datetime": "2022-04-25T12:20:00",
          "textleft": "",
          "textright": "",
          "timestamp": 1019838026.8205128,
          "value": 105.53846153846153
         },
         {
          "datetime": "2022-04-25T12:21:00",
          "textleft": "",
          "textright": "",
          "timestamp": 1019838060,
          "value": 107
         },
         {
          "datetime": "2022-04-25T12:22:00",
          "textleft": "",
          "textright": "",
          "timestamp": 1019838060,
          "value": 107
         },
         {
          "datetime": "2022-04-25T12:23:00",
          "textleft": "",
          "textright": "",
          "timestamp": 1019838060,
          "value": 107
         },
         {
          "datetime": "2022-04-25T12:24:00",
          "textleft": "",
          "textright": "",
          "timestamp": 1019838060,
          "value": 107
         },
         {
          "datetime": "2022-04-25T12:25:00",
          "textleft": "",
          "textright": "",
          "timestamp": 1019838060,
          "value": 107
         },
         {
          "datetime": "2022-04-25T12:26:00",
          "textleft": "",
          "textright": "",
          "timestamp": 1019838360,
          "value": 97.4
         },
         {
          "datetime": "2022-04-25T12:27:00",
          "textleft": "",
          "textright": "",
          "timestamp": 1019838360,
          "value": 97.4
         },
         {
          "datetime": "2022-04-25T12:28:00",
          "textleft": "",
          "textright": "",
          "timestamp": 1019838360,
          "value": 97.4
         },
         {
          "datetime": "2022-04-25T12:29:00",
          "textleft": "",
          "textright": "",
          "timestamp": 1019838360,
          "value": 97.4
         },
         {
          "datetime": "2022-04-25T12:30:00",
          "textleft": "",
          "textright": "",
          "timestamp": 1019838360,
          "value": 97.4
         },
         {
          "datetime": "2022-04-25T12:31:00",
          "textleft": "",
          "textright": "",
          "timestamp": 1019838660,
          "value": 98
         },
         {
          "datetime": "2022-04-25T12:32:00",
          "textleft": "",
          "textright": "",
          "timestamp": 1019838720,
          "value": 87.33333333333333
         },
         {
          "datetime": "2022-04-25T12:33:00",
          "textleft": "",
          "textright": "",
          "timestamp": 1019838720,
          "value": 87.33333333333333
         },
         {
          "datetime": "2022-04-25T12:34:00",
          "textleft": "",
          "textright": "",
          "timestamp": 1019838720,
          "value": 87.33333333333333
         },
         {
          "datetime": "2022-04-25T12:35:00",
          "textleft": "",
          "textright": "",
          "timestamp": 1019838900,
          "value": 84.57142857142857
         },
         {
          "datetime": "2022-04-25T12:36:00",
          "textleft": "",
          "textright": "",
          "timestamp": 1019838900,
          "value": 84.57142857142857
         },
         {
          "datetime": "2022-04-25T12:37:00",
          "textleft": "",
          "textright": "",
          "timestamp": 1019838900,
          "value": 84.57142857142857
         },
         {
          "datetime": "2022-04-25T12:38:00",
          "textleft": "",
          "textright": "",
          "timestamp": 1019838900,
          "value": 84.57142857142857
         },
         {
          "datetime": "2022-04-25T12:39:00",
          "textleft": "",
          "textright": "",
          "timestamp": 1019838900,
          "value": 84.57142857142857
         },
         {
          "datetime": "2022-04-25T12:40:00",
          "textleft": "",
          "textright": "",
          "timestamp": 1019838900,
          "value": 84.57142857142857
         },
         {
          "datetime": "2022-04-25T12:41:00",
          "textleft": "",
          "textright": "",
          "timestamp": 1019838900,
          "value": 84.57142857142857
         },
         {
          "datetime": "2022-04-25T12:42:00",
          "textleft": "",
          "textright": "",
          "timestamp": 1019838900,
          "value": 84.57142857142857
         },
         {
          "datetime": "2022-04-25T12:43:00",
          "textleft": "",
          "textright": "",
          "timestamp": 1019838900,
          "value": 84.57142857142857
         },
         {
          "datetime": "2022-04-25T12:44:00",
          "textleft": "",
          "textright": "",
          "timestamp": 1019839440,
          "value": 94.66666666666667
         },
         {
          "datetime": "2022-04-25T12:45:00",
          "textleft": "",
          "textright": "",
          "timestamp": 1019839440,
          "value": 94.66666666666667
         },
         {
          "datetime": "2022-04-25T12:46:00",
          "textleft": "• Gurney",
          "textright": "",
          "timestamp": 1019839440,
          "value": 94.66666666666667
         },
         {
          "datetime": "2022-04-25T12:47:00",
          "textleft": "",
          "textright": "",
          "timestamp": 1019839440,
          "value": 94.66666666666667
         },
         {
          "datetime": "2022-04-25T12:48:00",
          "textleft": "",
          "textright": "",
          "timestamp": 1019839440,
          "value": 94.66666666666667
         },
         {
          "datetime": "2022-04-25T12:49:00",
          "textleft": "",
          "textright": "",
          "timestamp": 1019839440,
          "value": 94.66666666666667
         },
         {
          "datetime": "2022-04-25T12:50:00",
          "textleft": "",
          "textright": "",
          "timestamp": 1019839800,
          "value": 83.4
         },
         {
          "datetime": "2022-04-25T12:51:00",
          "textleft": "",
          "textright": "",
          "timestamp": 1019839800,
          "value": 83.4
         },
         {
          "datetime": "2022-04-25T12:52:00",
          "textleft": "",
          "textright": "",
          "timestamp": 1019839800,
          "value": 83.4
         },
         {
          "datetime": "2022-04-25T12:53:00",
          "textleft": "",
          "textright": "",
          "timestamp": 1019839800,
          "value": 83.4
         },
         {
          "datetime": "2022-04-25T12:54:00",
          "textleft": "",
          "textright": "",
          "timestamp": 1019839800,
          "value": 83.4
         },
         {
          "datetime": "2022-04-25T12:55:00",
          "textleft": "",
          "textright": "",
          "timestamp": 1019840100,
          "value": 83
         },
         {
          "datetime": "2022-04-25T12:56:00",
          "textleft": "",
          "textright": "",
          "timestamp": 1019840100,
          "value": 83
         },
         {
          "datetime": "2022-04-25T12:57:00",
          "textleft": "",
          "textright": "",
          "timestamp": 1019840220,
          "value": 78
         },
         {
          "datetime": "2022-04-25T12:58:00",
          "textleft": "",
          "textright": "",
          "timestamp": 1019840280,
          "value": 79.5
         },
         {
          "datetime": "2022-04-25T12:59:00",
          "textleft": "",
          "textright": "",
          "timestamp": 1019840280,
          "value": 79.5
         },
         {
          "datetime": "2022-04-25T13:00:00",
          "textleft": "",
          "textright": "",
          "timestamp": 1019840400,
          "value": 80.33333333333333
         },
         {
          "datetime": "2022-04-25T13:01:00",
          "textleft": "",
          "textright": "",
          "timestamp": 1019840400,
          "value": 80.33333333333333
         },
         {
          "datetime": "2022-04-25T13:02:00",
          "textleft": "",
          "textright": "",
          "timestamp": 1019840400,
          "value": 80.33333333333333
         },
         {
          "datetime": "2022-04-25T13:03:00",
          "textleft": "",
          "textright": "",
          "timestamp": 1019840400,
          "value": 80.33333333333333
         },
         {
          "datetime": "2022-04-25T13:04:00",
          "textleft": "",
          "textright": "",
          "timestamp": 1019840400,
          "value": 80.33333333333333
         },
         {
          "datetime": "2022-04-25T13:05:00",
          "textleft": "",
          "textright": "",
          "timestamp": 1019840400,
          "value": 80.33333333333333
         },
         {
          "datetime": "2022-04-25T13:06:00",
          "textleft": "",
          "textright": "",
          "timestamp": 1019840400,
          "value": 80.33333333333333
         },
         {
          "datetime": "2022-04-25T13:07:00",
          "textleft": "",
          "textright": "",
          "timestamp": 1019840820,
          "value": 80
         },
         {
          "datetime": "2022-04-25T13:08:00",
          "textleft": "",
          "textright": "",
          "timestamp": 1019840880,
          "value": 79
         },
         {
          "datetime": "2022-04-25T13:09:00",
          "textleft": "",
          "textright": "",
          "timestamp": 1019840880,
          "value": 79
         },
         {
          "datetime": "2022-04-25T13:10:00",
          "textleft": "",
          "textright": "",
          "timestamp": 1019840880,
          "value": 79
         },
         {
          "datetime": "2022-04-25T13:11:00",
          "textleft": "",
          "textright": "",
          "timestamp": 1019841060,
          "value": 78.5
         },
         {
          "datetime": "2022-04-25T13:12:00",
          "textleft": "",
          "textright": "",
          "timestamp": 1019841060,
          "value": 78.5
         },
         {
          "datetime": "2022-04-25T13:13:00",
          "textleft": "",
          "textright": "",
          "timestamp": 1019841180,
          "value": 78.33333333333333
         },
         {
          "datetime": "2022-04-25T13:14:00",
          "textleft": "",
          "textright": "",
          "timestamp": 1019841180,
          "value": 78.33333333333333
         },
         {
          "datetime": "2022-04-25T13:15:00",
          "textleft": "",
          "textright": "",
          "timestamp": 1019841180,
          "value": 78.33333333333333
         },
         {
          "datetime": "2022-04-25T13:16:00",
          "textleft": "",
          "textright": "",
          "timestamp": 1019841180,
          "value": 78.33333333333333
         },
         {
          "datetime": "2022-04-25T13:17:00",
          "textleft": "",
          "textright": "",
          "timestamp": 1019841180,
          "value": 78.33333333333333
         },
         {
          "datetime": "2022-04-25T13:18:00",
          "textleft": "",
          "textright": "",
          "timestamp": 1019841180,
          "value": 78.33333333333333
         },
         {
          "datetime": "2022-04-25T13:19:00",
          "textleft": "",
          "textright": "",
          "timestamp": 1019841540,
          "value": 79
         },
         {
          "datetime": "2022-04-25T13:20:00",
          "textleft": "",
          "textright": "",
          "timestamp": 1019841600,
          "value": 81.5
         },
         {
          "datetime": "2022-04-25T13:21:00",
          "textleft": "",
          "textright": "",
          "timestamp": 1019841600,
          "value": 81.5
         },
         {
          "datetime": "2022-04-25T13:22:00",
          "textleft": "",
          "textright": "",
          "timestamp": 1019841720,
          "value": 82.5
         },
         {
          "datetime": "2022-04-25T13:23:00",
          "textleft": "",
          "textright": "",
          "timestamp": 1019841720,
          "value": 82.5
         },
         {
          "datetime": "2022-04-25T13:24:00",
          "textleft": "",
          "textright": "",
          "timestamp": 1019841720,
          "value": 82.5
         },
         {
          "datetime": "2022-04-25T13:25:00",
          "textleft": "",
          "textright": "",
          "timestamp": 1019841900,
          "value": 80
         },
         {
          "datetime": "2022-04-25T13:26:00",
          "textleft": "",
          "textright": "",
          "timestamp": 1019841900,
          "value": 80
         },
         {
          "datetime": "2022-04-25T13:27:00",
          "textleft": "",
          "textright": "",
          "timestamp": 1019842020,
          "value": 74.5
         },
         {
          "datetime": "2022-04-25T13:28:00",
          "textleft": "",
          "textright": "",
          "timestamp": 1019842020,
          "value": 74.5
         },
         {
          "datetime": "2022-04-25T13:29:00",
          "textleft": "",
          "textright": "",
          "timestamp": 1019842020,
          "value": 74.5
         },
         {
          "datetime": "2022-04-25T13:30:00",
          "textleft": "",
          "textright": "",
          "timestamp": 1019842200,
          "value": 78
         },
         {
          "datetime": "2022-04-25T13:31:00",
          "textleft": "",
          "textright": "",
          "timestamp": 1019842260,
          "value": 79.25
         },
         {
          "datetime": "2022-04-25T13:32:00",
          "textleft": "",
          "textright": "",
          "timestamp": 1019842260,
          "value": 79.25
         },
         {
          "datetime": "2022-04-25T13:33:00",
          "textleft": "",
          "textright": "",
          "timestamp": 1019842260,
          "value": 79.25
         },
         {
          "datetime": "2022-04-25T13:34:00",
          "textleft": "",
          "textright": "",
          "timestamp": 1019842260,
          "value": 79.25
         },
         {
          "datetime": "2022-04-25T13:35:00",
          "textleft": "",
          "textright": "",
          "timestamp": 1019842260,
          "value": 79.25
         },
         {
          "datetime": "2022-04-25T13:36:00",
          "textleft": "",
          "textright": "",
          "timestamp": 1019842260,
          "value": 79.25
         },
         {
          "datetime": "2022-04-25T13:37:00",
          "textleft": "",
          "textright": "",
          "timestamp": 1019842620,
          "value": 79.22222222222223
         },
         {
          "datetime": "2022-04-25T13:38:00",
          "textleft": "",
          "textright": "",
          "timestamp": 1019842620,
          "value": 79.22222222222223
         },
         {
          "datetime": "2022-04-25T13:39:00",
          "textleft": "",
          "textright": "",
          "timestamp": 1019842620,
          "value": 79.22222222222223
         },
         {
          "datetime": "2022-04-25T13:40:00",
          "textleft": "",
          "textright": "",
          "timestamp": 1019842620,
          "value": 79.22222222222223
         },
         {
          "datetime": "2022-04-25T13:41:00",
          "textleft": "",
          "textright": "",
          "timestamp": 1019842620,
          "value": 79.22222222222223
         },
         {
          "datetime": "2022-04-25T13:42:00",
          "textleft": "",
          "textright": "",
          "timestamp": 1019842620,
          "value": 79.22222222222223
         },
         {
          "datetime": "2022-04-25T13:43:00",
          "textleft": "",
          "textright": "",
          "timestamp": 1019842620,
          "value": 79.22222222222223
         },
         {
          "datetime": "2022-04-25T13:44:00",
          "textleft": "",
          "textright": "",
          "timestamp": 1019842620,
          "value": 79.22222222222223
         },
         {
          "datetime": "2022-04-25T13:45:00",
          "textleft": "",
          "textright": "",
          "timestamp": 1019842620,
          "value": 79.22222222222223
         },
         {
          "datetime": "2022-04-25T13:46:00",
          "textleft": "",
          "textright": "",
          "timestamp": 1019842620,
          "value": 79.22222222222223
         },
         {
          "datetime": "2022-04-25T13:47:00",
          "textleft": "",
          "textright": "",
          "timestamp": 1019843220,
          "value": 81
         },
         {
          "datetime": "2022-04-25T13:48:00",
          "textleft": "",
          "textright": "",
          "timestamp": 1019843220,
          "value": 81
         },
         {
          "datetime": "2022-04-25T13:49:00",
          "textleft": "",
          "textright": "",
          "timestamp": 1019843340,
          "value": 79
         },
         {
          "datetime": "2022-04-25T13:50:00",
          "textleft": "",
          "textright": "",
          "timestamp": 1019843340,
          "value": 79
         },
         {
          "datetime": "2022-04-25T13:51:00",
          "textleft": "",
          "textright": "",
          "timestamp": 1019843460,
          "value": 78
         },
         {
          "datetime": "2022-04-25T13:52:00",
          "textleft": "",
          "textright": "",
          "timestamp": 1019843460,
          "value": 78
         },
         {
          "datetime": "2022-04-25T13:53:00",
          "textleft": "",
          "textright": "",
          "timestamp": 1019843460,
          "value": 78
         },
         {
          "datetime": "2022-04-25T13:54:00",
          "textleft": "",
          "textright": "",
          "timestamp": 1019843640,
          "value": 77
         },
         {
          "datetime": "2022-04-25T13:55:00",
          "textleft": "",
          "textright": "",
          "timestamp": 1019843700,
          "value": 79
         },
         {
          "datetime": "2022-04-25T13:56:00",
          "textleft": "",
          "textright": "",
          "timestamp": 1019843760,
          "value": 82.66666666666667
         },
         {
          "datetime": "2022-04-25T13:57:00",
          "textleft": "",
          "textright": "",
          "timestamp": 1019843760,
          "value": 82.66666666666667
         },
         {
          "datetime": "2022-04-25T13:58:00",
          "textleft": "",
          "textright": "",
          "timestamp": 1019843760,
          "value": 82.66666666666667
         },
         {
          "datetime": "2022-04-25T13:59:00",
          "textleft": "",
          "textright": "",
          "timestamp": 1019843940,
          "value": 88.33333333333333
         },
         {
          "datetime": "2022-04-25T14:00:00",
          "textleft": "",
          "textright": "",
          "timestamp": 1019843940,
          "value": 88.33333333333333
         },
         {
          "datetime": "2022-04-25T14:01:00",
          "textleft": "",
          "textright": "",
          "timestamp": 1019843940,
          "value": 88.33333333333333
         },
         {
          "datetime": "2022-04-25T14:02:00",
          "textleft": "",
          "textright": "",
          "timestamp": 1019844120,
          "value": 92.1
         },
         {
          "datetime": "2022-04-25T14:03:00",
          "textleft": "",
          "textright": "",
          "timestamp": 1019844120,
          "value": 92.1
         },
         {
          "datetime": "2022-04-25T14:04:00",
          "textleft": "",
          "textright": "",
          "timestamp": 1019844120,
          "value": 92.1
         },
         {
          "datetime": "2022-04-25T14:05:00",
          "textleft": "",
          "textright": "",
          "timestamp": 1019844120,
          "value": 92.1
         },
         {
          "datetime": "2022-04-25T14:06:00",
          "textleft": "",
          "textright": "",
          "timestamp": 1019844120,
          "value": 92.1
         },
         {
          "datetime": "2022-04-25T14:07:00",
          "textleft": "",
          "textright": "",
          "timestamp": 1019844120,
          "value": 92.1
         },
         {
          "datetime": "2022-04-25T14:08:00",
          "textleft": "",
          "textright": "",
          "timestamp": 1019844120,
          "value": 92.1
         },
         {
          "datetime": "2022-04-25T14:09:00",
          "textleft": "",
          "textright": "",
          "timestamp": 1019844120,
          "value": 92.1
         },
         {
          "datetime": "2022-04-25T14:10:00",
          "textleft": "",
          "textright": "",
          "timestamp": 1019844120,
          "value": 92.1
         },
         {
          "datetime": "2022-04-25T14:11:00",
          "textleft": "",
          "textright": "",
          "timestamp": 1019844120,
          "value": 92.1
         },
         {
          "datetime": "2022-04-25T14:12:00",
          "textleft": "",
          "textright": "",
          "timestamp": 1019844120,
          "value": 92.1
         },
         {
          "datetime": "2022-04-25T14:13:00",
          "textleft": "",
          "textright": "",
          "timestamp": 1019844780,
          "value": 93
         },
         {
          "datetime": "2022-04-25T14:14:00",
          "textleft": "",
          "textright": "",
          "timestamp": 1019844780,
          "value": 93
         },
         {
          "datetime": "2022-04-25T14:15:00",
          "textleft": "• ER",
          "textright": "",
          "timestamp": 1019844900,
          "value": 98
         },
         {
          "datetime": "2022-04-25T14:16:00",
          "textleft": "",
          "textright": "",
          "timestamp": 1019844900,
          "value": 98
         },
         {
          "datetime": "2022-04-25T14:17:00",
          "textleft": "",
          "textright": "",
          "timestamp": 1019845020,
          "value": 89.4
         },
         {
          "datetime": "2022-04-25T14:18:00",
          "textleft": "",
          "textright": "",
          "timestamp": 1019845020,
          "value": 89.4
         },
         {
          "datetime": "2022-04-25T14:19:00",
          "textleft": "",
          "textright": "",
          "timestamp": 1019845020,
          "value": 89.4
         },
         {
          "datetime": "2022-04-25T14:20:00",
          "textleft": "",
          "textright": "",
          "timestamp": 1019845020,
          "value": 89.4
         },
         {
          "datetime": "2022-04-25T14:21:00",
          "textleft": "",
          "textright": "",
          "timestamp": 1019845020,
          "value": 89.4
         },
         {
          "datetime": "2022-04-25T14:22:00",
          "textleft": "",
          "textright": "",
          "timestamp": 1019845320,
          "value": 92
         },
         {
          "datetime": "2022-04-25T14:23:00",
          "textleft": "",
          "textright": "",
          "timestamp": 1019845380,
          "value": 87
         },
         {
          "datetime": "2022-04-25T14:24:00",
          "textleft": "",
          "textright": "",
          "timestamp": 1019845440,
          "value": 87.75
         },
         {
          "datetime": "2022-04-25T14:25:00",
          "textleft": "",
          "textright": "",
          "timestamp": 1019845440,
          "value": 87.75
         },
         {
          "datetime": "2022-04-25T14:26:00",
          "textleft": "",
          "textright": "",
          "timestamp": 1019845440,
          "value": 87.75
         },
         {
          "datetime": "2022-04-25T14:27:00",
          "textleft": "",
          "textright": "",
          "timestamp": 1019845440,
          "value": 87.75
         },
         {
          "datetime": "2022-04-25T14:28:00",
          "textleft": "",
          "textright": "",
          "timestamp": 1019845680,
          "value": 84
         },
         {
          "datetime": "2022-04-25T14:29:00",
          "textleft": "",
          "textright": "",
          "timestamp": 1019845740,
          "value": 83.33333333333333
         },
         {
          "datetime": "2022-04-25T14:30:00",
          "textleft": "",
          "textright": "",
          "timestamp": 1019845740,
          "value": 83.33333333333333
         },
         {
          "datetime": "2022-04-25T14:31:00",
          "textleft": "",
          "textright": "",
          "timestamp": 1019845740,
          "value": 83.33333333333333
         },
         {
          "datetime": "2022-04-25T14:32:00",
          "textleft": "",
          "textright": "",
          "timestamp": 1019845920,
          "value": 81.5
         },
         {
          "datetime": "2022-04-25T14:33:00",
          "textleft": "",
          "textright": "",
          "timestamp": 1019845920,
          "value": 81.5
         },
         {
          "datetime": "2022-04-25T14:34:00",
          "textleft": "",
          "textright": "",
          "timestamp": 1019845920,
          "value": 81.5
         },
         {
          "datetime": "2022-04-25T14:35:00",
          "textleft": "",
          "textright": "",
          "timestamp": 1019845920,
          "value": 81.5
         },
         {
          "datetime": "2022-04-25T14:36:00",
          "textleft": "",
          "textright": "",
          "timestamp": 1019846160,
          "value": 81
         },
         {
          "datetime": "2022-04-25T14:37:00",
          "textleft": "",
          "textright": "",
          "timestamp": 1019846160,
          "value": 81
         },
         {
          "datetime": "2022-04-25T14:38:00",
          "textleft": "",
          "textright": "",
          "timestamp": 1019846160,
          "value": 81
         },
         {
          "datetime": "2022-04-25T14:39:00",
          "textleft": "",
          "textright": "",
          "timestamp": 1019846340,
          "value": 85
         },
         {
          "datetime": "2022-04-25T14:40:00",
          "textleft": "",
          "textright": "",
          "timestamp": 1019846400,
          "value": 85
         },
         {
          "datetime": "2022-04-25T14:41:00",
          "textleft": "",
          "textright": "",
          "timestamp": 1019846460,
          "value": 82
         },
         {
          "datetime": "2022-04-25T14:42:00",
          "textleft": "",
          "textright": "",
          "timestamp": 1019846520,
          "value": 88
         },
         {
          "datetime": "2022-04-25T14:43:00",
          "textleft": "",
          "textright": "",
          "timestamp": 1019846520,
          "value": 88
         },
         {
          "datetime": "2022-04-25T14:44:00",
          "textleft": "",
          "textright": "",
          "timestamp": 1019846520,
          "value": 88
         },
         {
          "datetime": "2022-04-25T14:45:00",
          "textleft": "",
          "textright": "",
          "timestamp": 1019846700,
          "value": 88
         },
         {
          "datetime": "2022-04-25T14:46:00",
          "textleft": "",
          "textright": "",
          "timestamp": 1019846760,
          "value": 89
         },
         {
          "datetime": "2022-04-25T14:47:00",
          "textleft": "",
          "textright": "",
          "timestamp": 1019846820,
          "value": 91
         },
         {
          "datetime": "2022-04-25T14:48:00",
          "textleft": "",
          "textright": "",
          "timestamp": 1019846820,
          "value": 91
         },
         {
          "datetime": "2022-04-25T14:49:00",
          "textleft": "",
          "textright": "",
          "timestamp": 1019846940,
          "value": 91.33333333333333
         },
         {
          "datetime": "2022-04-25T14:50:00",
          "textleft": "",
          "textright": "",
          "timestamp": 1019846940,
          "value": 91.33333333333333
         },
         {
          "datetime": "2022-04-25T14:51:00",
          "textleft": "",
          "textright": "",
          "timestamp": 1019846940,
          "value": 91.33333333333333
         },
         {
          "datetime": "2022-04-25T14:52:00",
          "textleft": "",
          "textright": "",
          "timestamp": 1019846940,
          "value": 91.33333333333333
         },
         {
          "datetime": "2022-04-25T14:53:00",
          "textleft": "",
          "textright": "",
          "timestamp": 1019846940,
          "value": 91.33333333333333
         },
         {
          "datetime": "2022-04-25T14:54:00",
          "textleft": "",
          "textright": "",
          "timestamp": 1019846940,
          "value": 91.33333333333333
         },
         {
          "datetime": "2022-04-25T14:55:00",
          "textleft": "",
          "textright": "",
          "timestamp": 1019846940,
          "value": 91.33333333333333
         },
         {
          "datetime": "2022-04-25T14:56:00",
          "textleft": "",
          "textright": "",
          "timestamp": 1019846940,
          "value": 91.33333333333333
         },
         {
          "datetime": "2022-04-25T14:57:00",
          "textleft": "",
          "textright": "",
          "timestamp": 1019846940,
          "value": 91.33333333333333
         },
         {
          "datetime": "2022-04-25T14:58:00",
          "textleft": "",
          "textright": "",
          "timestamp": 1019847480,
          "value": 93
         },
         {
          "datetime": "2022-04-25T14:59:00",
          "textleft": "",
          "textright": "",
          "timestamp": 1019847540,
          "value": 90
         },
         {
          "datetime": "2022-04-25T15:00:00",
          "textleft": "",
          "textright": "",
          "timestamp": 1019847540,
          "value": 90
         },
         {
          "datetime": "2022-04-25T15:01:00",
          "textleft": "• Painkillers",
          "textright": "",
          "timestamp": 1019847660,
          "value": 94.5
         },
         {
          "datetime": "2022-04-25T15:02:00",
          "textleft": "",
          "textright": "",
          "timestamp": 1019847720,
          "value": 85
         },
         {
          "datetime": "2022-04-25T15:03:00",
          "textleft": "",
          "textright": "",
          "timestamp": 1019847780,
          "value": 89.66666666666667
         },
         {
          "datetime": "2022-04-25T15:04:00",
          "textleft": "",
          "textright": "",
          "timestamp": 1019847780,
          "value": 89.66666666666667
         },
         {
          "datetime": "2022-04-25T15:05:00",
          "textleft": "",
          "textright": "",
          "timestamp": 1019847780,
          "value": 89.66666666666667
         },
         {
          "datetime": "2022-04-25T15:06:00",
          "textleft": "",
          "textright": "",
          "timestamp": 1019847960,
          "value": 88
         },
         {
          "datetime": "2022-04-25T15:07:00",
          "textleft": "",
          "textright": "",
          "timestamp": 1019847960,
          "value": 88
         },
         {
          "datetime": "2022-04-25T15:08:00",
          "textleft": "",
          "textright": "",
          "timestamp": 1019848080,
          "value": 91
         },
         {
          "datetime": "2022-04-25T15:09:00",
          "textleft": "",
          "textright": "",
          "timestamp": 1019848140,
          "value": 88
         },
         {
          "datetime": "2022-04-25T15:10:00",
          "textleft": "",
          "textright": "",
          "timestamp": 1019848200,
          "value": 91
         },
         {
          "datetime": "2022-04-25T15:11:00",
          "textleft": "",
          "textright": "",
          "timestamp": 1019848200,
          "value": 91
         },
         {
          "datetime": "2022-04-25T15:12:00",
          "textleft": "",
          "textright": "",
          "timestamp": 1019848320,
          "value": 85
         },
         {
          "datetime": "2022-04-25T15:13:00",
          "textleft": "",
          "textright": "",
          "timestamp": 1019848380,
          "value": 84
         },
         {
          "datetime": "2022-04-25T15:14:00",
          "textleft": "",
          "textright": "",
          "timestamp": 1019848440,
          "value": 86.5
         },
         {
          "datetime": "2022-04-25T15:15:00",
          "textleft": "",
          "textright": "",
          "timestamp": 1019848440,
          "value": 86.5
         },
         {
          "datetime": "2022-04-25T15:16:00",
          "textleft": "",
          "textright": "",
          "timestamp": 1019848440,
          "value": 86.5
         },
         {
          "datetime": "2022-04-25T15:17:00",
          "textleft": "",
          "textright": "",
          "timestamp": 1019848440,
          "value": 86.5
         },
         {
          "datetime": "2022-04-25T15:18:00",
          "textleft": "",
          "textright": "",
          "timestamp": 1019848680,
          "value": 88
         },
         {
          "datetime": "2022-04-25T15:19:00",
          "textleft": "",
          "textright": "",
          "timestamp": 1019848740,
          "value": 84.5
         },
         {
          "datetime": "2022-04-25T15:20:00",
          "textleft": "",
          "textright": "",
          "timestamp": 1019848740,
          "value": 84.5
         },
         {
          "datetime": "2022-04-25T15:21:00",
          "textleft": "",
          "textright": "",
          "timestamp": 1019848740,
          "value": 84.5
         },
         {
          "datetime": "2022-04-25T15:22:00",
          "textleft": "",
          "textright": "",
          "timestamp": 1019848920,
          "value": 83.66666666666667
         },
         {
          "datetime": "2022-04-25T15:23:00",
          "textleft": "",
          "textright": "",
          "timestamp": 1019848920,
          "value": 83.66666666666667
         },
         {
          "datetime": "2022-04-25T15:24:00",
          "textleft": "",
          "textright": "",
          "timestamp": 1019848920,
          "value": 83.66666666666667
         },
         {
          "datetime": "2022-04-25T15:25:00",
          "textleft": "",
          "textright": "",
          "timestamp": 1019849100,
          "value": 83
         },
         {
          "datetime": "2022-04-25T15:26:00",
          "textleft": "",
          "textright": "",
          "timestamp": 1019849160,
          "value": 79
         },
         {
          "datetime": "2022-04-25T15:27:00",
          "textleft": "",
          "textright": "",
          "timestamp": 1019849220,
          "value": 82.75
         },
         {
          "datetime": "2022-04-25T15:28:00",
          "textleft": "",
          "textright": "",
          "timestamp": 1019849220,
          "value": 82.75
         },
         {
          "datetime": "2022-04-25T15:29:00",
          "textleft": "",
          "textright": "",
          "timestamp": 1019849220,
          "value": 82.75
         },
         {
          "datetime": "2022-04-25T15:30:00",
          "textleft": "",
          "textright": "",
          "timestamp": 1019849220,
          "value": 82.75
         },
         {
          "datetime": "2022-04-25T15:31:00",
          "textleft": "",
          "textright": "",
          "timestamp": 1019849460,
          "value": 84.55555555555556
         },
         {
          "datetime": "2022-04-25T15:32:00",
          "textleft": "",
          "textright": "",
          "timestamp": 1019849460,
          "value": 84.55555555555556
         },
         {
          "datetime": "2022-04-25T15:33:00",
          "textleft": "",
          "textright": "",
          "timestamp": 1019849460,
          "value": 84.55555555555556
         },
         {
          "datetime": "2022-04-25T15:34:00",
          "textleft": "",
          "textright": "",
          "timestamp": 1019849460,
          "value": 84.55555555555556
         },
         {
          "datetime": "2022-04-25T15:35:00",
          "textleft": "",
          "textright": "",
          "timestamp": 1019849460,
          "value": 84.55555555555556
         },
         {
          "datetime": "2022-04-25T15:36:00",
          "textleft": "",
          "textright": "",
          "timestamp": 1019849460,
          "value": 84.55555555555556
         },
         {
          "datetime": "2022-04-25T15:37:00",
          "textleft": "",
          "textright": "",
          "timestamp": 1019849460,
          "value": 84.55555555555556
         },
         {
          "datetime": "2022-04-25T15:38:00",
          "textleft": "",
          "textright": "",
          "timestamp": 1019849460,
          "value": 84.55555555555556
         },
         {
          "datetime": "2022-04-25T15:39:00",
          "textleft": "",
          "textright": "",
          "timestamp": 1019849460,
          "value": 84.55555555555556
         },
         {
          "datetime": "2022-04-25T15:40:00",
          "textleft": "",
          "textright": "",
          "timestamp": 1019850000,
          "value": 84
         },
         {
          "datetime": "2022-04-25T15:41:00",
          "textleft": "",
          "textright": "",
          "timestamp": 1019850060,
          "value": 84
         },
         {
          "datetime": "2022-04-25T15:42:00",
          "textleft": "",
          "textright": "",
          "timestamp": 1019850060,
          "value": 84
         },
         {
          "datetime": "2022-04-25T15:43:00",
          "textleft": "",
          "textright": "",
          "timestamp": 1019850060,
          "value": 84
         },
         {
          "datetime": "2022-04-25T15:44:00",
          "textleft": "",
          "textright": "",
          "timestamp": 1019850060,
          "value": 84
         },
         {
          "datetime": "2022-04-25T15:45:00",
          "textleft": "",
          "textright": "",
          "timestamp": 1019850060,
          "value": 84
         },
         {
          "datetime": "2022-04-25T15:46:00",
          "textleft": "",
          "textright": "",
          "timestamp": 1019850060,
          "value": 84
         },
         {
          "datetime": "2022-04-25T15:47:00",
          "textleft": "",
          "textright": "",
          "timestamp": 1019850060,
          "value": 84
         },
         {
          "datetime": "2022-04-25T15:48:00",
          "textleft": "",
          "textright": "",
          "timestamp": 1019850480,
          "value": 80
         },
         {
          "datetime": "2022-04-25T15:49:00",
          "textleft": "",
          "textright": "",
          "timestamp": 1019850540,
          "value": 77
         },
         {
          "datetime": "2022-04-25T15:50:00",
          "textleft": "",
          "textright": "",
          "timestamp": 1019850600,
          "value": 78.66666666666667
         },
         {
          "datetime": "2022-04-25T15:51:00",
          "textleft": "",
          "textright": "",
          "timestamp": 1019850600,
          "value": 78.66666666666667
         },
         {
          "datetime": "2022-04-25T15:52:00",
          "textleft": "",
          "textright": "",
          "timestamp": 1019850600,
          "value": 78.66666666666667
         },
         {
          "datetime": "2022-04-25T15:53:00",
          "textleft": "",
          "textright": "",
          "timestamp": 1019850780,
          "value": 80.25
         },
         {
          "datetime": "2022-04-25T15:54:00",
          "textleft": "",
          "textright": "",
          "timestamp": 1019850780,
          "value": 80.25
         },
         {
          "datetime": "2022-04-25T15:55:00",
          "textleft": "",
          "textright": "",
          "timestamp": 1019850780,
          "value": 80.25
         },
         {
          "datetime": "2022-04-25T15:56:00",
          "textleft": "",
          "textright": "",
          "timestamp": 1019850780,
          "value": 80.25
         },
         {
          "datetime": "2022-04-25T15:57:00",
          "textleft": "",
          "textright": "",
          "timestamp": 1019850780,
          "value": 80.25
         },
         {
          "datetime": "2022-04-25T15:58:00",
          "textleft": "",
          "textright": "",
          "timestamp": 1019851080,
          "value": 77
         },
         {
          "datetime": "2022-04-25T15:59:00",
          "textleft": "",
          "textright": "",
          "timestamp": 1019851140,
          "value": 78.5
         },
         {
          "datetime": "2022-04-25T16:00:00",
          "textleft": "",
          "textright": "",
          "timestamp": 1019851140,
          "value": 78.5
         },
         {
          "datetime": "2022-04-25T16:01:00",
          "textleft": "",
          "textright": "",
          "timestamp": 1019851140,
          "value": 78.5
         },
         {
          "datetime": "2022-04-25T16:02:00",
          "textleft": "",
          "textright": "",
          "timestamp": 1019851140,
          "value": 78.5
         },
         {
          "datetime": "2022-04-25T16:03:00",
          "textleft": "",
          "textright": "",
          "timestamp": 1019851380,
          "value": 79
         },
         {
          "datetime": "2022-04-25T16:04:00",
          "textleft": "",
          "textright": "",
          "timestamp": 1019851440,
          "value": 76
         },
         {
          "datetime": "2022-04-25T16:05:00",
          "textleft": "",
          "textright": "",
          "timestamp": 1019851500,
          "value": 78
         },
         {
          "datetime": "2022-04-25T16:06:00",
          "textleft": "",
          "textright": "",
          "timestamp": 1019851500,
          "value": 78
         },
         {
          "datetime": "2022-04-25T16:07:00",
          "textleft": "",
          "textright": "",
          "timestamp": 1019851500,
          "value": 78
         },
         {
          "datetime": "2022-04-25T16:08:00",
          "textleft": "",
          "textright": "",
          "timestamp": 1019851680,
          "value": 79
         },
         {
          "datetime": "2022-04-25T16:09:00",
          "textleft": "",
          "textright": "",
          "timestamp": 1019851740,
          "value": 79.75
         },
         {
          "datetime": "2022-04-25T16:10:00",
          "textleft": "",
          "textright": "",
          "timestamp": 1019851740,
          "value": 79.75
         },
         {
          "datetime": "2022-04-25T16:11:00",
          "textleft": "",
          "textright": "",
          "timestamp": 1019851740,
          "value": 79.75
         },
         {
          "datetime": "2022-04-25T16:12:00",
          "textleft": "",
          "textright": "",
          "timestamp": 1019851740,
          "value": 79.75
         },
         {
          "datetime": "2022-04-25T16:13:00",
          "textleft": "",
          "textright": "",
          "timestamp": 1019851740,
          "value": 79.75
         },
         {
          "datetime": "2022-04-25T16:14:00",
          "textleft": "",
          "textright": "",
          "timestamp": 1019851740,
          "value": 79.75
         },
         {
          "datetime": "2022-04-25T16:15:00",
          "textleft": "",
          "textright": "",
          "timestamp": 1019851740,
          "value": 79.75
         },
         {
          "datetime": "2022-04-25T16:16:00",
          "textleft": "",
          "textright": "",
          "timestamp": 1019851740,
          "value": 79.75
         },
         {
          "datetime": "2022-04-25T16:17:00",
          "textleft": "",
          "textright": "",
          "timestamp": 1019852220,
          "value": 76.5
         },
         {
          "datetime": "2022-04-25T16:18:00",
          "textleft": "",
          "textright": "",
          "timestamp": 1019852220,
          "value": 76.5
         },
         {
          "datetime": "2022-04-25T16:19:00",
          "textleft": "",
          "textright": "",
          "timestamp": 1019852220,
          "value": 76.5
         },
         {
          "datetime": "2022-04-25T16:20:00",
          "textleft": "",
          "textright": "",
          "timestamp": 1019852400,
          "value": 73.5
         },
         {
          "datetime": "2022-04-25T16:21:00",
          "textleft": "",
          "textright": "",
          "timestamp": 1019852400,
          "value": 73.5
         },
         {
          "datetime": "2022-04-25T16:22:00",
          "textleft": "",
          "textright": "",
          "timestamp": 1019852520,
          "value": 73
         },
         {
          "datetime": "2022-04-25T16:23:00",
          "textleft": "",
          "textright": "",
          "timestamp": 1019852580,
          "value": 74
         },
         {
          "datetime": "2022-04-25T16:24:00",
          "textleft": "",
          "textright": "",
          "timestamp": 1019852640,
          "value": 74.5
         },
         {
          "datetime": "2022-04-25T16:25:00",
          "textleft": "",
          "textright": "",
          "timestamp": 1019852640,
          "value": 74.5
         },
         {
          "datetime": "2022-04-25T16:26:00",
          "textleft": "",
          "textright": "",
          "timestamp": 1019852760,
          "value": 73.5
         },
         {
          "datetime": "2022-04-25T16:27:00",
          "textleft": "",
          "textright": "",
          "timestamp": 1019852760,
          "value": 73.5
         },
         {
          "datetime": "2022-04-25T16:28:00",
          "textleft": "",
          "textright": "",
          "timestamp": 1019852880,
          "value": 74.5
         },
         {
          "datetime": "2022-04-25T16:29:00",
          "textleft": "",
          "textright": "",
          "timestamp": 1019852880,
          "value": 74.5
         },
         {
          "datetime": "2022-04-25T16:30:00",
          "textleft": "",
          "textright": "",
          "timestamp": 1019853000,
          "value": 76.6
         },
         {
          "datetime": "2022-04-25T16:31:00",
          "textleft": "",
          "textright": "",
          "timestamp": 1019853000,
          "value": 76.6
         },
         {
          "datetime": "2022-04-25T16:32:00",
          "textleft": "",
          "textright": "",
          "timestamp": 1019853000,
          "value": 76.6
         },
         {
          "datetime": "2022-04-25T16:33:00",
          "textleft": "",
          "textright": "",
          "timestamp": 1019853000,
          "value": 76.6
         },
         {
          "datetime": "2022-04-25T16:34:00",
          "textleft": "",
          "textright": "",
          "timestamp": 1019853000,
          "value": 76.6
         },
         {
          "datetime": "2022-04-25T16:35:00",
          "textleft": "",
          "textright": "",
          "timestamp": 1019853300,
          "value": 75
         },
         {
          "datetime": "2022-04-25T16:36:00",
          "textleft": "",
          "textright": "",
          "timestamp": 1019853300,
          "value": 75
         },
         {
          "datetime": "2022-04-25T16:37:00",
          "textleft": "",
          "textright": "",
          "timestamp": 1019853420,
          "value": 72.33333333333333
         },
         {
          "datetime": "2022-04-25T16:38:00",
          "textleft": "",
          "textright": "",
          "timestamp": 1019853420,
          "value": 72.33333333333333
         },
         {
          "datetime": "2022-04-25T16:39:00",
          "textleft": "",
          "textright": "",
          "timestamp": 1019853420,
          "value": 72.33333333333333
         },
         {
          "datetime": "2022-04-25T16:40:00",
          "textleft": "",
          "textright": "",
          "timestamp": 1019853420,
          "value": 72.33333333333333
         },
         {
          "datetime": "2022-04-25T16:41:00",
          "textleft": "",
          "textright": "",
          "timestamp": 1019853420,
          "value": 72.33333333333333
         },
         {
          "datetime": "2022-04-25T16:42:00",
          "textleft": "",
          "textright": "",
          "timestamp": 1019853720,
          "value": 72
         },
         {
          "datetime": "2022-04-25T16:43:00",
          "textleft": "",
          "textright": "",
          "timestamp": 1019853720,
          "value": 72
         },
         {
          "datetime": "2022-04-25T16:44:00",
          "textleft": "",
          "textright": "",
          "timestamp": 1019853840,
          "value": 70
         },
         {
          "datetime": "2022-04-25T16:45:00",
          "textleft": "",
          "textright": "",
          "timestamp": 1019853840,
          "value": 70
         },
         {
          "datetime": "2022-04-25T16:46:00",
          "textleft": "",
          "textright": "",
          "timestamp": 1019853960,
          "value": 74.75
         },
         {
          "datetime": "2022-04-25T16:47:00",
          "textleft": "",
          "textright": "",
          "timestamp": 1019853960,
          "value": 74.75
         },
         {
          "datetime": "2022-04-25T16:48:00",
          "textleft": "",
          "textright": "",
          "timestamp": 1019853960,
          "value": 74.75
         },
         {
          "datetime": "2022-04-25T16:49:00",
          "textleft": "",
          "textright": "",
          "timestamp": 1019853960,
          "value": 74.75
         },
         {
          "datetime": "2022-04-25T16:50:00",
          "textleft": "",
          "textright": "",
          "timestamp": 1019853960,
          "value": 74.75
         },
         {
          "datetime": "2022-04-25T16:51:00",
          "textleft": "",
          "textright": "",
          "timestamp": 1019853960,
          "value": 74.75
         },
         {
          "datetime": "2022-04-25T16:52:00",
          "textleft": "",
          "textright": "",
          "timestamp": 1019853960,
          "value": 74.75
         },
         {
          "datetime": "2022-04-25T16:53:00",
          "textleft": "",
          "textright": "",
          "timestamp": 1019854380,
          "value": 71.375
         }
        ]
       },
       "layer": [
        {
         "encoding": {
          "x": {
           "axis": {
            "title": "time"
           },
           "field": "datetime",
           "type": "temporal"
          },
          "y": {
           "axis": {
            "title": "Heart rate"
           },
           "field": "value",
           "scale": {
            "domain": [
             48,
             160
            ]
           },
           "type": "quantitative"
          }
         },
         "mark": {
          "color": "lightblue",
          "interpolate": "step-after",
          "line": true,
          "type": "area"
         }
        },
        {
         "encoding": {
          "text": {
           "field": "textright",
           "type": "nominal"
          },
          "x": {
           "field": "datetime",
           "type": "temporal"
          },
          "y": {
           "field": "value",
           "type": "quantitative"
          }
         },
         "mark": {
          "align": "right",
          "size": 16,
          "type": "text"
         }
        },
        {
         "encoding": {
          "text": {
           "field": "textleft",
           "type": "nominal"
          },
          "x": {
           "field": "datetime",
           "type": "temporal"
          },
          "y": {
           "field": "value",
           "type": "quantitative"
          }
         },
         "mark": {
          "align": "left",
          "size": 16,
          "type": "text"
         }
        }
       ],
       "usermeta": {
        "embedOptions": {
         "theme": "fivethirtyeight"
        }
       }
      },
      "image/png": "[encoded data removed]",
      "text/plain": [
       "<VegaLite 4 object>\n",
       "\n",
       "If you see this message, it means the renderer has not been properly enabled\n",
       "for the frontend that you are using. For more information, see\n",
       "https://altair-viz.github.io/user_guide/troubleshooting.html\n"
      ]
     },
     "execution_count": 7,
     "metadata": {},
     "output_type": "execute_result"
    }
   ],
   "source": [
    "df_ = df_long[(df_long.datetime >= '2022-04-25 09:00') & (df_long.datetime <= '2022-04-25 17:00')]\n",
    "\n",
    "df_plot = df_[df_.field == 'heart_rate']\n",
    "df_plot = df_plot[df_plot.value.astype(float) > 10]\n",
    "\n",
    "df_plot = clean_timeseries(df_plot, '1min')\n",
    "\n",
    "df_plot['textright'] = ''\n",
    "df_plot['textleft'] = ''\n",
    "df_plot.loc[df_plot.value == df_plot.value.max(), 'textright'] = 'Fall •'\n",
    "df_plot.loc[df_plot.datetime == '2022-04-25 11:25:00', 'textright'] = 'Walk •'\n",
    "df_plot.loc[df_plot.datetime == '2022-04-25 11:55:00', 'textright'] = 'Climb •'\n",
    "df_plot.loc[df_plot.datetime == '2022-04-25 10:25:00', 'textright'] = 'Wake •'\n",
    "df_plot.loc[df_plot.datetime == '2022-04-25 12:46:00', 'textleft'] = '• Gurney'\n",
    "df_plot.loc[df_plot.datetime == '2022-04-25 14:15:00', 'textleft'] = '• ER'\n",
    "df_plot.loc[df_plot.datetime == '2022-04-25 15:01:00', 'textleft'] = '• Painkillers'\n",
    "\n",
    "chart = alt.Chart(df_plot)\n",
    "(chart.mark_area(\n",
    "    color=\"lightblue\",\n",
    "    interpolate='step-after',\n",
    "    line=True,\n",
    ").encode(\n",
    "    x=alt.X('datetime', axis=alt.Axis(title='time')),\n",
    "    y=alt.Y('value', scale=alt.Scale(domain=((48, 160))), axis=alt.Axis(title='Heart rate'))\n",
    ") + \n",
    " chart.mark_text(align='right', size=16).encode(x='datetime', y='value', text='textright') + \n",
    " chart.mark_text(align='left', size=16).encode(x='datetime', y='value', text='textleft')).configure(\n",
    "    background='white',\n",
    ").configure_axis(gridOpacity=.5, labelColor='black')"
   ]
  },
  {
   "cell_type": "code",
   "execution_count": 8,
   "id": "89df01b2-bf15-4334-96d1-ed5c66919f0e",
   "metadata": {},
   "outputs": [
    {
     "data": {
      "application/vnd.vegalite.v4+json": {
       "$schema": "https://vega.github.io/schema/vega-lite/v4.17.0.json",
       "config": {
        "axis": {
         "gridOpacity": 0.5,
         "labelColor": "black"
        },
        "background": "white",
        "view": {
         "continuousHeight": 300,
         "continuousWidth": 400
        }
       },
       "data": {
        "name": "data-323c2e109c774cf40a1032b021258a0f"
       },
       "datasets": {
        "data-323c2e109c774cf40a1032b021258a0f": [
         {
          "datetime": "2022-01-30T00:00:00",
          "textleft": "",
          "textright": "",
          "timestamp": 1012408680,
          "value": 12737.5
         },
         {
          "datetime": "2022-02-06T00:00:00",
          "textleft": "",
          "textright": "",
          "timestamp": 1012883768.5714285,
          "value": 8573.285714285714
         },
         {
          "datetime": "2022-02-13T00:00:00",
          "textleft": "",
          "textright": "",
          "timestamp": 1013488782.8571428,
          "value": 10696.57142857143
         },
         {
          "datetime": "2022-02-20T00:00:00",
          "textleft": "",
          "textright": "✈️Austin •",
          "timestamp": 1014091988.5714285,
          "value": 13261.57142857143
         },
         {
          "datetime": "2022-02-27T00:00:00",
          "textleft": "",
          "textright": "",
          "timestamp": 1014698185.7142857,
          "value": 8768.57142857143
         },
         {
          "datetime": "2022-03-06T00:00:00",
          "textleft": "",
          "textright": "",
          "timestamp": 1015302660,
          "value": 9940.142857142857
         },
         {
          "datetime": "2022-03-13T00:00:00",
          "textleft": "",
          "textright": "",
          "timestamp": 1015908128.5714285,
          "value": 12380.714285714286
         },
         {
          "datetime": "2022-03-20T00:00:00",
          "textleft": "",
          "textright": "",
          "timestamp": 1016512448.5714285,
          "value": 8318.42857142857
         },
         {
          "datetime": "2022-03-27T00:00:00",
          "textleft": "",
          "textright": "",
          "timestamp": 1017117720,
          "value": 7151.285714285715
         },
         {
          "datetime": "2022-04-03T00:00:00",
          "textleft": "",
          "textright": "",
          "timestamp": 1017721620,
          "value": 7472
         },
         {
          "datetime": "2022-04-10T00:00:00",
          "textleft": "",
          "textright": "",
          "timestamp": 1018326917.1428572,
          "value": 7202.857142857143
         },
         {
          "datetime": "2022-04-17T00:00:00",
          "textleft": "",
          "textright": "✈️SF •",
          "timestamp": 1018931554.2857143,
          "value": 17323.285714285714
         },
         {
          "datetime": "2022-04-24T00:00:00",
          "textleft": "",
          "textright": "",
          "timestamp": 1019536637.1428572,
          "value": 13455
         },
         {
          "datetime": "2022-05-01T00:00:00",
          "textleft": "",
          "textright": "",
          "timestamp": 1020140520,
          "value": 1116.5714285714287
         },
         {
          "datetime": "2022-05-08T00:00:00",
          "textleft": "",
          "textright": "",
          "timestamp": 1020745645.7142857,
          "value": 1578.4285714285713
         },
         {
          "datetime": "2022-05-15T00:00:00",
          "textleft": "",
          "textright": "",
          "timestamp": 1021321540,
          "value": 950.5
         },
         {
          "datetime": "2022-05-22T00:00:00",
          "textleft": "",
          "textright": "",
          "timestamp": 1021955905.7142857,
          "value": 1086.4285714285713
         },
         {
          "datetime": "2022-05-29T00:00:00",
          "textleft": "",
          "textright": "",
          "timestamp": 1022559480,
          "value": 2284.285714285714
         },
         {
          "datetime": "2022-06-05T00:00:00",
          "textleft": "",
          "textright": "",
          "timestamp": 1023149430,
          "value": 1769.8333333333333
         },
         {
          "datetime": "2022-06-12T00:00:00",
          "textleft": "",
          "textright": "",
          "timestamp": 1023769954.2857143,
          "value": 2875.285714285714
         },
         {
          "datetime": "2022-06-19T00:00:00",
          "textleft": "",
          "textright": "",
          "timestamp": 1024375320,
          "value": 2226.714285714286
         },
         {
          "datetime": "2022-06-26T00:00:00",
          "textleft": "",
          "textright": "",
          "timestamp": 1024978971.4285715,
          "value": 2144.4285714285716
         },
         {
          "datetime": "2022-07-03T00:00:00",
          "textleft": "",
          "textright": "✈️Mexico •",
          "timestamp": 1025628370,
          "value": 3653.6666666666665
         },
         {
          "datetime": "2022-07-10T00:00:00",
          "textleft": "",
          "textright": "",
          "timestamp": 1026189565.7142857,
          "value": 5286.142857142857
         },
         {
          "datetime": "2022-07-17T00:00:00",
          "textleft": "",
          "textright": "Follow-up •",
          "timestamp": 1026794357.1428572,
          "value": 5909.142857142857
         },
         {
          "datetime": "2022-07-24T00:00:00",
          "textleft": "",
          "textright": "",
          "timestamp": 1027399037.1428572,
          "value": 8656.42857142857
         },
         {
          "datetime": "2022-07-31T00:00:00",
          "textleft": "",
          "textright": "",
          "timestamp": 1028004325.7142857,
          "value": 7197.571428571428
         },
         {
          "datetime": "2022-08-07T00:00:00",
          "textleft": "",
          "textright": "",
          "timestamp": 1028609314.2857143,
          "value": 9484.142857142857
         },
         {
          "datetime": "2022-08-14T00:00:00",
          "textleft": "",
          "textright": "",
          "timestamp": 1029213702.8571428,
          "value": 8820.57142857143
         },
         {
          "datetime": "2022-08-21T00:00:00",
          "textleft": "",
          "textright": "",
          "timestamp": 1029818657.1428572,
          "value": 12722.57142857143
         },
         {
          "datetime": "2022-08-28T00:00:00",
          "textleft": "",
          "textright": "",
          "timestamp": 1030380220,
          "value": 12785.833333333334
         }
        ]
       },
       "layer": [
        {
         "encoding": {
          "x": {
           "axis": {
            "title": "Month"
           },
           "field": "datetime",
           "type": "temporal"
          },
          "y": {
           "axis": {
            "title": "Steps per day"
           },
           "field": "value",
           "scale": {
            "domain": [
             0,
             18000
            ]
           },
           "type": "quantitative"
          }
         },
         "mark": {
          "color": "lightblue",
          "interpolate": "step-after",
          "line": true,
          "type": "area"
         }
        },
        {
         "encoding": {
          "text": {
           "field": "textright",
           "type": "nominal"
          },
          "x": {
           "field": "datetime",
           "type": "temporal"
          },
          "y": {
           "field": "value",
           "type": "quantitative"
          }
         },
         "mark": {
          "align": "right",
          "size": 16,
          "type": "text"
         }
        },
        {
         "encoding": {
          "text": {
           "field": "textleft",
           "type": "nominal"
          },
          "x": {
           "field": "datetime",
           "type": "temporal"
          },
          "y": {
           "field": "value",
           "type": "quantitative"
          }
         },
         "mark": {
          "align": "left",
          "size": 16,
          "type": "text"
         }
        }
       ],
       "usermeta": {
        "embedOptions": {
         "theme": "fivethirtyeight"
        }
       }
      },
      "image/png": "[encoded data removed]",
      "text/plain": [
       "<VegaLite 4 object>\n",
       "\n",
       "If you see this message, it means the renderer has not been properly enabled\n",
       "for the frontend that you are using. For more information, see\n",
       "https://altair-viz.github.io/user_guide/troubleshooting.html\n"
      ]
     },
     "execution_count": 8,
     "metadata": {},
     "output_type": "execute_result"
    }
   ],
   "source": [
    "def clean_timeseries(df, freq='5s', agg='mean'):\n",
    "    df = df.set_index(df.datetime)\n",
    "    df.value = df.value.astype(float)\n",
    "    if agg == 'mean':\n",
    "        df = df.resample(freq).mean().reset_index()\n",
    "    elif agg == 'sum':\n",
    "        df = df.resample(freq).sum().reset_index()\n",
    "    df = df.interpolate('pad', limit=120)\n",
    "    return df\n",
    "\n",
    "df_ = df_long[(df_long.datetime >= '2022-01-28 00:00') & (df_long.datetime <= '2022-08-28 00:00')]\n",
    "\n",
    "df_plot = df_[df_.field == 'steps']\n",
    "df_plot = df_plot.set_index(df_plot.datetime)\n",
    "df_plot.value = df_plot.value.astype(dtype=float)\n",
    "df_plot = df_plot.resample('1d', offset='1h').max()\n",
    "df_plot = df_plot.resample('1w').mean().reset_index()\n",
    "\n",
    "#df_plot = clean_timeseries(df_plot, '1d', agg='mean')\n",
    "\n",
    "df_plot['textright'] = ''\n",
    "df_plot['textleft'] = ''\n",
    "df_plot.loc[df_plot.value == df_plot.value.max(), 'textright'] = '✈️SF •'\n",
    "df_plot.loc[df_plot.datetime == '2022-02-20', 'textright'] = '✈️Austin •'\n",
    "df_plot.loc[df_plot.datetime == '2022-07-03', 'textright'] = '✈️Mexico •'\n",
    "df_plot.loc[df_plot.datetime == '2022-07-17', 'textright'] = 'Follow-up •'\n",
    "\n",
    "chart = alt.Chart(df_plot)\n",
    "(chart.mark_area(\n",
    "    color=\"lightblue\",\n",
    "    interpolate='step-after',\n",
    "    line=True,\n",
    ").encode(\n",
    "    x=alt.X('datetime', axis=alt.Axis(title='Month')),\n",
    "    y=alt.Y('value', scale=alt.Scale(domain=((0, 18000))), axis=alt.Axis(title='Steps per day'))\n",
    ") + \n",
    " chart.mark_text(align='right', size=16).encode(x='datetime', y='value', text='textright') + \n",
    " chart.mark_text(align='left', size=16).encode(x='datetime', y='value', text='textleft')).configure(\n",
    "    background='white',\n",
    ").configure_axis(gridOpacity=.5, labelColor='black')"
   ]
  },
  {
   "cell_type": "code",
   "execution_count": 9,
   "id": "23ac914b-8f20-4e2d-92c8-a5292bf814dd",
   "metadata": {},
   "outputs": [
    {
     "name": "stderr",
     "output_type": "stream",
     "text": [
      "/var/folders/vz/6yxqzl6j5g384z7j_3pj2p1m0000gn/T/ipykernel_95666/1115790320.py:24: FutureWarning: Dropping invalid columns in DataFrameGroupBy.quantile is deprecated. In a future version, a TypeError will be raised. Before calling .quantile, select only columns which should be valid for the function.\n",
      "  df_plot_2 = df_plot_2.resample('1d', offset='1h').quantile(.05)\n"
     ]
    },
    {
     "data": {
      "application/vnd.vegalite.v4+json": {
       "$schema": "https://vega.github.io/schema/vega-lite/v4.17.0.json",
       "config": {
        "axis": {
         "gridOpacity": 0.25,
         "labelColor": "black"
        },
        "background": "white",
        "view": {
         "continuousHeight": 300,
         "continuousWidth": 400
        }
       },
       "data": {
        "name": "data-045af9c71b2ad116286e336e518690d3"
       },
       "datasets": {
        "data-045af9c71b2ad116286e336e518690d3": [
         {
          "datetime": "2022-01-30T00:00:00",
          "resting_heart_rate": 56.8125,
          "textleft": "",
          "textright": "",
          "timestamp": 1012409670,
          "value": 122.25
         },
         {
          "datetime": "2022-02-06T00:00:00",
          "resting_heart_rate": 54.714285714285715,
          "textleft": "",
          "textright": "",
          "timestamp": 1012885028.5714285,
          "value": 135.85714285714286
         },
         {
          "datetime": "2022-02-13T00:00:00",
          "resting_heart_rate": 54.857142857142854,
          "textleft": "",
          "textright": "",
          "timestamp": 1013489631.4285715,
          "value": 127.85714285714286
         },
         {
          "datetime": "2022-02-20T00:00:00",
          "resting_heart_rate": 55.285714285714285,
          "textleft": "",
          "textright": "",
          "timestamp": 1014094551.4285715,
          "value": 139.14285714285714
         },
         {
          "datetime": "2022-02-27T00:00:00",
          "resting_heart_rate": 56.635714285714286,
          "textleft": "",
          "textright": "",
          "timestamp": 1014699351.4285715,
          "value": 141.14285714285714
         },
         {
          "datetime": "2022-03-06T00:00:00",
          "resting_heart_rate": 53.82857142857143,
          "textleft": "",
          "textright": "",
          "timestamp": 1015304280,
          "value": 144.71428571428572
         },
         {
          "datetime": "2022-03-13T00:00:00",
          "resting_heart_rate": 55.857142857142854,
          "textleft": "",
          "textright": "",
          "timestamp": 1015908960,
          "value": 142.57142857142858
         },
         {
          "datetime": "2022-03-20T00:00:00",
          "resting_heart_rate": 52.31428571428571,
          "textleft": "",
          "textright": "",
          "timestamp": 1016513811.4285715,
          "value": 133.14285714285714
         },
         {
          "datetime": "2022-03-27T00:00:00",
          "resting_heart_rate": 53.714285714285715,
          "textleft": "",
          "textright": "",
          "timestamp": 1017118594.2857143,
          "value": 141
         },
         {
          "datetime": "2022-04-03T00:00:00",
          "resting_heart_rate": 51,
          "textleft": "",
          "textright": "",
          "timestamp": 1017722862.8571428,
          "value": 132.85714285714286
         },
         {
          "datetime": "2022-04-10T00:00:00",
          "resting_heart_rate": 53.857142857142854,
          "textleft": "",
          "textright": "",
          "timestamp": 1018326677.1428572,
          "value": 144.14285714285714
         },
         {
          "datetime": "2022-04-17T00:00:00",
          "resting_heart_rate": 55.42857142857143,
          "textleft": "",
          "textright": "",
          "timestamp": 1018932780,
          "value": 133.57142857142858
         },
         {
          "datetime": "2022-04-24T00:00:00",
          "resting_heart_rate": 55.285714285714285,
          "textleft": "",
          "textright": "",
          "timestamp": 1019537760,
          "value": 132
         },
         {
          "datetime": "2022-05-01T00:00:00",
          "resting_heart_rate": 59.285714285714285,
          "textleft": "",
          "textright": "",
          "timestamp": 1020140871.4285715,
          "value": 124.28571428571429
         },
         {
          "datetime": "2022-05-08T00:00:00",
          "resting_heart_rate": 62.69285714285714,
          "textleft": "",
          "textright": "",
          "timestamp": 1020745414.2857143,
          "value": 130
         },
         {
          "datetime": "2022-05-15T00:00:00",
          "resting_heart_rate": 61.875,
          "textleft": "",
          "textright": "",
          "timestamp": 1021312250,
          "value": 120.5
         },
         {
          "datetime": "2022-05-22T00:00:00",
          "resting_heart_rate": 58.68571428571429,
          "textleft": "",
          "textright": "",
          "timestamp": 1021955528.5714285,
          "value": 120
         },
         {
          "datetime": "2022-05-29T00:00:00",
          "resting_heart_rate": 55.42857142857143,
          "textleft": "",
          "textright": "",
          "timestamp": 1022561734.2857143,
          "value": 118.28571428571429
         },
         {
          "datetime": "2022-06-05T00:00:00",
          "resting_heart_rate": 53.5,
          "textleft": "",
          "textright": "",
          "timestamp": 1023149830,
          "value": 122
         },
         {
          "datetime": "2022-06-12T00:00:00",
          "resting_heart_rate": 53.07142857142857,
          "textleft": "",
          "textright": "",
          "timestamp": 1023771197.1428572,
          "value": 118
         },
         {
          "datetime": "2022-06-19T00:00:00",
          "resting_heart_rate": 54.121428571428574,
          "textleft": "",
          "textright": "",
          "timestamp": 1024375834.2857143,
          "value": 116.28571428571429
         },
         {
          "datetime": "2022-06-26T00:00:00",
          "resting_heart_rate": 51.57142857142857,
          "textleft": "",
          "textright": "",
          "timestamp": 1024979245.7142857,
          "value": 111
         },
         {
          "datetime": "2022-07-03T00:00:00",
          "resting_heart_rate": 54.5,
          "textleft": "",
          "textright": "",
          "timestamp": 1025628930,
          "value": 119.16666666666667
         },
         {
          "datetime": "2022-07-10T00:00:00",
          "resting_heart_rate": 54.42857142857143,
          "textleft": "",
          "textright": "",
          "timestamp": 1026188125.7142857,
          "value": 126.85714285714286
         },
         {
          "datetime": "2022-07-17T00:00:00",
          "resting_heart_rate": 52.285714285714285,
          "textleft": "",
          "textright": "",
          "timestamp": 1026795351.4285715,
          "value": 126
         },
         {
          "datetime": "2022-07-24T00:00:00",
          "resting_heart_rate": 52.42857142857143,
          "textleft": "",
          "textright": "",
          "timestamp": 1027399808.5714285,
          "value": 131
         },
         {
          "datetime": "2022-07-31T00:00:00",
          "resting_heart_rate": 56.42857142857143,
          "textleft": "",
          "textright": "",
          "timestamp": 1028004900,
          "value": 131.71428571428572
         },
         {
          "datetime": "2022-08-07T00:00:00",
          "resting_heart_rate": 52.57142857142857,
          "textleft": "",
          "textright": "",
          "timestamp": 1028609760,
          "value": 126.57142857142857
         },
         {
          "datetime": "2022-08-14T00:00:00",
          "resting_heart_rate": 50.878571428571426,
          "textleft": "",
          "textright": "",
          "timestamp": 1029214611.4285715,
          "value": 127.42857142857143
         },
         {
          "datetime": "2022-08-21T00:00:00",
          "resting_heart_rate": 52.285714285714285,
          "textleft": "",
          "textright": "",
          "timestamp": 1029819145.7142857,
          "value": 138.14285714285714
         },
         {
          "datetime": "2022-08-28T00:00:00",
          "resting_heart_rate": 51.833333333333336,
          "textleft": "",
          "textright": "",
          "timestamp": 1030380440,
          "value": 137.33333333333334
         }
        ]
       },
       "layer": [
        {
         "encoding": {
          "x": {
           "axis": {
            "title": "Month"
           },
           "field": "datetime",
           "type": "temporal"
          },
          "y": {
           "axis": {
            "title": "Resting heart rate",
            "titleColor": "blue"
           },
           "field": "resting_heart_rate",
           "scale": {
            "domain": [
             45,
             70
            ]
           },
           "type": "quantitative"
          }
         },
         "mark": {
          "color": "lightblue",
          "interpolate": "step-after",
          "line": true,
          "type": "area"
         }
        },
        {
         "encoding": {
          "x": {
           "axis": {
            "title": "Month"
           },
           "field": "datetime",
           "type": "temporal"
          },
          "y": {
           "axis": {
            "title": "Max heart rate",
            "titleColor": "red"
           },
           "field": "value",
           "scale": {
            "domain": [
             110,
             150
            ]
           },
           "type": "quantitative"
          }
         },
         "mark": {
          "color": "pink",
          "interpolate": "step-after",
          "line": {
           "color": "red"
          },
          "type": "area"
         }
        }
       ],
       "resolve": {
        "scale": {
         "y": "independent"
        }
       },
       "usermeta": {
        "embedOptions": {
         "theme": "fivethirtyeight"
        }
       }
      },
      "image/png": "[encoded data removed]",
      "text/plain": [
       "<VegaLite 4 object>\n",
       "\n",
       "If you see this message, it means the renderer has not been properly enabled\n",
       "for the frontend that you are using. For more information, see\n",
       "https://altair-viz.github.io/user_guide/troubleshooting.html\n"
      ]
     },
     "execution_count": 9,
     "metadata": {},
     "output_type": "execute_result"
    }
   ],
   "source": [
    "def clean_timeseries(df, freq='5s', agg='mean'):\n",
    "    df = df.set_index(df.datetime)\n",
    "    df.value = df.value.astype(float)\n",
    "    if agg == 'mean':\n",
    "        df = df.resample(freq).mean().reset_index()\n",
    "    elif agg == 'sum':\n",
    "        df = df.resample(freq).sum().reset_index()\n",
    "    df = df.interpolate('pad', limit=120)\n",
    "    return df\n",
    "\n",
    "df_ = df_long[(df_long.datetime >= '2022-01-28 00:00') & (df_long.datetime <= '2022-08-28 00:00')]\n",
    "\n",
    "df_plot = df_[df_.field == 'heart_rate']\n",
    "df_plot = df_plot.set_index(df_plot.datetime)\n",
    "df_plot.value = df_plot.value.astype(dtype=float)\n",
    "df_plot = df_plot[df_plot.value > 15]\n",
    "df_plot = df_plot.resample('1d', offset='1h').max()\n",
    "df_plot = df_plot.resample('1w').mean().reset_index()\n",
    "\n",
    "df_plot_2 = df_[df_.field == 'heart_rate']\n",
    "df_plot_2 = df_plot_2.set_index(df_plot_2.datetime)\n",
    "df_plot_2.value = df_plot_2.value.astype(dtype=float)\n",
    "df_plot_2 = df_plot_2[df_plot_2.value > 15]\n",
    "df_plot_2 = df_plot_2.resample('1d', offset='1h').quantile(.05)\n",
    "df_plot_2 = df_plot_2.resample('1w').mean().reset_index()\n",
    "\n",
    "df_plot['resting_heart_rate'] = df_plot_2.value\n",
    "\n",
    "#df_plot = clean_timeseries(df_plot, '1d', agg='mean')\n",
    "\n",
    "df_plot['textright'] = ''\n",
    "df_plot['textleft'] = ''\n",
    "\n",
    "chart = alt.Chart(df_plot)\n",
    "top = chart.mark_area(\n",
    "    color=\"lightblue\",\n",
    "    interpolate='step-after',\n",
    "    line=True,\n",
    ").encode(\n",
    "    x=alt.X('datetime', axis=alt.Axis(title='Month')),\n",
    "    y=alt.Y('resting_heart_rate', scale=alt.Scale(domain=((45, 70))), axis=alt.Axis(title='Resting heart rate', titleColor='blue'))\n",
    ")\n",
    "bottom = chart.mark_area(\n",
    "    color=\"pink\",\n",
    "    interpolate='step-after',\n",
    "    line={'color': 'red'},\n",
    ").encode(\n",
    "    x=alt.X('datetime', axis=alt.Axis(title='Month')),\n",
    "    y=alt.Y('value', scale=alt.Scale(domain=((110, 150))), axis=alt.Axis(title='Max heart rate', titleColor='red'))\n",
    ")\n",
    " \n",
    "# chart.mark_text(align='right', size=16).encode(x='datetime', y='value', text='textright') + \n",
    "# chart.mark_text(align='left', size=16).encode(x='datetime', y='value', text='textleft')).configure(\n",
    "#    background='white',\n",
    "#)#\n",
    "alt.layer(top, bottom).resolve_scale(\n",
    "    y = 'independent'\n",
    ").configure(background='white').configure_axis(gridOpacity=.25, labelColor='black')"
   ]
  },
  {
   "cell_type": "code",
   "execution_count": 10,
   "id": "f39b2a58-30e2-4e0c-923f-09321276451d",
   "metadata": {},
   "outputs": [
    {
     "data": {
      "application/vnd.vegalite.v4+json": {
       "$schema": "https://vega.github.io/schema/vega-lite/v4.17.0.json",
       "config": {
        "axis": {
         "gridOpacity": 0.5,
         "labelColor": "black"
        },
        "background": "white",
        "view": {
         "continuousHeight": 300,
         "continuousWidth": 400
        }
       },
       "data": {
        "name": "data-411f341ad9e66a79a8ca30314bb22bf9"
       },
       "datasets": {
        "data-411f341ad9e66a79a8ca30314bb22bf9": [
         {
          "datetime": "2022-03-14T00:00:00",
          "textleft": "",
          "textright": "",
          "timestamp": 1016252867.2131147,
          "value": 8.049180327868852
         },
         {
          "datetime": "2022-03-15T00:00:00",
          "textleft": "",
          "textright": "",
          "timestamp": 1016297594.8432056,
          "value": 18.818118466898955
         },
         {
          "datetime": "2022-03-16T00:00:00",
          "textleft": "",
          "textright": "",
          "timestamp": 1016384207.7980365,
          "value": 10.860448807854137
         },
         {
          "datetime": "2022-03-17T00:00:00",
          "textleft": "",
          "textright": "",
          "timestamp": 1016470693.081761,
          "value": 16.30607966457023
         },
         {
          "datetime": "2022-03-18T00:00:00",
          "textleft": "",
          "textright": "",
          "timestamp": 1016557013.6995827,
          "value": 10.932545201668985
         },
         {
          "datetime": "2022-03-19T00:00:00",
          "textleft": "",
          "textright": "",
          "timestamp": 1016643506.7685893,
          "value": 6.6997915218902016
         },
         {
          "datetime": "2022-03-20T00:00:00",
          "textleft": "",
          "textright": "",
          "timestamp": 1016729967.9216235,
          "value": 9.358992302309307
         },
         {
          "datetime": "2022-03-21T00:00:00",
          "textleft": "",
          "textright": "",
          "timestamp": 1016816186.7449896,
          "value": 13.178991015894955
         },
         {
          "datetime": "2022-03-22T00:00:00",
          "textleft": "",
          "textright": "",
          "timestamp": 1016902543.349481,
          "value": 16.34948096885813
         },
         {
          "datetime": "2022-03-23T00:00:00",
          "textleft": "",
          "textright": "",
          "timestamp": 1016988921.965398,
          "value": 14.366782006920415
         },
         {
          "datetime": "2022-03-24T00:00:00",
          "textleft": "",
          "textright": "",
          "timestamp": 1017075418.9204153,
          "value": 12.863667820069205
         },
         {
          "datetime": "2022-03-25T00:00:00",
          "textleft": "",
          "textright": "",
          "timestamp": 1017161820.4968944,
          "value": 10.690131124913734
         },
         {
          "datetime": "2022-03-26T00:00:00",
          "textleft": "",
          "textright": "",
          "timestamp": 1017248229.9378881,
          "value": 11.18495514147688
         },
         {
          "datetime": "2022-03-27T00:00:00",
          "textleft": "",
          "textright": "",
          "timestamp": 1017334632.1655172,
          "value": 8.551724137931034
         },
         {
          "datetime": "2022-03-28T00:00:00",
          "textleft": "",
          "textright": "",
          "timestamp": 1017421067.6837726,
          "value": 12.876560332871012
         },
         {
          "datetime": "2022-03-29T00:00:00",
          "textleft": "",
          "textright": "",
          "timestamp": 1017507373.153527,
          "value": 6.508298755186722
         },
         {
          "datetime": "2022-03-30T00:00:00",
          "textleft": "",
          "textright": "",
          "timestamp": 1017593830.443828,
          "value": 10.33495145631068
         },
         {
          "datetime": "2022-03-31T00:00:00",
          "textleft": "",
          "textright": "",
          "timestamp": 1017680225.0931677,
          "value": 10.970324361628709
         },
         {
          "datetime": "2022-04-01T00:00:00",
          "textleft": "",
          "textright": "",
          "timestamp": 1017766507.0124482,
          "value": 13.778008298755188
         },
         {
          "datetime": "2022-04-02T00:00:00",
          "textleft": "",
          "textright": "",
          "timestamp": 1017853171.9889503,
          "value": 10.81975138121547
         },
         {
          "datetime": "2022-04-03T00:00:00",
          "textleft": "",
          "textright": "",
          "timestamp": 1017939385.3526971,
          "value": 17.70124481327801
         },
         {
          "datetime": "2022-04-04T00:00:00",
          "textleft": "",
          "textright": "",
          "timestamp": 1018025679.308915,
          "value": 14.472011057360055
         },
         {
          "datetime": "2022-04-05T00:00:00",
          "textleft": "",
          "textright": "",
          "timestamp": 1018112217.4094708,
          "value": 12.327298050139277
         },
         {
          "datetime": "2022-04-06T00:00:00",
          "textleft": "",
          "textright": "",
          "timestamp": 1018198296.1087866,
          "value": 15.486750348675034
         },
         {
          "datetime": "2022-04-07T00:00:00",
          "textleft": "",
          "textright": "",
          "timestamp": 1018284964.6952908,
          "value": 12.318559556786704
         },
         {
          "datetime": "2022-04-08T00:00:00",
          "textleft": "",
          "textright": "",
          "timestamp": 1018371341.5256588,
          "value": 10.97018030513176
         },
         {
          "datetime": "2022-04-09T00:00:00",
          "textleft": "",
          "textright": "",
          "timestamp": 1018457790.5628909,
          "value": 9.553856845031271
         },
         {
          "datetime": "2022-04-10T00:00:00",
          "textleft": "",
          "textright": "",
          "timestamp": 1018544060.5174825,
          "value": 13.363636363636363
         },
         {
          "datetime": "2022-04-11T00:00:00",
          "textleft": "",
          "textright": "",
          "timestamp": 1018630122.0622838,
          "value": 13.280968858131487
         },
         {
          "datetime": "2022-04-12T00:00:00",
          "textleft": "",
          "textright": "",
          "timestamp": 1018716893.7170596,
          "value": 20.14840499306519
         },
         {
          "datetime": "2022-04-13T00:00:00",
          "textleft": "",
          "textright": "",
          "timestamp": 1018803345.4771785,
          "value": 13.964038727524205
         },
         {
          "datetime": "2022-04-14T00:00:00",
          "textleft": "",
          "textright": "",
          "timestamp": 1018889836.7014614,
          "value": 15.237299930410577
         },
         {
          "datetime": "2022-04-15T00:00:00",
          "textleft": "",
          "textright": "",
          "timestamp": 1018976375.2427185,
          "value": 20.748266296809987
         },
         {
          "datetime": "2022-04-16T00:00:00",
          "textleft": "",
          "textright": "",
          "timestamp": 1019062749.2339833,
          "value": 14.143454038997215
         },
         {
          "datetime": "2022-04-17T00:00:00",
          "textleft": "",
          "textright": "",
          "timestamp": 1019148220.2229965,
          "value": 5.880836236933798
         },
         {
          "datetime": "2022-04-18T00:00:00",
          "textleft": "",
          "textright": "",
          "timestamp": 1019235501.7313019,
          "value": 17.90235457063712
         },
         {
          "datetime": "2022-04-19T00:00:00",
          "textleft": "",
          "textright": "",
          "timestamp": 1019321790.0833334,
          "value": 16.77986111111111
         },
         {
          "datetime": "2022-04-20T00:00:00",
          "textleft": "",
          "textright": "",
          "timestamp": 1019408154.1160221,
          "value": 18.037983425414364
         },
         {
          "datetime": "2022-04-21T00:00:00",
          "textleft": "",
          "textright": "",
          "timestamp": 1019494661.995842,
          "value": 14.944559944559945
         },
         {
          "datetime": "2022-04-22T00:00:00",
          "textleft": "",
          "textright": "",
          "timestamp": 1019581068.1748786,
          "value": 7.07147814018043
         },
         {
          "datetime": "2022-04-23T00:00:00",
          "textleft": "",
          "textright": "",
          "timestamp": 1019667413.4212352,
          "value": 8.190145732130466
         },
         {
          "datetime": "2022-04-24T00:00:00",
          "textleft": "",
          "textright": "",
          "timestamp": 1019753909.45758,
          "value": 12.472183588317106
         },
         {
          "datetime": "2022-04-25T00:00:00",
          "textleft": "",
          "textright": "",
          "timestamp": 1019840137.8551532,
          "value": 15.739554317548746
         },
         {
          "datetime": "2022-04-26T00:00:00",
          "textleft": "",
          "textright": "",
          "timestamp": 1019926165.7979094,
          "value": 7.908710801393728
         },
         {
          "datetime": "2022-04-27T00:00:00",
          "textleft": "",
          "textright": "Accident •",
          "timestamp": 1020012942.0627178,
          "value": 36.00836236933798
         },
         {
          "datetime": "2022-04-28T00:00:00",
          "textleft": "",
          "textright": "",
          "timestamp": 1020099426.6062717,
          "value": 32.77700348432056
         },
         {
          "datetime": "2022-04-29T00:00:00",
          "textleft": "",
          "textright": "",
          "timestamp": 1020185828.4459931,
          "value": 25.29616724738676
         },
         {
          "datetime": "2022-04-30T00:00:00",
          "textleft": "",
          "textright": "",
          "timestamp": 1020272241.4255766,
          "value": 15.105520614954576
         },
         {
          "datetime": "2022-05-01T00:00:00",
          "textleft": "",
          "textright": "",
          "timestamp": 1020359473.3283803,
          "value": 21.765230312035662
         },
         {
          "datetime": "2022-05-02T00:00:00",
          "textleft": "",
          "textright": "",
          "timestamp": 1020445123.6786469,
          "value": 16.78787878787879
         },
         {
          "datetime": "2022-05-03T00:00:00",
          "textleft": "",
          "textright": "",
          "timestamp": 1020531275.5430183,
          "value": 17.712270803949224
         },
         {
          "datetime": "2022-05-04T00:00:00",
          "textleft": "",
          "textright": "",
          "timestamp": 1020617699.7048489,
          "value": 17.065354884047785
         },
         {
          "datetime": "2022-05-05T00:00:00",
          "textleft": "",
          "textright": "",
          "timestamp": 1020704108.703574,
          "value": 14.334968465311842
         },
         {
          "datetime": "2022-05-06T00:00:00",
          "textleft": "",
          "textright": "",
          "timestamp": 1020789683.4537572,
          "value": 14.627167630057803
         },
         {
          "datetime": "2022-05-07T00:00:00",
          "textleft": "",
          "textright": "",
          "timestamp": 1020876879.9583334,
          "value": 14.329166666666667
         },
         {
          "datetime": "2022-05-08T00:00:00",
          "textleft": "",
          "textright": "",
          "timestamp": 1020963399.9722415,
          "value": 13.522553782095766
         },
         {
          "datetime": "2022-05-09T00:00:00",
          "textleft": "",
          "textright": "",
          "timestamp": 1021049728.625,
          "value": 13.935416666666667
         },
         {
          "datetime": "2022-05-10T00:00:00",
          "textleft": "",
          "textright": "",
          "timestamp": 1021136105.6485356,
          "value": 22.65481171548117
         },
         {
          "datetime": "2022-05-11T00:00:00",
          "textleft": "",
          "textright": "",
          "timestamp": 1021222480.6115358,
          "value": 13.116747741487144
         },
         {
          "datetime": "2022-05-12T00:00:00",
          "textleft": "",
          "textright": "",
          "timestamp": 1021308951.125,
          "value": 11.955555555555556
         },
         {
          "datetime": "2022-05-13T00:00:00",
          "textleft": "",
          "textright": "",
          "timestamp": 1021398515.7231588,
          "value": 3.114463176574978
         },
         {
          "datetime": "2022-05-15T00:00:00",
          "textleft": "",
          "textright": "",
          "timestamp": 1021567407.2272412,
          "value": 1.1570535093815149
         },
         {
          "datetime": "2022-05-16T00:00:00",
          "textleft": "",
          "textright": "",
          "timestamp": 1021654543.5343035,
          "value": 14.8004158004158
         },
         {
          "datetime": "2022-05-17T00:00:00",
          "textleft": "",
          "textright": "",
          "timestamp": 1021740891.1605282,
          "value": 15.170952050034746
         },
         {
          "datetime": "2022-05-18T00:00:00",
          "textleft": "",
          "textright": "",
          "timestamp": 1021827344.8232849,
          "value": 12.861399861399862
         },
         {
          "datetime": "2022-05-19T00:00:00",
          "textleft": "",
          "textright": "",
          "timestamp": 1021913731.08484,
          "value": 15.305980528511823
         },
         {
          "datetime": "2022-05-20T00:00:00",
          "textleft": "",
          "textright": "",
          "timestamp": 1022000120.4715673,
          "value": 18.58391123439667
         },
         {
          "datetime": "2022-05-21T00:00:00",
          "textleft": "",
          "textright": "",
          "timestamp": 1022085889.9929329,
          "value": 14.673498233215549
         },
         {
          "datetime": "2022-05-23T00:00:00",
          "textleft": "",
          "textright": "",
          "timestamp": 1022259184.8339223,
          "value": 16.703180212014136
         },
         {
          "datetime": "2022-05-24T00:00:00",
          "textleft": "",
          "textright": "",
          "timestamp": 1022345703.5021096,
          "value": 11.791139240506329
         },
         {
          "datetime": "2022-05-25T00:00:00",
          "textleft": "",
          "textright": "",
          "timestamp": 1022432011.2842106,
          "value": 11.670175438596491
         },
         {
          "datetime": "2022-05-26T00:00:00",
          "textleft": "",
          "textright": "",
          "timestamp": 1022518511.2,
          "value": 29.32701754385965
         },
         {
          "datetime": "2022-05-27T00:00:00",
          "textleft": "",
          "textright": "",
          "timestamp": 1022604864.5357902,
          "value": 15.302622253720765
         },
         {
          "datetime": "2022-05-28T00:00:00",
          "textleft": "",
          "textright": "",
          "timestamp": 1022691211.0388693,
          "value": 8.954770318021202
         },
         {
          "datetime": "2022-05-29T00:00:00",
          "textleft": "",
          "textright": "",
          "timestamp": 1022777682.6160338,
          "value": 11.024613220815752
         },
         {
          "datetime": "2022-05-30T00:00:00",
          "textleft": "",
          "textright": "",
          "timestamp": 1022864074.539057,
          "value": 11.77832512315271
         },
         {
          "datetime": "2022-05-31T00:00:00",
          "textleft": "",
          "textright": "",
          "timestamp": 1022950410.6526315,
          "value": 20.275087719298245
         },
         {
          "datetime": "2022-06-01T00:00:00",
          "textleft": "",
          "textright": "",
          "timestamp": 1023036940.9396914,
          "value": 10.309957924263674
         },
         {
          "datetime": "2022-06-02T00:00:00",
          "textleft": "",
          "textright": "",
          "timestamp": 1023116157.4533107,
          "value": 8.892190152801358
         },
         {
          "datetime": "2022-06-04T00:00:00",
          "textleft": "",
          "textright": "",
          "timestamp": 1023324878.3298539,
          "value": 13.384133611691023
         },
         {
          "datetime": "2022-06-05T00:00:00",
          "textleft": "",
          "textright": "",
          "timestamp": 1023382561.0105263,
          "value": 20.577543859649122
         },
         {
          "datetime": "2022-06-06T00:00:00",
          "textleft": "",
          "textright": "",
          "timestamp": 1023468993.1034483,
          "value": 14.197748064743138
         },
         {
          "datetime": "2022-06-07T00:00:00",
          "textleft": "",
          "textright": "",
          "timestamp": 1023555341.8614416,
          "value": 13.653603918824352
         },
         {
          "datetime": "2022-06-08T00:00:00",
          "textleft": "",
          "textright": "",
          "timestamp": 1023641782.568421,
          "value": 11.07298245614035
         },
         {
          "datetime": "2022-06-09T00:00:00",
          "textleft": "",
          "textright": "",
          "timestamp": 1023731100,
          "value": 8.797054009819968
         },
         {
          "datetime": "2022-06-10T00:00:00",
          "textleft": "",
          "textright": "",
          "timestamp": 1023814540.718816,
          "value": 12.052854122621564
         },
         {
          "datetime": "2022-06-11T00:00:00",
          "textleft": "",
          "textright": "",
          "timestamp": 1023900906.231579,
          "value": 13.388070175438596
         },
         {
          "datetime": "2022-06-12T00:00:00",
          "textleft": "",
          "textright": "",
          "timestamp": 1023987273.8428875,
          "value": 8.370842179759377
         },
         {
          "datetime": "2022-06-13T00:00:00",
          "textleft": "",
          "textright": "",
          "timestamp": 1024073590.1830986,
          "value": 11.871830985915492
         },
         {
          "datetime": "2022-06-14T00:00:00",
          "textleft": "",
          "textright": "",
          "timestamp": 1024160145.5084746,
          "value": 17.75776836158192
         },
         {
          "datetime": "2022-06-15T00:00:00",
          "textleft": "",
          "textright": "",
          "timestamp": 1024246031.8907562,
          "value": 18.199579831932773
         },
         {
          "datetime": "2022-06-16T00:00:00",
          "textleft": "",
          "textright": "",
          "timestamp": 1024333046.0042284,
          "value": 14.164200140944327
         },
         {
          "datetime": "2022-06-17T00:00:00",
          "textleft": "",
          "textright": "",
          "timestamp": 1024419397.6421052,
          "value": 17.07719298245614
         },
         {
          "datetime": "2022-06-18T00:00:00",
          "textleft": "",
          "textright": "",
          "timestamp": 1024505711.0548524,
          "value": 10.768635724331928
         },
         {
          "datetime": "2022-06-19T00:00:00",
          "textleft": "",
          "textright": "",
          "timestamp": 1024592024.9468462,
          "value": 11.400425230333097
         },
         {
          "datetime": "2022-06-20T00:00:00",
          "textleft": "",
          "textright": "",
          "timestamp": 1024678511.5498939,
          "value": 5.909412597310687
         },
         {
          "datetime": "2022-06-21T00:00:00",
          "textleft": "",
          "textright": "",
          "timestamp": 1024764914.3864598,
          "value": 8.559943582510579
         },
         {
          "datetime": "2022-06-22T00:00:00",
          "textleft": "",
          "textright": "",
          "timestamp": 1024851258.7659575,
          "value": 8.642553191489363
         },
         {
          "datetime": "2022-06-23T00:00:00",
          "textleft": "",
          "textright": "",
          "timestamp": 1024937689.936575,
          "value": 13.16983791402396
         },
         {
          "datetime": "2022-06-24T00:00:00",
          "textleft": "",
          "textright": "",
          "timestamp": 1025024189.533239,
          "value": 13.603253182461103
         },
         {
          "datetime": "2022-06-25T00:00:00",
          "textleft": "",
          "textright": "",
          "timestamp": 1025110653.2723434,
          "value": 10.88106966924701
         },
         {
          "datetime": "2022-06-26T00:00:00",
          "textleft": "",
          "textright": "",
          "timestamp": 1025190955.9413203,
          "value": 12.19315403422983
         },
         {
          "datetime": "2022-06-28T00:00:00",
          "textleft": "",
          "textright": "",
          "timestamp": 1025369470.9865153,
          "value": 7.34847409510291
         },
         {
          "datetime": "2022-06-29T00:00:00",
          "textleft": "",
          "textright": "",
          "timestamp": 1025456187.2881356,
          "value": 11.866525423728813
         },
         {
          "datetime": "2022-06-30T00:00:00",
          "textleft": "",
          "textright": "",
          "timestamp": 1025542541.0726888,
          "value": 27.119266055045873
         },
         {
          "datetime": "2022-07-01T00:00:00",
          "textleft": "",
          "textright": "",
          "timestamp": 1025629031.601976,
          "value": 27.032462949894143
         },
         {
          "datetime": "2022-07-02T00:00:00",
          "textleft": "",
          "textright": "",
          "timestamp": 1025715384.6534654,
          "value": 25.958274398868458
         },
         {
          "datetime": "2022-07-03T00:00:00",
          "textleft": "",
          "textright": "",
          "timestamp": 1025801490.2748414,
          "value": 20.83016208597604
         },
         {
          "datetime": "2022-07-04T00:00:00",
          "textleft": "• ✈️Mexico ",
          "textright": "",
          "timestamp": 1025888124.3710471,
          "value": 27.472241742796907
         },
         {
          "datetime": "2022-07-05T00:00:00",
          "textleft": "",
          "textright": "",
          "timestamp": 1025974815.4634831,
          "value": 14.34620786516854
         },
         {
          "datetime": "2022-07-06T00:00:00",
          "textleft": "",
          "textright": "",
          "timestamp": 1026061275.7558552,
          "value": 12.314407381121363
         },
         {
          "datetime": "2022-07-07T00:00:00",
          "textleft": "",
          "textright": "",
          "timestamp": 1026147312.2191011,
          "value": 10.976123595505618
         },
         {
          "datetime": "2022-07-08T00:00:00",
          "textleft": "",
          "textright": "",
          "timestamp": 1026233468.5835096,
          "value": 7.727977448907682
         },
         {
          "datetime": "2022-07-09T00:00:00",
          "textleft": "",
          "textright": "",
          "timestamp": 1026319687.1257906,
          "value": 12.382290934645116
         },
         {
          "datetime": "2022-07-10T00:00:00",
          "textleft": "",
          "textright": "",
          "timestamp": 1026406832.0056899,
          "value": 16.614509246088193
         },
         {
          "datetime": "2022-07-11T00:00:00",
          "textleft": "",
          "textright": "",
          "timestamp": 1026493022.0617111,
          "value": 18.88008415147265
         },
         {
          "datetime": "2022-07-12T00:00:00",
          "textleft": "",
          "textright": "",
          "timestamp": 1026579444.4992948,
          "value": 9.843441466854724
         },
         {
          "datetime": "2022-07-13T00:00:00",
          "textleft": "",
          "textright": "",
          "timestamp": 1026665672.5545391,
          "value": 14.980999296270232
         },
         {
          "datetime": "2022-07-14T00:00:00",
          "textleft": "",
          "textright": "",
          "timestamp": 1026751985.5696203,
          "value": 16.155414908579466
         },
         {
          "datetime": "2022-07-15T00:00:00",
          "textleft": "",
          "textright": "",
          "timestamp": 1026838457.9787986,
          "value": 18.287632508833923
         },
         {
          "datetime": "2022-07-16T00:00:00",
          "textleft": "",
          "textright": "",
          "timestamp": 1026924955.2799433,
          "value": 14.941176470588236
         },
         {
          "datetime": "2022-07-17T00:00:00",
          "textleft": "",
          "textright": "",
          "timestamp": 1027011446.1036196,
          "value": 11.770759403832505
         },
         {
          "datetime": "2022-07-18T00:00:00",
          "textleft": "",
          "textright": "",
          "timestamp": 1027098033.5202953,
          "value": 9.14760147601476
         },
         {
          "datetime": "2022-07-19T00:00:00",
          "textleft": "",
          "textright": "",
          "timestamp": 1027184577.9029957,
          "value": 8.726105563480742
         },
         {
          "datetime": "2022-07-20T00:00:00",
          "textleft": "",
          "textright": "",
          "timestamp": 1027270418.2237762,
          "value": 13.171328671328672
         },
         {
          "datetime": "2022-07-21T00:00:00",
          "textleft": "",
          "textright": "",
          "timestamp": 1027356951.4165498,
          "value": 10.88148667601683
         },
         {
          "datetime": "2022-07-22T00:00:00",
          "textleft": "",
          "textright": "",
          "timestamp": 1027443291.261324,
          "value": 9.085714285714285
         },
         {
          "datetime": "2022-07-23T00:00:00",
          "textleft": "",
          "textright": "",
          "timestamp": 1027529915.4221913,
          "value": 10.788555478018143
         },
         {
          "datetime": "2022-07-24T00:00:00",
          "textleft": "",
          "textright": "",
          "timestamp": 1027616010.5255781,
          "value": 19.58374211632796
         },
         {
          "datetime": "2022-07-25T00:00:00",
          "textleft": "",
          "textright": "",
          "timestamp": 1027702408.5127479,
          "value": 13.121813031161473
         },
         {
          "datetime": "2022-07-26T00:00:00",
          "textleft": "",
          "textright": "",
          "timestamp": 1027789009.8041958,
          "value": 14.26993006993007
         },
         {
          "datetime": "2022-07-27T00:00:00",
          "textleft": "",
          "textright": "",
          "timestamp": 1027875275.3286713,
          "value": 16.82027972027972
         },
         {
          "datetime": "2022-07-28T00:00:00",
          "textleft": "",
          "textright": "",
          "timestamp": 1027972033.8787879,
          "value": 8.968686868686868
         },
         {
          "datetime": "2022-07-29T00:00:00",
          "textleft": "",
          "textright": "",
          "timestamp": 1028048203.4410112,
          "value": 18.912219101123597
         },
         {
          "datetime": "2022-07-30T00:00:00",
          "textleft": "",
          "textright": "",
          "timestamp": 1028134647.8406708,
          "value": 10.3340321453529
         },
         {
          "datetime": "2022-07-31T00:00:00",
          "textleft": "",
          "textright": "",
          "timestamp": 1028221043.2489451,
          "value": 15.686357243319268
         },
         {
          "datetime": "2022-08-01T00:00:00",
          "textleft": "",
          "textright": "",
          "timestamp": 1028307785.8762887,
          "value": 7.270986745213549
         },
         {
          "datetime": "2022-08-02T00:00:00",
          "textleft": "",
          "textright": "",
          "timestamp": 1028393918.0869565,
          "value": 11.571739130434782
         },
         {
          "datetime": "2022-08-03T00:00:00",
          "textleft": "",
          "textright": "",
          "timestamp": 1028479842.722737,
          "value": 9.366357804704204
         },
         {
          "datetime": "2022-08-04T00:00:00",
          "textleft": "",
          "textright": "",
          "timestamp": 1028566910.227596,
          "value": 13.367709815078236
         },
         {
          "datetime": "2022-08-05T00:00:00",
          "textleft": "",
          "textright": "",
          "timestamp": 1028652933.911205,
          "value": 12.708245243128964
         },
         {
          "datetime": "2022-08-06T00:00:00",
          "textleft": "",
          "textright": "",
          "timestamp": 1028739366.568421,
          "value": 17.108070175438595
         },
         {
          "datetime": "2022-08-07T00:00:00",
          "textleft": "",
          "textright": "",
          "timestamp": 1028825763.895554,
          "value": 10.74029640084686
         },
         {
          "datetime": "2022-08-08T00:00:00",
          "textleft": "",
          "textright": "",
          "timestamp": 1028912145.8625526,
          "value": 10.12201963534362
         },
         {
          "datetime": "2022-08-09T00:00:00",
          "textleft": "",
          "textright": "",
          "timestamp": 1028998431.9578947,
          "value": 7.912280701754386
         },
         {
          "datetime": "2022-08-10T00:00:00",
          "textleft": "",
          "textright": "",
          "timestamp": 1029084872.6040932,
          "value": 10.204657727593508
         },
         {
          "datetime": "2022-08-11T00:00:00",
          "textleft": "",
          "textright": "",
          "timestamp": 1029171171.4827828,
          "value": 10.415319747013353
         },
         {
          "datetime": "2022-08-12T00:00:00",
          "textleft": "",
          "textright": "",
          "timestamp": 1029257829.7615708,
          "value": 13.065217391304348
         },
         {
          "datetime": "2022-08-13T00:00:00",
          "textleft": "",
          "textright": "",
          "timestamp": 1029344239.255618,
          "value": 21.531601123595507
         },
         {
          "datetime": "2022-08-14T00:00:00",
          "textleft": "",
          "textright": "",
          "timestamp": 1029430702.9992993,
          "value": 15.292221443587946
         },
         {
          "datetime": "2022-08-15T00:00:00",
          "textleft": "",
          "textright": "",
          "timestamp": 1029516982.9436619,
          "value": 19.057746478873238
         },
         {
          "datetime": "2022-08-16T00:00:00",
          "textleft": "",
          "textright": "",
          "timestamp": 1029603663.869596,
          "value": 7.533664068036853
         },
         {
          "datetime": "2022-08-17T00:00:00",
          "textleft": "",
          "textright": "",
          "timestamp": 1029689467.0714285,
          "value": 9.715714285714286
         },
         {
          "datetime": "2022-08-18T00:00:00",
          "textleft": "",
          "textright": "",
          "timestamp": 1029776057.4152542,
          "value": 9.57909604519774
         },
         {
          "datetime": "2022-08-19T00:00:00",
          "textleft": "",
          "textright": "",
          "timestamp": 1029863065.0826446,
          "value": 4.261019283746556
         },
         {
          "datetime": "2022-08-20T00:00:00",
          "textleft": "",
          "textright": "",
          "timestamp": 1029949937.352518,
          "value": 18.833093525179855
         },
         {
          "datetime": "2022-08-21T00:00:00",
          "textleft": "",
          "textright": "",
          "timestamp": 1030035440.7163324,
          "value": 15.896131805157593
         },
         {
          "datetime": "2022-08-22T00:00:00",
          "textleft": "",
          "textright": "",
          "timestamp": 1030121587.1641791,
          "value": 15.095238095238095
         },
         {
          "datetime": "2022-08-23T00:00:00",
          "textleft": "",
          "textright": "",
          "timestamp": 1030208037.189496,
          "value": 11.969481902058197
         },
         {
          "datetime": "2022-08-24T00:00:00",
          "textleft": "",
          "textright": "",
          "timestamp": 1030294394.3815514,
          "value": 8.030747728860936
         },
         {
          "datetime": "2022-08-25T00:00:00",
          "textleft": "",
          "textright": "",
          "timestamp": 1030380864.3817787,
          "value": 14.281272595806218
         },
         {
          "datetime": "2022-08-26T00:00:00",
          "textleft": "",
          "textright": "",
          "timestamp": 1030467347.3995771,
          "value": 9.442565186751233
         },
         {
          "datetime": "2022-08-27T00:00:00",
          "textleft": "",
          "textright": "",
          "timestamp": 1030552151.9822485,
          "value": 14.127218934911243
         }
        ]
       },
       "layer": [
        {
         "encoding": {
          "x": {
           "axis": {
            "title": "Month"
           },
           "field": "datetime",
           "type": "temporal"
          },
          "y": {
           "axis": {
            "title": "Stress (negative of HRV)"
           },
           "field": "value",
           "scale": {
            "domain": [
             0,
             50
            ]
           },
           "type": "quantitative"
          }
         },
         "mark": {
          "color": "lightblue",
          "interpolate": "step-after",
          "line": true,
          "type": "area"
         }
        },
        {
         "encoding": {
          "text": {
           "field": "textright",
           "type": "nominal"
          },
          "x": {
           "field": "datetime",
           "type": "temporal"
          },
          "y": {
           "field": "value",
           "type": "quantitative"
          }
         },
         "mark": {
          "align": "right",
          "size": 16,
          "type": "text"
         }
        },
        {
         "encoding": {
          "text": {
           "field": "textleft",
           "type": "nominal"
          },
          "x": {
           "field": "datetime",
           "type": "temporal"
          },
          "y": {
           "field": "value",
           "type": "quantitative"
          }
         },
         "mark": {
          "align": "left",
          "size": 16,
          "type": "text"
         }
        }
       ],
       "usermeta": {
        "embedOptions": {
         "theme": "fivethirtyeight"
        }
       }
      },
      "image/png": "[encoded data removed]",
      "text/plain": [
       "<VegaLite 4 object>\n",
       "\n",
       "If you see this message, it means the renderer has not been properly enabled\n",
       "for the frontend that you are using. For more information, see\n",
       "https://altair-viz.github.io/user_guide/troubleshooting.html\n"
      ]
     },
     "execution_count": 10,
     "metadata": {},
     "output_type": "execute_result"
    }
   ],
   "source": [
    "def clean_timeseries(df, freq='5s', agg='mean'):\n",
    "    df = df.set_index(df.datetime)\n",
    "    df.value = df.value.astype(float)\n",
    "    if agg == 'mean':\n",
    "        df = df.resample(freq).mean().reset_index()\n",
    "    elif agg == 'sum':\n",
    "        df = df.resample(freq).sum().reset_index()\n",
    "    df = df.interpolate('pad', limit=120)\n",
    "    return df\n",
    "\n",
    "df_ = df_long[(df_long.datetime >= '2022-03-15 00:00') & (df_long.datetime <= '2022-08-28 00:00')]\n",
    "\n",
    "df_plot = df_[df_.field == 'stress_level_value']\n",
    "#df_plot = df_plot[df_plot.value >= 0]\n",
    "df_plot = df_plot.set_index(df_plot.datetime)\n",
    "df_plot.value = df_plot.value.astype(dtype=float)\n",
    "df_plot = df_plot.resample('1d', offset='1h').mean()\n",
    "df_plot = df_plot.resample('1d').mean().reset_index()\n",
    "df_plot = df_plot[df_plot.value >= 0]\n",
    "\n",
    "#df_plot = clean_timeseries(df_plot, '1d', agg='mean')\n",
    "\n",
    "df_plot['textright'] = ''\n",
    "df_plot['textleft'] = ''\n",
    "df_plot.loc[df_plot.value == df_plot.value.max(), 'textright'] = 'Accident •'\n",
    "df_plot.loc[df_plot.datetime == '2022-07-04', 'textleft'] = '• ✈️Mexico '\n",
    "\n",
    "chart = alt.Chart(df_plot)\n",
    "(chart.mark_area(\n",
    "    color=\"lightblue\",\n",
    "    interpolate='step-after',\n",
    "    line=True,\n",
    ").encode(\n",
    "    x=alt.X('datetime', axis=alt.Axis(title='Month')),\n",
    "    y=alt.Y('value', scale=alt.Scale(domain=((0, 50))), axis=alt.Axis(title='Stress (negative of HRV)'))\n",
    ") + \n",
    " chart.mark_text(align='right', size=16).encode(x='datetime', y='value', text='textright') + \n",
    " chart.mark_text(align='left', size=16).encode(x='datetime', y='value', text='textleft')).configure(\n",
    "    background='white',\n",
    ").configure_axis(gridOpacity=.5, labelColor='black')"
   ]
  }
 ],
 "metadata": {
  "kernelspec": {
   "display_name": "Python 3 (ipykernel)",
   "language": "python",
   "name": "python3"
  },
  "language_info": {
   "codemirror_mode": {
    "name": "ipython",
    "version": 3
   },
   "file_extension": ".py",
   "mimetype": "text/x-python",
   "name": "python",
   "nbconvert_exporter": "python",
   "pygments_lexer": "ipython3",
   "version": "3.9.12"
  }
 },
 "nbformat": 4,
 "nbformat_minor": 5
}
